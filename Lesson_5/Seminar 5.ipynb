{
 "cells": [
  {
   "cell_type": "markdown",
   "metadata": {},
   "source": [
    "## Самостоятельная работа 5"
   ]
  },
  {
   "cell_type": "markdown",
   "metadata": {},
   "source": [
    "Во всех задачах словом «массив» обозначается объект типа `np.array`. Везде, где не оговорено обратное, запрещается пользоваться циклами и list comprehensions!"
   ]
  },
  {
   "cell_type": "markdown",
   "metadata": {},
   "source": [
    "### Задача 1\n",
    "Написать функцию `double_this(arr)`, принимающую на вход массив `arr`, состоящий из чисел, и возвращающую массив, полученный удвоением каждого элемента `arr`.\n",
    "\n",
    "**Подсказка:** Операции с массивами действуют поэлементно."
   ]
  },
  {
   "cell_type": "code",
   "execution_count": 2,
   "metadata": {},
   "outputs": [],
   "source": [
    "#решение"
   ]
  },
  {
   "cell_type": "markdown",
   "metadata": {},
   "source": [
    "### Задача 2\n",
    "Написать функцию `select_even(arr)`, принимающую на вход массив целых чисел `arr` и возвращающую новый массив, который состоит из всех *чётных* элементов `arr`.\n",
    "\n",
    "**Подсказка:** напомним, что все арифметические операции, а также операции сравнения, действуют на массивы поэлементно."
   ]
  },
  {
   "cell_type": "code",
   "execution_count": 4,
   "metadata": {},
   "outputs": [],
   "source": [
    "#решение"
   ]
  },
  {
   "cell_type": "markdown",
   "metadata": {},
   "source": [
    "### Задача 3\n",
    "Написать функцию `wipe_even(arr, target_value, in_place)`, принимающую на вход массив целых чисел `arr`, и возвращающую массив, полученный из `arr` путём замены всех чётных элементов на  `target_value`. Если `target_value` не указано, то оно должно считаться равным числу 0. Если указан параметр `in_place` и он равен `True`, то функция должна менять исходный массив, а если не указан или указан в `False`, то сохранять его неизменным."
   ]
  },
  {
   "cell_type": "code",
   "execution_count": 5,
   "metadata": {},
   "outputs": [],
   "source": [
    "#решение"
   ]
  }
 ],
 "metadata": {
  "kernelspec": {
   "display_name": "Python 3",
   "language": "python",
   "name": "python3"
  },
  "language_info": {
   "codemirror_mode": {
    "name": "ipython",
    "version": 3
   },
   "file_extension": ".py",
   "mimetype": "text/x-python",
   "name": "python",
   "nbconvert_exporter": "python",
   "pygments_lexer": "ipython3",
   "version": "3.7.0"
  }
 },
 "nbformat": 4,
 "nbformat_minor": 2
}
