{
 "cells": [
  {
   "cell_type": "markdown",
   "metadata": {},
   "source": [
    "# Занятие 6\n",
    "### Лекторы: Ярослав Петрик, Полина Тихонова\n",
    "\n",
    "*Составлено с использованием материалов курса лекций «Программирование на языке Python для сбора и анализа данных» Щурова И.В., НИУ ВШЭ*"
   ]
  },
  {
   "cell_type": "markdown",
   "metadata": {},
   "source": [
    "### Файловый ввод-вывод"
   ]
  },
  {
   "cell_type": "markdown",
   "metadata": {},
   "source": [
    "Допустим, мы хотим прочитать файл."
   ]
  },
  {
   "cell_type": "code",
   "execution_count": 2,
   "metadata": {
    "collapsed": false
   },
   "outputs": [
    {
     "name": "stdout",
     "output_type": "stream",
     "text": [
      "Hello, world!\n",
      "I'm here =)\n",
      "1\n",
      "2\n",
      "3\n"
     ]
    }
   ],
   "source": [
    "f = open(\"example.txt\")\n",
    "s = f.read()\n",
    "f.close()\n",
    "print(s)"
   ]
  },
  {
   "cell_type": "markdown",
   "metadata": {},
   "source": [
    "Что здесь произошло? Во-первых, мы открыли для чтения файл `func.txt`, лежащий в нашем текущем рабочем каталоге. Узнать, какой каталог рабочий, можно следующим образом:"
   ]
  },
  {
   "cell_type": "code",
   "execution_count": 3,
   "metadata": {
    "collapsed": false
   },
   "outputs": [
    {
     "data": {
      "text/plain": [
       "'C:\\\\Users\\\\tikho\\\\Documents\\\\WORK\\\\MIIGAiK\\\\Lesson 6'"
      ]
     },
     "execution_count": 3,
     "metadata": {},
     "output_type": "execute_result"
    }
   ],
   "source": [
    "import os\n",
    "os.getcwd()"
   ]
  },
  {
   "cell_type": "markdown",
   "metadata": {},
   "source": [
    "Функция `open()` вернула объект типа `file` — переменную, которую можно использовать, чтобы работать с файлом. Затем мы считали содержимое файла в строчку `s`, после чего закрыли файл. Закрывать файлы очень полезно: если вы забудете закрыть файл, другое приложение не сможет его открыть (например, чтобы в него что-нибудь записать).\n"
   ]
  },
  {
   "cell_type": "markdown",
   "metadata": {},
   "source": [
    "Функция `read()` считает весь файл в одну большую строковую переменную. Это не всегда бывает удобно (учитывая, что строки в Python неизменяемые и из-за этого работа с ними не всегда бывает эффективной), поэтому есть разные другие сценарии работы с файлами. Например, можно считать содержимое файла в список, разбив по строкам."
   ]
  },
  {
   "cell_type": "code",
   "execution_count": 5,
   "metadata": {
    "collapsed": false
   },
   "outputs": [],
   "source": [
    "f = open(\"example.txt\")\n",
    "lines = f.readlines()\n",
    "f.close()"
   ]
  },
  {
   "cell_type": "code",
   "execution_count": 6,
   "metadata": {
    "collapsed": false
   },
   "outputs": [
    {
     "name": "stdout",
     "output_type": "stream",
     "text": [
      "['Hello, world!\\n', \"I'm here =)\\n\", '1\\n', '2\\n', '3']\n"
     ]
    }
   ],
   "source": [
    "print(lines)"
   ]
  },
  {
   "cell_type": "markdown",
   "metadata": {},
   "source": [
    "Заметим, что каждая из строк заканивается символом перевода строки `\\n` — они присутствовали в файле и мы их честно из него считали. Вот так можно вывести файл по строкам, пронумеровав их:"
   ]
  },
  {
   "cell_type": "code",
   "execution_count": 7,
   "metadata": {
    "collapsed": false
   },
   "outputs": [
    {
     "name": "stdout",
     "output_type": "stream",
     "text": [
      "1 Hello, world!\n",
      "2 I'm here =)\n",
      "3 1\n",
      "4 2\n",
      "5 3"
     ]
    }
   ],
   "source": [
    "for i, line in enumerate(lines, 1):\n",
    "    print(i, line, end=\"\")"
   ]
  },
  {
   "cell_type": "markdown",
   "metadata": {},
   "source": [
    "Другой способ это сделать — не создавать отдельный список, а итерировать прямо сразу файловый объект."
   ]
  },
  {
   "cell_type": "code",
   "execution_count": 9,
   "metadata": {
    "collapsed": false
   },
   "outputs": [
    {
     "name": "stdout",
     "output_type": "stream",
     "text": [
      "1 Hello, world!\n",
      "2 I'm here =)\n",
      "3 1\n",
      "4 2\n",
      "5 3"
     ]
    }
   ],
   "source": [
    "f = open(\"example.txt\")\n",
    "for i, line in enumerate(f, 1):\n",
    "    print(i, line, end=\"\")\n",
    "f.close()"
   ]
  },
  {
   "cell_type": "markdown",
   "metadata": {},
   "source": [
    "Этот метод является более предпочтительным, если файл большой. В этом случае считать его в память целиком может быть невозможно, а обработать по одной строчке — вполне возможно.\n",
    "\n",
    "Здесь есть, правда, некоторые хитрости. Рассмотрим, например, такой код:"
   ]
  },
  {
   "cell_type": "code",
   "execution_count": 11,
   "metadata": {
    "collapsed": false
   },
   "outputs": [
    {
     "name": "stdout",
     "output_type": "stream",
     "text": [
      "Hello, world!\n",
      "I'm here =)\n",
      "1\n",
      "2\n",
      "3----The next one----\n"
     ]
    }
   ],
   "source": [
    "f = open(\"example.txt\")\n",
    "for line in f:\n",
    "    print(line, end=\"\")\n",
    "print(\"----The next one----\")\n",
    "for line in f:\n",
    "    print(line, end=\"\")\n",
    "f.close()"
   ]
  },
  {
   "cell_type": "markdown",
   "metadata": {},
   "source": [
    "Что здесь произошло? Почему второй цикл вообще не выполнился (ничего не выведено после строчки `----The next one----`)? Очень просто: переменная `f`, хоть и прикидывается списком строк, когда мы её итерируем, на самом деле таковым не является. В действительности при открытии файла мы запоминаем позицию, на которой мы этот файл читаем. Изначально она указывает на самое начало файла, но с каждой итерацией сдвигается. Когда мы прочитаем файл целиком, дальнейшие попытки из него что-то прочитать ни к чему не приведут: указатель текущей позиции сдвинулся до самого конца и файл закончился.\n",
    "\n",
    "Впрочем, есть возможность вернуться в начало: для этого нужно использовать метод `seek()`."
   ]
  },
  {
   "cell_type": "code",
   "execution_count": 13,
   "metadata": {
    "collapsed": false
   },
   "outputs": [
    {
     "name": "stdout",
     "output_type": "stream",
     "text": [
      "Hello, world!\n",
      "I'm here =)\n",
      "1\n",
      "2\n",
      "3----The next one----\n",
      "Hello, world!\n",
      "I'm here =)\n",
      "1\n",
      "2\n",
      "3"
     ]
    }
   ],
   "source": [
    "f = open(\"example.txt\")\n",
    "for line in f:\n",
    "    print(line, end=\"\")\n",
    "print(\"----The next one----\")\n",
    "f.seek(0)\n",
    "for line in f:\n",
    "    print(line, end=\"\")\n",
    "f.close()"
   ]
  },
  {
   "cell_type": "markdown",
   "metadata": {},
   "source": [
    "### Запись в файлы"
   ]
  },
  {
   "cell_type": "markdown",
   "metadata": {},
   "source": [
    "Чтобы создать файл и записать в него что-то, нужно открыть его *на запись*. Это делается путём передачи функции `open` второго аргумента — здесь надо написать строчку `\"w\"` (от *write*).\n",
    "\n",
    "> **Внимание!** Если файл, который вы пытаетесь открыть на запись, уже существует, он будет **удалён без какого-либо предупреждения**."
   ]
  },
  {
   "cell_type": "markdown",
   "metadata": {},
   "source": [
    "Записывать информацию в файл, открытый на запись, можно, например, с помощью метода `write()`."
   ]
  },
  {
   "cell_type": "code",
   "execution_count": 14,
   "metadata": {
    "collapsed": true
   },
   "outputs": [],
   "source": [
    "f = open(\"another_example.txt\", \"w\")\n",
    "f.write(\"Hello\\n\")\n",
    "f.close()"
   ]
  },
  {
   "cell_type": "markdown",
   "metadata": {},
   "source": [
    "Проверим, что получилось:"
   ]
  },
  {
   "cell_type": "code",
   "execution_count": 15,
   "metadata": {
    "collapsed": false
   },
   "outputs": [
    {
     "data": {
      "text/plain": [
       "'Hello\\n'"
      ]
     },
     "execution_count": 15,
     "metadata": {},
     "output_type": "execute_result"
    }
   ],
   "source": [
    "open('another_example.txt').read()"
   ]
  },
  {
   "cell_type": "markdown",
   "metadata": {},
   "source": [
    "Мы видим, что действительно записали в файл `another_example.txt` строчку `Hello\\n`. Заметим, что здесь мы открыли файл на запись, но не стали присваивать файловый объект какой-либо переменной, а сразу вызвали от него метод `read()`. В этом случае файл будет закрыт автоматически через некоторое время после выполнения этой команды. (Система выдаёт предупреждение о том, что мы не закрыли файл явно — в некоторых случаях это может приводить к каким-то проблемам.)"
   ]
  },
  {
   "cell_type": "markdown",
   "metadata": {
    "collapsed": true
   },
   "source": [
    "### Упрощенная работа с файлами"
   ]
  },
  {
   "cell_type": "markdown",
   "metadata": {},
   "source": [
    "Чтобы не забывать закрывать файлы после работы с ними можно пользоваться следующей конструкцией:"
   ]
  },
  {
   "cell_type": "code",
   "execution_count": 17,
   "metadata": {
    "collapsed": false
   },
   "outputs": [
    {
     "data": {
      "text/plain": [
       "['Hello\\n']"
      ]
     },
     "execution_count": 17,
     "metadata": {},
     "output_type": "execute_result"
    }
   ],
   "source": [
    "with open('another_example.txt') as f:\n",
    "    lines = f.readlines()\n",
    "lines"
   ]
  },
  {
   "cell_type": "markdown",
   "metadata": {},
   "source": [
    "Эту запись следует понимать так: \"Открываем файл another_example.txt и выполняем действия ... По окончанию, закрываем файл\"."
   ]
  },
  {
   "cell_type": "markdown",
   "metadata": {},
   "source": [
    "## Pandas"
   ]
  },
  {
   "cell_type": "markdown",
   "metadata": {},
   "source": [
    "Мы обсуждали с вами разные структуры: списки, библиотеки, массивы и прочее. Еще одним наиболее распространенным объектом являются таблицы. В некотором смысле, таблицы - это двумерные массивы, однако в python для таблиц создан отдельный объект DataFrame (и даже целая библиотека pandas), в котором реализован удобный доступ к столбцам/строкам и быстрому и удобному проделыванию различных операций с таблицами.\n",
    "\n",
    "Посмотрим как это все работает."
   ]
  },
  {
   "cell_type": "code",
   "execution_count": 1,
   "metadata": {
    "collapsed": true
   },
   "outputs": [],
   "source": [
    "import pandas as pd"
   ]
  },
  {
   "cell_type": "markdown",
   "metadata": {},
   "source": [
    "Создадим некоторый двумерный массив (список списков)"
   ]
  },
  {
   "cell_type": "code",
   "execution_count": 3,
   "metadata": {
    "collapsed": true
   },
   "outputs": [],
   "source": [
    "table = [[1, 2, 3], [4, 5, 6]]"
   ]
  },
  {
   "cell_type": "code",
   "execution_count": 4,
   "metadata": {
    "collapsed": false
   },
   "outputs": [
    {
     "data": {
      "text/html": [
       "<div>\n",
       "<style scoped>\n",
       "    .dataframe tbody tr th:only-of-type {\n",
       "        vertical-align: middle;\n",
       "    }\n",
       "\n",
       "    .dataframe tbody tr th {\n",
       "        vertical-align: top;\n",
       "    }\n",
       "\n",
       "    .dataframe thead th {\n",
       "        text-align: right;\n",
       "    }\n",
       "</style>\n",
       "<table border=\"1\" class=\"dataframe\">\n",
       "  <thead>\n",
       "    <tr style=\"text-align: right;\">\n",
       "      <th></th>\n",
       "      <th>0</th>\n",
       "      <th>1</th>\n",
       "      <th>2</th>\n",
       "    </tr>\n",
       "  </thead>\n",
       "  <tbody>\n",
       "    <tr>\n",
       "      <th>0</th>\n",
       "      <td>1</td>\n",
       "      <td>2</td>\n",
       "      <td>3</td>\n",
       "    </tr>\n",
       "    <tr>\n",
       "      <th>1</th>\n",
       "      <td>4</td>\n",
       "      <td>5</td>\n",
       "      <td>6</td>\n",
       "    </tr>\n",
       "  </tbody>\n",
       "</table>\n",
       "</div>"
      ],
      "text/plain": [
       "   0  1  2\n",
       "0  1  2  3\n",
       "1  4  5  6"
      ]
     },
     "execution_count": 4,
     "metadata": {},
     "output_type": "execute_result"
    }
   ],
   "source": [
    "df = pd.DataFrame(table)\n",
    "df"
   ]
  },
  {
   "cell_type": "code",
   "execution_count": 5,
   "metadata": {
    "collapsed": false
   },
   "outputs": [
    {
     "data": {
      "text/html": [
       "<div>\n",
       "<style scoped>\n",
       "    .dataframe tbody tr th:only-of-type {\n",
       "        vertical-align: middle;\n",
       "    }\n",
       "\n",
       "    .dataframe tbody tr th {\n",
       "        vertical-align: top;\n",
       "    }\n",
       "\n",
       "    .dataframe thead th {\n",
       "        text-align: right;\n",
       "    }\n",
       "</style>\n",
       "<table border=\"1\" class=\"dataframe\">\n",
       "  <thead>\n",
       "    <tr style=\"text-align: right;\">\n",
       "      <th></th>\n",
       "      <th>Column 1</th>\n",
       "      <th>Column 2</th>\n",
       "      <th>Column 3</th>\n",
       "    </tr>\n",
       "  </thead>\n",
       "  <tbody>\n",
       "    <tr>\n",
       "      <th>0</th>\n",
       "      <td>1</td>\n",
       "      <td>2</td>\n",
       "      <td>3</td>\n",
       "    </tr>\n",
       "    <tr>\n",
       "      <th>1</th>\n",
       "      <td>4</td>\n",
       "      <td>5</td>\n",
       "      <td>6</td>\n",
       "    </tr>\n",
       "  </tbody>\n",
       "</table>\n",
       "</div>"
      ],
      "text/plain": [
       "   Column 1  Column 2  Column 3\n",
       "0         1         2         3\n",
       "1         4         5         6"
      ]
     },
     "execution_count": 5,
     "metadata": {},
     "output_type": "execute_result"
    }
   ],
   "source": [
    "df.columns = ['Column 1', 'Column 2', 'Column 3']\n",
    "df"
   ]
  },
  {
   "cell_type": "markdown",
   "metadata": {},
   "source": [
    "Альтернативные способы задания того же DataFram'a:"
   ]
  },
  {
   "cell_type": "code",
   "execution_count": 6,
   "metadata": {
    "collapsed": false
   },
   "outputs": [
    {
     "data": {
      "text/html": [
       "<div>\n",
       "<style scoped>\n",
       "    .dataframe tbody tr th:only-of-type {\n",
       "        vertical-align: middle;\n",
       "    }\n",
       "\n",
       "    .dataframe tbody tr th {\n",
       "        vertical-align: top;\n",
       "    }\n",
       "\n",
       "    .dataframe thead th {\n",
       "        text-align: right;\n",
       "    }\n",
       "</style>\n",
       "<table border=\"1\" class=\"dataframe\">\n",
       "  <thead>\n",
       "    <tr style=\"text-align: right;\">\n",
       "      <th></th>\n",
       "      <th>Column 1</th>\n",
       "      <th>Column 2</th>\n",
       "      <th>Column 3</th>\n",
       "    </tr>\n",
       "  </thead>\n",
       "  <tbody>\n",
       "    <tr>\n",
       "      <th>0</th>\n",
       "      <td>1</td>\n",
       "      <td>2</td>\n",
       "      <td>3</td>\n",
       "    </tr>\n",
       "    <tr>\n",
       "      <th>1</th>\n",
       "      <td>4</td>\n",
       "      <td>5</td>\n",
       "      <td>6</td>\n",
       "    </tr>\n",
       "  </tbody>\n",
       "</table>\n",
       "</div>"
      ],
      "text/plain": [
       "   Column 1  Column 2  Column 3\n",
       "0         1         2         3\n",
       "1         4         5         6"
      ]
     },
     "execution_count": 6,
     "metadata": {},
     "output_type": "execute_result"
    }
   ],
   "source": [
    "df = pd.DataFrame(table, columns = ['Column 1', 'Column 2', 'Column 3'])\n",
    "df"
   ]
  },
  {
   "cell_type": "code",
   "execution_count": 7,
   "metadata": {
    "collapsed": false
   },
   "outputs": [
    {
     "data": {
      "text/html": [
       "<div>\n",
       "<style scoped>\n",
       "    .dataframe tbody tr th:only-of-type {\n",
       "        vertical-align: middle;\n",
       "    }\n",
       "\n",
       "    .dataframe tbody tr th {\n",
       "        vertical-align: top;\n",
       "    }\n",
       "\n",
       "    .dataframe thead th {\n",
       "        text-align: right;\n",
       "    }\n",
       "</style>\n",
       "<table border=\"1\" class=\"dataframe\">\n",
       "  <thead>\n",
       "    <tr style=\"text-align: right;\">\n",
       "      <th></th>\n",
       "      <th>Column 1</th>\n",
       "      <th>Column 2</th>\n",
       "      <th>Column 3</th>\n",
       "    </tr>\n",
       "  </thead>\n",
       "  <tbody>\n",
       "    <tr>\n",
       "      <th>0</th>\n",
       "      <td>1</td>\n",
       "      <td>2</td>\n",
       "      <td>3</td>\n",
       "    </tr>\n",
       "    <tr>\n",
       "      <th>1</th>\n",
       "      <td>4</td>\n",
       "      <td>3</td>\n",
       "      <td>6</td>\n",
       "    </tr>\n",
       "  </tbody>\n",
       "</table>\n",
       "</div>"
      ],
      "text/plain": [
       "   Column 1  Column 2  Column 3\n",
       "0         1         2         3\n",
       "1         4         3         6"
      ]
     },
     "execution_count": 7,
     "metadata": {},
     "output_type": "execute_result"
    }
   ],
   "source": [
    "table_dict = {'Column 1':[1, 4], \n",
    "              'Column 2':[2, 3],\n",
    "              'Column 3':[3, 6]}\n",
    "df = pd.DataFrame(table_dict)\n",
    "df"
   ]
  },
  {
   "cell_type": "markdown",
   "metadata": {},
   "source": [
    "### Индексация"
   ]
  },
  {
   "cell_type": "markdown",
   "metadata": {},
   "source": [
    "Если мы можем менять названия колонок, то наверное можем поменять и названия строк."
   ]
  },
  {
   "cell_type": "code",
   "execution_count": 8,
   "metadata": {
    "collapsed": false
   },
   "outputs": [
    {
     "name": "stdout",
     "output_type": "stream",
     "text": [
      "Индекс, как он есть: RangeIndex(start=0, stop=2, step=1), \n",
      "Индекс в виде списка: [0, 1], \n",
      "Тип элементов индекса: <class 'int'>\n"
     ]
    }
   ],
   "source": [
    "print('Индекс, как он есть: %s, \\nИндекс в виде списка: %s, \\nТип элементов индекса: %s'%\n",
    "      (df.index, list(df.index), type(list(df.index)[0])))"
   ]
  },
  {
   "cell_type": "code",
   "execution_count": 9,
   "metadata": {
    "collapsed": false
   },
   "outputs": [
    {
     "data": {
      "text/html": [
       "<div>\n",
       "<style scoped>\n",
       "    .dataframe tbody tr th:only-of-type {\n",
       "        vertical-align: middle;\n",
       "    }\n",
       "\n",
       "    .dataframe tbody tr th {\n",
       "        vertical-align: top;\n",
       "    }\n",
       "\n",
       "    .dataframe thead th {\n",
       "        text-align: right;\n",
       "    }\n",
       "</style>\n",
       "<table border=\"1\" class=\"dataframe\">\n",
       "  <thead>\n",
       "    <tr style=\"text-align: right;\">\n",
       "      <th></th>\n",
       "      <th>Column 1</th>\n",
       "      <th>Column 2</th>\n",
       "      <th>Column 3</th>\n",
       "    </tr>\n",
       "  </thead>\n",
       "  <tbody>\n",
       "    <tr>\n",
       "      <th>Row 1</th>\n",
       "      <td>1</td>\n",
       "      <td>2</td>\n",
       "      <td>3</td>\n",
       "    </tr>\n",
       "    <tr>\n",
       "      <th>Row 2</th>\n",
       "      <td>4</td>\n",
       "      <td>3</td>\n",
       "      <td>6</td>\n",
       "    </tr>\n",
       "  </tbody>\n",
       "</table>\n",
       "</div>"
      ],
      "text/plain": [
       "       Column 1  Column 2  Column 3\n",
       "Row 1         1         2         3\n",
       "Row 2         4         3         6"
      ]
     },
     "execution_count": 9,
     "metadata": {},
     "output_type": "execute_result"
    }
   ],
   "source": [
    "df.index = ['Row 1', 'Row 2']\n",
    "df"
   ]
  },
  {
   "cell_type": "markdown",
   "metadata": {},
   "source": [
    "### Доступ к столбцам"
   ]
  },
  {
   "cell_type": "code",
   "execution_count": 10,
   "metadata": {
    "collapsed": false
   },
   "outputs": [
    {
     "data": {
      "text/plain": [
       "Row 1    1\n",
       "Row 2    4\n",
       "Name: Column 1, dtype: int64"
      ]
     },
     "execution_count": 10,
     "metadata": {},
     "output_type": "execute_result"
    }
   ],
   "source": [
    "df['Column 1']"
   ]
  },
  {
   "cell_type": "code",
   "execution_count": 11,
   "metadata": {
    "collapsed": false
   },
   "outputs": [
    {
     "data": {
      "text/html": [
       "<div>\n",
       "<style scoped>\n",
       "    .dataframe tbody tr th:only-of-type {\n",
       "        vertical-align: middle;\n",
       "    }\n",
       "\n",
       "    .dataframe tbody tr th {\n",
       "        vertical-align: top;\n",
       "    }\n",
       "\n",
       "    .dataframe thead th {\n",
       "        text-align: right;\n",
       "    }\n",
       "</style>\n",
       "<table border=\"1\" class=\"dataframe\">\n",
       "  <thead>\n",
       "    <tr style=\"text-align: right;\">\n",
       "      <th></th>\n",
       "      <th>Column 1</th>\n",
       "      <th>Column 3</th>\n",
       "    </tr>\n",
       "  </thead>\n",
       "  <tbody>\n",
       "    <tr>\n",
       "      <th>Row 1</th>\n",
       "      <td>1</td>\n",
       "      <td>3</td>\n",
       "    </tr>\n",
       "    <tr>\n",
       "      <th>Row 2</th>\n",
       "      <td>4</td>\n",
       "      <td>6</td>\n",
       "    </tr>\n",
       "  </tbody>\n",
       "</table>\n",
       "</div>"
      ],
      "text/plain": [
       "       Column 1  Column 3\n",
       "Row 1         1         3\n",
       "Row 2         4         6"
      ]
     },
     "execution_count": 11,
     "metadata": {},
     "output_type": "execute_result"
    }
   ],
   "source": [
    "df[['Column 1', 'Column 3']]"
   ]
  },
  {
   "cell_type": "markdown",
   "metadata": {},
   "source": [
    "### Доступ к строкам\n",
    "loc - доступ к строкам по их индексу;<br>\n",
    "iloc - доступ к строкам по их непосредственным номерам."
   ]
  },
  {
   "cell_type": "code",
   "execution_count": 12,
   "metadata": {
    "collapsed": false
   },
   "outputs": [
    {
     "data": {
      "text/plain": [
       "Column 1    4\n",
       "Column 2    3\n",
       "Column 3    6\n",
       "Name: Row 2, dtype: int64"
      ]
     },
     "execution_count": 12,
     "metadata": {},
     "output_type": "execute_result"
    }
   ],
   "source": [
    "df.iloc[1]"
   ]
  },
  {
   "cell_type": "code",
   "execution_count": 13,
   "metadata": {
    "collapsed": false
   },
   "outputs": [
    {
     "data": {
      "text/plain": [
       "Column 1    4\n",
       "Column 2    3\n",
       "Column 3    6\n",
       "Name: Row 2, dtype: int64"
      ]
     },
     "execution_count": 13,
     "metadata": {},
     "output_type": "execute_result"
    }
   ],
   "source": [
    "df.loc['Row 2']"
   ]
  },
  {
   "cell_type": "markdown",
   "metadata": {},
   "source": [
    "### Доступ к ячейкам"
   ]
  },
  {
   "cell_type": "code",
   "execution_count": 14,
   "metadata": {
    "collapsed": false
   },
   "outputs": [
    {
     "data": {
      "text/plain": [
       "4"
      ]
     },
     "execution_count": 14,
     "metadata": {},
     "output_type": "execute_result"
    }
   ],
   "source": [
    "df.at['Row 2', 'Column 1']"
   ]
  },
  {
   "cell_type": "code",
   "execution_count": 16,
   "metadata": {
    "collapsed": false
   },
   "outputs": [
    {
     "data": {
      "text/plain": [
       "4"
      ]
     },
     "execution_count": 16,
     "metadata": {},
     "output_type": "execute_result"
    }
   ],
   "source": [
    "df.iat[1, 0]"
   ]
  },
  {
   "cell_type": "markdown",
   "metadata": {},
   "source": [
    "### Способы работы с данными через Pandas"
   ]
  },
  {
   "cell_type": "markdown",
   "metadata": {},
   "source": [
    "Самый распространеный способ хранения таблиц - формат csv (в обычном мире, а не только в мире питона). Это текстовый файл, в каждой строке которого записана строка таблицы, а столбцы разделяются с помощью разделителя (запятой, точка-запятой, пробелом, tab, чем угодно).\n",
    "\n",
    "Ниже приведен кусочек файла, с которым мы будем работать. Сам файл лежит по ссылке: http://math-info.hse.ru/f/2015-16/all-py/data/tariff2012.csv"
   ]
  },
  {
   "cell_type": "code",
   "execution_count": 50,
   "metadata": {
    "collapsed": false
   },
   "outputs": [
    {
     "name": "stdout",
     "output_type": "stream",
     "text": [
      "ROWNUM;Region;TariffItem;UnitOfMeasure;StartDate;EndDate;MeasureDeviceAvail;StoveType;ConsumptionTime;ConsumptionTarget;Agency;TariffValue;global_id;\n",
      "1;\"город Москва (за исключением Троицкого и Новомосковского АО)\";\"Горячее водоснабжение\";\"руб/куб.м\";\"01.01.2012\";\"30.06.2012\";\"да\";\"\";\"\";\"\";\"ОАО «МОЭК» и иные, кроме ОАО «Мосэнерго» и ОАО «МТК»\";\"105.45\";\"19693618\";\n",
      "2;\"город Москва (за исключением Троицкого и Новомосковского АО)\";\"Водоотведение\";\"руб/куб.м\";\"01.01.2012\";\"30.06.2012\";\"да\";\"\";\"\";\"\";\"МГУП «Мосводоканал»\";\"16.65\";\"19693667\";\n",
      "3;\"город Москва (за исключением Троицкого и Новомосковского АО)\";\"Газ\";\"руб/кв.м\";\"01.07.2012\";\"31.08.2012\";\"нет\";\"\";\"\";\"дома с отоплением от газовых нагревателей\";\"ООО «Газпром межрегионгаз Москва»\";\"25.61\";\"19693682\";\n",
      "4;\"город Москва (за исключением Троицкого и Новомосковского АО)\";\"Электроэнергия\";\"руб/кВт.ч\";\"01.07.2012\";\"31.07.2012\";\"да\";\"газовая\";\"с 07:00 по 23:00 ч (двухтарифный учет)\";\"на бытовые нужды\";\"ОАО «Мосэнергосбыт»\";\"4.03\";\"19693607\";\n",
      "5;\"город Москва (за исключением Троицкого и Новомосковского АО)\";\"Электроэнергия\";\"руб/кВт.ч\";\"01.01.2012\";\"30.06.2012\";\"да\";\"газовая\";\"с 23:00 по 07:00 ч (двухтарифный учет)\";\"на бытовые нужды\";\"ОАО «Мосэнергосбыт»\";\"0.95\";\"19693669\";\n",
      "6;\"город Москва (за исключением Троицкого и Новомосковского АО)\";\"Электроэнергия\";\"руб/кВт.ч\";\"01.01.2012\";\"30.06.2012\";\"да\";\"газовая\";\"с 21:00 по 23:00 ч (многотарифный учет)\";\"на бытовые нужды\";\"ОАО «Мосэнергосбыт»\";\"3.2\";\"19693597\";\n",
      "7;\"город Москва\";\"Газ\";\"руб/куб.м\";\"11.01.2011\";\"15.01.2012\";\"да\";\"\";\"\";\"на приготовление пищи и горячее водоснабжение (подогрев воды при отсутствии централизованного горячего водоснабжения)\";\"ООО «Мосрегионгаз»\";\"4.09\";\"19693595\";\n"
     ]
    }
   ],
   "source": [
    "print('''ROWNUM;Region;TariffItem;UnitOfMeasure;StartDate;EndDate;MeasureDeviceAvail;StoveType;ConsumptionTime;ConsumptionTarget;Agency;TariffValue;global_id;\n",
    "1;\"город Москва (за исключением Троицкого и Новомосковского АО)\";\"Горячее водоснабжение\";\"руб/куб.м\";\"01.01.2012\";\"30.06.2012\";\"да\";\"\";\"\";\"\";\"ОАО «МОЭК» и иные, кроме ОАО «Мосэнерго» и ОАО «МТК»\";\"105.45\";\"19693618\";\n",
    "2;\"город Москва (за исключением Троицкого и Новомосковского АО)\";\"Водоотведение\";\"руб/куб.м\";\"01.01.2012\";\"30.06.2012\";\"да\";\"\";\"\";\"\";\"МГУП «Мосводоканал»\";\"16.65\";\"19693667\";\n",
    "3;\"город Москва (за исключением Троицкого и Новомосковского АО)\";\"Газ\";\"руб/кв.м\";\"01.07.2012\";\"31.08.2012\";\"нет\";\"\";\"\";\"дома с отоплением от газовых нагревателей\";\"ООО «Газпром межрегионгаз Москва»\";\"25.61\";\"19693682\";\n",
    "4;\"город Москва (за исключением Троицкого и Новомосковского АО)\";\"Электроэнергия\";\"руб/кВт.ч\";\"01.07.2012\";\"31.07.2012\";\"да\";\"газовая\";\"с 07:00 по 23:00 ч (двухтарифный учет)\";\"на бытовые нужды\";\"ОАО «Мосэнергосбыт»\";\"4.03\";\"19693607\";\n",
    "5;\"город Москва (за исключением Троицкого и Новомосковского АО)\";\"Электроэнергия\";\"руб/кВт.ч\";\"01.01.2012\";\"30.06.2012\";\"да\";\"газовая\";\"с 23:00 по 07:00 ч (двухтарифный учет)\";\"на бытовые нужды\";\"ОАО «Мосэнергосбыт»\";\"0.95\";\"19693669\";\n",
    "6;\"город Москва (за исключением Троицкого и Новомосковского АО)\";\"Электроэнергия\";\"руб/кВт.ч\";\"01.01.2012\";\"30.06.2012\";\"да\";\"газовая\";\"с 21:00 по 23:00 ч (многотарифный учет)\";\"на бытовые нужды\";\"ОАО «Мосэнергосбыт»\";\"3.2\";\"19693597\";\n",
    "7;\"город Москва\";\"Газ\";\"руб/куб.м\";\"11.01.2011\";\"15.01.2012\";\"да\";\"\";\"\";\"на приготовление пищи и горячее водоснабжение (подогрев воды при отсутствии централизованного горячего водоснабжения)\";\"ООО «Мосрегионгаз»\";\"4.09\";\"19693595\";''')"
   ]
  },
  {
   "cell_type": "markdown",
   "metadata": {},
   "source": [
    "Еще одна прелесть pandas в том, что эта библиотека позволяет загружать не только файлы, расположенные на локальом компьютере, но и файлы, доступные по ссылке. Например, обычный open() не позволяет так делать:"
   ]
  },
  {
   "cell_type": "code",
   "execution_count": 54,
   "metadata": {
    "collapsed": false
   },
   "outputs": [
    {
     "ename": "OSError",
     "evalue": "[Errno 22] Invalid argument: 'http://math-info.hse.ru/f/2015-16/all-py/data/tariff2012.csv'",
     "output_type": "error",
     "traceback": [
      "\u001b[0;31m---------------------------------------------------------------------------\u001b[0m",
      "\u001b[0;31mOSError\u001b[0m                                   Traceback (most recent call last)",
      "\u001b[0;32m<ipython-input-54-3039d4f656c9>\u001b[0m in \u001b[0;36m<module>\u001b[0;34m()\u001b[0m\n\u001b[0;32m----> 1\u001b[0;31m \u001b[1;32mwith\u001b[0m \u001b[0mopen\u001b[0m\u001b[1;33m(\u001b[0m\u001b[1;34m'http://math-info.hse.ru/f/2015-16/all-py/data/tariff2012.csv'\u001b[0m\u001b[1;33m)\u001b[0m \u001b[1;32mas\u001b[0m \u001b[0mf\u001b[0m\u001b[1;33m:\u001b[0m\u001b[1;33m\u001b[0m\u001b[0m\n\u001b[0m\u001b[1;32m      2\u001b[0m     \u001b[0mcontent\u001b[0m \u001b[1;33m=\u001b[0m \u001b[0mf\u001b[0m\u001b[1;33m.\u001b[0m\u001b[0mread\u001b[0m\u001b[1;33m(\u001b[0m\u001b[1;33m)\u001b[0m\u001b[1;33m\u001b[0m\u001b[0m\n\u001b[1;32m      3\u001b[0m \u001b[0mcontent\u001b[0m\u001b[1;33m\u001b[0m\u001b[0m\n",
      "\u001b[0;31mOSError\u001b[0m: [Errno 22] Invalid argument: 'http://math-info.hse.ru/f/2015-16/all-py/data/tariff2012.csv'"
     ]
    }
   ],
   "source": [
    "with open('http://math-info.hse.ru/f/2015-16/all-py/data/tariff2012.csv') as f:\n",
    "    content = f.read()\n",
    "content"
   ]
  },
  {
   "cell_type": "markdown",
   "metadata": {},
   "source": [
    "Хотя с локальным файлом все ок, только кодировка нарушена..."
   ]
  },
  {
   "cell_type": "code",
   "execution_count": 57,
   "metadata": {
    "collapsed": false
   },
   "outputs": [
    {
     "data": {
      "text/plain": [
       "'п»їROWNUM;Region;TariffItem;UnitOfMeasure;StartDate;EndDate;MeasureDeviceAvail;StoveType;ConsumptionTime;ConsumptionTarget;Agency;TariffValue;global_id;\\n1;\"РіРѕСЂРѕРґ РњРѕСЃРєРІР° (Р·Р° РёСЃРєР»СЋС‡РµРЅРёРµРј РўСЂРѕРёС†РєРѕРіРѕ Рё РќРѕРІРѕРјРѕСЃРєРѕРІСЃРєРѕРіРѕ РђРћ)\";\"Р“РѕСЂСЏС‡РµРµ РІРѕРґРѕСЃРЅР°Р±Р¶РµРЅРёРµ\";\"СЂСѓР±/РєСѓР±.Рј\";\"01.01.2012\";\"30.06.2012\";\"РґР°\";\"\";\"\";\"\";\"РћРђРћ В«РњРћР\\xadРљВ» Рё РёРЅС‹Рµ, РєСЂРѕРјРµ РћРђРћ В«РњРѕСЃСЌРЅРµСЂРіРѕВ» Рё РћРђРћ В«РњРўРљВ»\";\"105.45\";\"19693618\";\\n2;\"РіРѕСЂРѕРґ РњРѕСЃРєРІР° (Р·Р° РёСЃРєР»СЋС‡РµРЅРёРµРј РўСЂРѕРёС†РєРѕРіРѕ Рё РќРѕРІРѕРјРѕСЃРєРѕРІСЃРєРѕРіРѕ РђРћ)\";\"Р’РѕРґРѕРѕС‚РІРµРґРµРЅРёРµ\";\"СЂСѓР±/РєСѓР±.Рј\";\"01.01.2012\";\"30.06.2012\";\"РґР°\";\"\";\"\";\"\";\"РњР“РЈРџ В«РњРѕСЃРІРѕРґРѕРєР°РЅР°Р»В»\";\"16.65\";\"19693667\";\\n3;\"РіРѕСЂРѕРґ РњРѕСЃРєРІР° (Р·Р° РёСЃРєР»СЋС‡РµРЅРёРµРј РўСЂРѕРёС†РєРѕРіРѕ Рё РќРѕРІРѕРјРѕСЃРєРѕРІСЃРєРѕРіРѕ РђРћ)\";\"Р“Р°Р·\";\"СЂСѓР±/РєРІ.Рј\";\"01.07.2012\";\"31.08.2012\";\"РЅРµС‚\";\"\";\"\";\"РґРѕРјР° СЃ РѕС‚РѕРїР»РµРЅРёРµРј РѕС‚ РіР°Р·РѕРІС‹С… РЅР°Р'"
      ]
     },
     "execution_count": 57,
     "metadata": {},
     "output_type": "execute_result"
    }
   ],
   "source": [
    "with open('tariff2012.csv') as f:\n",
    "    content = f.read()\n",
    "content[:1000]"
   ]
  },
  {
   "cell_type": "code",
   "execution_count": 59,
   "metadata": {
    "collapsed": false
   },
   "outputs": [
    {
     "data": {
      "text/plain": [
       "'\\ufeffROWNUM;Region;TariffItem;UnitOfMeasure;StartDate;EndDate;MeasureDeviceAvail;StoveType;ConsumptionTime;ConsumptionTarget;Agency;TariffValue;global_id;\\n1;\"город Москва (за исключением Троицкого и Новомосковского АО)\";\"Горячее водоснабжение\";\"руб/куб.м\";\"01.01.2012\";\"30.06.2012\";\"да\";\"\";\"\";\"\";\"ОАО «МОЭК» и иные, кроме ОАО «Мосэнерго» и ОАО «МТК»\";\"105.45\";\"19693618\";\\n2;\"город Москва (за исключением Троицкого и Новомосковского АО)\";\"Водоотведение\";\"руб/куб.м\";\"01.01.2012\";\"30.06.2012\";\"да\";\"\";\"\";\"\";\"МГУП «Мосводоканал»\";\"16.65\";\"19693667\";\\n3;\"город Москва (за исключением Троицкого и Новомосковского АО)\";\"Газ\";\"руб/кв.м\";\"01.07.2012\";\"31.08.2012\";\"нет\";\"\";\"\";\"дома с отоплением от газовых нагревателей\";\"ООО «Газпром межрегионгаз Москва»\";\"25.61\";\"19693682\";\\n4;\"город Москва (за исключением Троицкого и Новомосковского АО)\";\"Электроэнергия\";\"руб/кВт.ч\";\"01.07.2012\";\"31.07.2012\";\"да\";\"газовая\";\"с 07:00 по 23:00 ч (двухтарифный учет)\";\"на бытовые нужды\";\"ОАО «Мосэнергосбыт»\";\"4.03\";\"19693607\";\\n5'"
      ]
     },
     "execution_count": 59,
     "metadata": {},
     "output_type": "execute_result"
    }
   ],
   "source": [
    "with open('tariff2012.csv', encoding = 'utf') as f:\n",
    "    content = f.read()\n",
    "content[:1000]"
   ]
  },
  {
   "cell_type": "code",
   "execution_count": 60,
   "metadata": {
    "collapsed": false
   },
   "outputs": [],
   "source": [
    "df = pd.read_csv(\n",
    "    \"http://math-info.hse.ru/f/2015-16/all-py/data/tariff2012.csv\",\n",
    "    sep=';'\n",
    ")"
   ]
  },
  {
   "cell_type": "code",
   "execution_count": 61,
   "metadata": {
    "collapsed": false
   },
   "outputs": [
    {
     "data": {
      "text/html": [
       "<div>\n",
       "<style scoped>\n",
       "    .dataframe tbody tr th:only-of-type {\n",
       "        vertical-align: middle;\n",
       "    }\n",
       "\n",
       "    .dataframe tbody tr th {\n",
       "        vertical-align: top;\n",
       "    }\n",
       "\n",
       "    .dataframe thead th {\n",
       "        text-align: right;\n",
       "    }\n",
       "</style>\n",
       "<table border=\"1\" class=\"dataframe\">\n",
       "  <thead>\n",
       "    <tr style=\"text-align: right;\">\n",
       "      <th></th>\n",
       "      <th>ROWNUM</th>\n",
       "      <th>Region</th>\n",
       "      <th>TariffItem</th>\n",
       "      <th>UnitOfMeasure</th>\n",
       "      <th>StartDate</th>\n",
       "      <th>EndDate</th>\n",
       "      <th>MeasureDeviceAvail</th>\n",
       "      <th>StoveType</th>\n",
       "      <th>ConsumptionTime</th>\n",
       "      <th>ConsumptionTarget</th>\n",
       "      <th>Agency</th>\n",
       "      <th>TariffValue</th>\n",
       "      <th>global_id</th>\n",
       "      <th>Unnamed: 13</th>\n",
       "    </tr>\n",
       "  </thead>\n",
       "  <tbody>\n",
       "    <tr>\n",
       "      <th>0</th>\n",
       "      <td>1</td>\n",
       "      <td>город Москва (за исключением Троицкого и Новом...</td>\n",
       "      <td>Горячее водоснабжение</td>\n",
       "      <td>руб/куб.м</td>\n",
       "      <td>01.01.2012</td>\n",
       "      <td>30.06.2012</td>\n",
       "      <td>да</td>\n",
       "      <td>NaN</td>\n",
       "      <td>NaN</td>\n",
       "      <td>NaN</td>\n",
       "      <td>ОАО «МОЭК» и иные, кроме ОАО «Мосэнерго» и ОАО...</td>\n",
       "      <td>105.45</td>\n",
       "      <td>19693618</td>\n",
       "      <td>NaN</td>\n",
       "    </tr>\n",
       "    <tr>\n",
       "      <th>1</th>\n",
       "      <td>2</td>\n",
       "      <td>город Москва (за исключением Троицкого и Новом...</td>\n",
       "      <td>Водоотведение</td>\n",
       "      <td>руб/куб.м</td>\n",
       "      <td>01.01.2012</td>\n",
       "      <td>30.06.2012</td>\n",
       "      <td>да</td>\n",
       "      <td>NaN</td>\n",
       "      <td>NaN</td>\n",
       "      <td>NaN</td>\n",
       "      <td>МГУП «Мосводоканал»</td>\n",
       "      <td>16.65</td>\n",
       "      <td>19693667</td>\n",
       "      <td>NaN</td>\n",
       "    </tr>\n",
       "    <tr>\n",
       "      <th>2</th>\n",
       "      <td>3</td>\n",
       "      <td>город Москва (за исключением Троицкого и Новом...</td>\n",
       "      <td>Газ</td>\n",
       "      <td>руб/кв.м</td>\n",
       "      <td>01.07.2012</td>\n",
       "      <td>31.08.2012</td>\n",
       "      <td>нет</td>\n",
       "      <td>NaN</td>\n",
       "      <td>NaN</td>\n",
       "      <td>дома с отоплением от газовых нагревателей</td>\n",
       "      <td>ООО «Газпром межрегионгаз Москва»</td>\n",
       "      <td>25.61</td>\n",
       "      <td>19693682</td>\n",
       "      <td>NaN</td>\n",
       "    </tr>\n",
       "    <tr>\n",
       "      <th>3</th>\n",
       "      <td>4</td>\n",
       "      <td>город Москва (за исключением Троицкого и Новом...</td>\n",
       "      <td>Электроэнергия</td>\n",
       "      <td>руб/кВт.ч</td>\n",
       "      <td>01.07.2012</td>\n",
       "      <td>31.07.2012</td>\n",
       "      <td>да</td>\n",
       "      <td>газовая</td>\n",
       "      <td>с 07:00 по 23:00 ч (двухтарифный учет)</td>\n",
       "      <td>на бытовые нужды</td>\n",
       "      <td>ОАО «Мосэнергосбыт»</td>\n",
       "      <td>4.03</td>\n",
       "      <td>19693607</td>\n",
       "      <td>NaN</td>\n",
       "    </tr>\n",
       "    <tr>\n",
       "      <th>4</th>\n",
       "      <td>5</td>\n",
       "      <td>город Москва (за исключением Троицкого и Новом...</td>\n",
       "      <td>Электроэнергия</td>\n",
       "      <td>руб/кВт.ч</td>\n",
       "      <td>01.01.2012</td>\n",
       "      <td>30.06.2012</td>\n",
       "      <td>да</td>\n",
       "      <td>газовая</td>\n",
       "      <td>с 23:00 по 07:00 ч (двухтарифный учет)</td>\n",
       "      <td>на бытовые нужды</td>\n",
       "      <td>ОАО «Мосэнергосбыт»</td>\n",
       "      <td>0.95</td>\n",
       "      <td>19693669</td>\n",
       "      <td>NaN</td>\n",
       "    </tr>\n",
       "  </tbody>\n",
       "</table>\n",
       "</div>"
      ],
      "text/plain": [
       "   ROWNUM                                             Region  \\\n",
       "0       1  город Москва (за исключением Троицкого и Новом...   \n",
       "1       2  город Москва (за исключением Троицкого и Новом...   \n",
       "2       3  город Москва (за исключением Троицкого и Новом...   \n",
       "3       4  город Москва (за исключением Троицкого и Новом...   \n",
       "4       5  город Москва (за исключением Троицкого и Новом...   \n",
       "\n",
       "              TariffItem UnitOfMeasure   StartDate     EndDate  \\\n",
       "0  Горячее водоснабжение     руб/куб.м  01.01.2012  30.06.2012   \n",
       "1          Водоотведение     руб/куб.м  01.01.2012  30.06.2012   \n",
       "2                    Газ      руб/кв.м  01.07.2012  31.08.2012   \n",
       "3         Электроэнергия     руб/кВт.ч  01.07.2012  31.07.2012   \n",
       "4         Электроэнергия     руб/кВт.ч  01.01.2012  30.06.2012   \n",
       "\n",
       "  MeasureDeviceAvail StoveType                         ConsumptionTime  \\\n",
       "0                 да       NaN                                     NaN   \n",
       "1                 да       NaN                                     NaN   \n",
       "2                нет       NaN                                     NaN   \n",
       "3                 да   газовая  с 07:00 по 23:00 ч (двухтарифный учет)   \n",
       "4                 да   газовая  с 23:00 по 07:00 ч (двухтарифный учет)   \n",
       "\n",
       "                           ConsumptionTarget  \\\n",
       "0                                        NaN   \n",
       "1                                        NaN   \n",
       "2  дома с отоплением от газовых нагревателей   \n",
       "3                           на бытовые нужды   \n",
       "4                           на бытовые нужды   \n",
       "\n",
       "                                              Agency  TariffValue  global_id  \\\n",
       "0  ОАО «МОЭК» и иные, кроме ОАО «Мосэнерго» и ОАО...       105.45   19693618   \n",
       "1                                МГУП «Мосводоканал»        16.65   19693667   \n",
       "2                  ООО «Газпром межрегионгаз Москва»        25.61   19693682   \n",
       "3                                ОАО «Мосэнергосбыт»         4.03   19693607   \n",
       "4                                ОАО «Мосэнергосбыт»         0.95   19693669   \n",
       "\n",
       "   Unnamed: 13  \n",
       "0          NaN  \n",
       "1          NaN  \n",
       "2          NaN  \n",
       "3          NaN  \n",
       "4          NaN  "
      ]
     },
     "execution_count": 61,
     "metadata": {},
     "output_type": "execute_result"
    }
   ],
   "source": [
    "df.head()"
   ]
  },
  {
   "cell_type": "markdown",
   "metadata": {},
   "source": [
    "Метод .head() позволяет показывать на всю таблицу, как это было бы если бы вызвали df, но только первые 5 строк (по умолчанию 5). \n",
    "Этим методом предпочтительнее пользоваться, если вы хотите посмотреть, что у вас происходит в датафрейме, иначе (если файл большой) вы можете слишком сильно перегрузить браузер."
   ]
  },
  {
   "cell_type": "code",
   "execution_count": 64,
   "metadata": {
    "collapsed": false
   },
   "outputs": [
    {
     "data": {
      "text/html": [
       "<div>\n",
       "<style scoped>\n",
       "    .dataframe tbody tr th:only-of-type {\n",
       "        vertical-align: middle;\n",
       "    }\n",
       "\n",
       "    .dataframe tbody tr th {\n",
       "        vertical-align: top;\n",
       "    }\n",
       "\n",
       "    .dataframe thead th {\n",
       "        text-align: right;\n",
       "    }\n",
       "</style>\n",
       "<table border=\"1\" class=\"dataframe\">\n",
       "  <thead>\n",
       "    <tr style=\"text-align: right;\">\n",
       "      <th></th>\n",
       "      <th>ROWNUM</th>\n",
       "      <th>Region</th>\n",
       "      <th>TariffItem</th>\n",
       "      <th>UnitOfMeasure</th>\n",
       "      <th>StartDate</th>\n",
       "      <th>EndDate</th>\n",
       "      <th>MeasureDeviceAvail</th>\n",
       "      <th>StoveType</th>\n",
       "      <th>ConsumptionTime</th>\n",
       "      <th>ConsumptionTarget</th>\n",
       "      <th>Agency</th>\n",
       "      <th>TariffValue</th>\n",
       "      <th>global_id</th>\n",
       "      <th>Unnamed: 13</th>\n",
       "    </tr>\n",
       "  </thead>\n",
       "  <tbody>\n",
       "    <tr>\n",
       "      <th>0</th>\n",
       "      <td>1</td>\n",
       "      <td>город Москва (за исключением Троицкого и Новом...</td>\n",
       "      <td>Горячее водоснабжение</td>\n",
       "      <td>руб/куб.м</td>\n",
       "      <td>01.01.2012</td>\n",
       "      <td>30.06.2012</td>\n",
       "      <td>да</td>\n",
       "      <td>NaN</td>\n",
       "      <td>NaN</td>\n",
       "      <td>NaN</td>\n",
       "      <td>ОАО «МОЭК» и иные, кроме ОАО «Мосэнерго» и ОАО...</td>\n",
       "      <td>105.45</td>\n",
       "      <td>19693618</td>\n",
       "      <td>NaN</td>\n",
       "    </tr>\n",
       "  </tbody>\n",
       "</table>\n",
       "</div>"
      ],
      "text/plain": [
       "   ROWNUM                                             Region  \\\n",
       "0       1  город Москва (за исключением Троицкого и Новом...   \n",
       "\n",
       "              TariffItem UnitOfMeasure   StartDate     EndDate  \\\n",
       "0  Горячее водоснабжение     руб/куб.м  01.01.2012  30.06.2012   \n",
       "\n",
       "  MeasureDeviceAvail StoveType ConsumptionTime ConsumptionTarget  \\\n",
       "0                 да       NaN             NaN               NaN   \n",
       "\n",
       "                                              Agency  TariffValue  global_id  \\\n",
       "0  ОАО «МОЭК» и иные, кроме ОАО «Мосэнерго» и ОАО...       105.45   19693618   \n",
       "\n",
       "   Unnamed: 13  \n",
       "0          NaN  "
      ]
     },
     "execution_count": 64,
     "metadata": {},
     "output_type": "execute_result"
    }
   ],
   "source": [
    "df.head(1)"
   ]
  },
  {
   "cell_type": "markdown",
   "metadata": {},
   "source": [
    "Мы видим, что у этой таблицы есть своя индексация, давайте ее и используем, это можно сделать сразу при загрузке страницы."
   ]
  },
  {
   "cell_type": "code",
   "execution_count": 21,
   "metadata": {
    "collapsed": false
   },
   "outputs": [
    {
     "data": {
      "text/html": [
       "<div>\n",
       "<style scoped>\n",
       "    .dataframe tbody tr th:only-of-type {\n",
       "        vertical-align: middle;\n",
       "    }\n",
       "\n",
       "    .dataframe tbody tr th {\n",
       "        vertical-align: top;\n",
       "    }\n",
       "\n",
       "    .dataframe thead th {\n",
       "        text-align: right;\n",
       "    }\n",
       "</style>\n",
       "<table border=\"1\" class=\"dataframe\">\n",
       "  <thead>\n",
       "    <tr style=\"text-align: right;\">\n",
       "      <th></th>\n",
       "      <th>Region</th>\n",
       "      <th>TariffItem</th>\n",
       "      <th>UnitOfMeasure</th>\n",
       "      <th>StartDate</th>\n",
       "      <th>EndDate</th>\n",
       "      <th>MeasureDeviceAvail</th>\n",
       "      <th>StoveType</th>\n",
       "      <th>ConsumptionTime</th>\n",
       "      <th>ConsumptionTarget</th>\n",
       "      <th>Agency</th>\n",
       "      <th>TariffValue</th>\n",
       "      <th>global_id</th>\n",
       "      <th>Unnamed: 13</th>\n",
       "    </tr>\n",
       "    <tr>\n",
       "      <th>ROWNUM</th>\n",
       "      <th></th>\n",
       "      <th></th>\n",
       "      <th></th>\n",
       "      <th></th>\n",
       "      <th></th>\n",
       "      <th></th>\n",
       "      <th></th>\n",
       "      <th></th>\n",
       "      <th></th>\n",
       "      <th></th>\n",
       "      <th></th>\n",
       "      <th></th>\n",
       "      <th></th>\n",
       "    </tr>\n",
       "  </thead>\n",
       "  <tbody>\n",
       "    <tr>\n",
       "      <th>1</th>\n",
       "      <td>город Москва (за исключением Троицкого и Новом...</td>\n",
       "      <td>Горячее водоснабжение</td>\n",
       "      <td>руб/куб.м</td>\n",
       "      <td>01.01.2012</td>\n",
       "      <td>30.06.2012</td>\n",
       "      <td>да</td>\n",
       "      <td>NaN</td>\n",
       "      <td>NaN</td>\n",
       "      <td>NaN</td>\n",
       "      <td>ОАО «МОЭК» и иные, кроме ОАО «Мосэнерго» и ОАО...</td>\n",
       "      <td>105.45</td>\n",
       "      <td>19693618</td>\n",
       "      <td>NaN</td>\n",
       "    </tr>\n",
       "    <tr>\n",
       "      <th>2</th>\n",
       "      <td>город Москва (за исключением Троицкого и Новом...</td>\n",
       "      <td>Водоотведение</td>\n",
       "      <td>руб/куб.м</td>\n",
       "      <td>01.01.2012</td>\n",
       "      <td>30.06.2012</td>\n",
       "      <td>да</td>\n",
       "      <td>NaN</td>\n",
       "      <td>NaN</td>\n",
       "      <td>NaN</td>\n",
       "      <td>МГУП «Мосводоканал»</td>\n",
       "      <td>16.65</td>\n",
       "      <td>19693667</td>\n",
       "      <td>NaN</td>\n",
       "    </tr>\n",
       "    <tr>\n",
       "      <th>3</th>\n",
       "      <td>город Москва (за исключением Троицкого и Новом...</td>\n",
       "      <td>Газ</td>\n",
       "      <td>руб/кв.м</td>\n",
       "      <td>01.07.2012</td>\n",
       "      <td>31.08.2012</td>\n",
       "      <td>нет</td>\n",
       "      <td>NaN</td>\n",
       "      <td>NaN</td>\n",
       "      <td>дома с отоплением от газовых нагревателей</td>\n",
       "      <td>ООО «Газпром межрегионгаз Москва»</td>\n",
       "      <td>25.61</td>\n",
       "      <td>19693682</td>\n",
       "      <td>NaN</td>\n",
       "    </tr>\n",
       "    <tr>\n",
       "      <th>4</th>\n",
       "      <td>город Москва (за исключением Троицкого и Новом...</td>\n",
       "      <td>Электроэнергия</td>\n",
       "      <td>руб/кВт.ч</td>\n",
       "      <td>01.07.2012</td>\n",
       "      <td>31.07.2012</td>\n",
       "      <td>да</td>\n",
       "      <td>газовая</td>\n",
       "      <td>с 07:00 по 23:00 ч (двухтарифный учет)</td>\n",
       "      <td>на бытовые нужды</td>\n",
       "      <td>ОАО «Мосэнергосбыт»</td>\n",
       "      <td>4.03</td>\n",
       "      <td>19693607</td>\n",
       "      <td>NaN</td>\n",
       "    </tr>\n",
       "    <tr>\n",
       "      <th>5</th>\n",
       "      <td>город Москва (за исключением Троицкого и Новом...</td>\n",
       "      <td>Электроэнергия</td>\n",
       "      <td>руб/кВт.ч</td>\n",
       "      <td>01.01.2012</td>\n",
       "      <td>30.06.2012</td>\n",
       "      <td>да</td>\n",
       "      <td>газовая</td>\n",
       "      <td>с 23:00 по 07:00 ч (двухтарифный учет)</td>\n",
       "      <td>на бытовые нужды</td>\n",
       "      <td>ОАО «Мосэнергосбыт»</td>\n",
       "      <td>0.95</td>\n",
       "      <td>19693669</td>\n",
       "      <td>NaN</td>\n",
       "    </tr>\n",
       "  </tbody>\n",
       "</table>\n",
       "</div>"
      ],
      "text/plain": [
       "                                                   Region  \\\n",
       "ROWNUM                                                      \n",
       "1       город Москва (за исключением Троицкого и Новом...   \n",
       "2       город Москва (за исключением Троицкого и Новом...   \n",
       "3       город Москва (за исключением Троицкого и Новом...   \n",
       "4       город Москва (за исключением Троицкого и Новом...   \n",
       "5       город Москва (за исключением Троицкого и Новом...   \n",
       "\n",
       "                   TariffItem UnitOfMeasure   StartDate     EndDate  \\\n",
       "ROWNUM                                                                \n",
       "1       Горячее водоснабжение     руб/куб.м  01.01.2012  30.06.2012   \n",
       "2               Водоотведение     руб/куб.м  01.01.2012  30.06.2012   \n",
       "3                         Газ      руб/кв.м  01.07.2012  31.08.2012   \n",
       "4              Электроэнергия     руб/кВт.ч  01.07.2012  31.07.2012   \n",
       "5              Электроэнергия     руб/кВт.ч  01.01.2012  30.06.2012   \n",
       "\n",
       "       MeasureDeviceAvail StoveType                         ConsumptionTime  \\\n",
       "ROWNUM                                                                        \n",
       "1                      да       NaN                                     NaN   \n",
       "2                      да       NaN                                     NaN   \n",
       "3                     нет       NaN                                     NaN   \n",
       "4                      да   газовая  с 07:00 по 23:00 ч (двухтарифный учет)   \n",
       "5                      да   газовая  с 23:00 по 07:00 ч (двухтарифный учет)   \n",
       "\n",
       "                                ConsumptionTarget  \\\n",
       "ROWNUM                                              \n",
       "1                                             NaN   \n",
       "2                                             NaN   \n",
       "3       дома с отоплением от газовых нагревателей   \n",
       "4                                на бытовые нужды   \n",
       "5                                на бытовые нужды   \n",
       "\n",
       "                                                   Agency  TariffValue  \\\n",
       "ROWNUM                                                                   \n",
       "1       ОАО «МОЭК» и иные, кроме ОАО «Мосэнерго» и ОАО...       105.45   \n",
       "2                                     МГУП «Мосводоканал»        16.65   \n",
       "3                       ООО «Газпром межрегионгаз Москва»        25.61   \n",
       "4                                     ОАО «Мосэнергосбыт»         4.03   \n",
       "5                                     ОАО «Мосэнергосбыт»         0.95   \n",
       "\n",
       "        global_id  Unnamed: 13  \n",
       "ROWNUM                          \n",
       "1        19693618          NaN  \n",
       "2        19693667          NaN  \n",
       "3        19693682          NaN  \n",
       "4        19693607          NaN  \n",
       "5        19693669          NaN  "
      ]
     },
     "execution_count": 21,
     "metadata": {},
     "output_type": "execute_result"
    }
   ],
   "source": [
    "df = pd.read_csv(\n",
    "    \"http://math-info.hse.ru/f/2015-16/all-py/data/tariff2012.csv\",\n",
    "    sep=';',\n",
    "    index_col=0\n",
    ")\n",
    "df.head()"
   ]
  },
  {
   "cell_type": "code",
   "execution_count": 22,
   "metadata": {
    "collapsed": false
   },
   "outputs": [
    {
     "data": {
      "text/plain": [
       "Region                город Москва (за исключением Троицкого и Новом...\n",
       "TariffItem                                        Горячее водоснабжение\n",
       "UnitOfMeasure                                                 руб/куб.м\n",
       "StartDate                                                    01.01.2012\n",
       "EndDate                                                      30.06.2012\n",
       "MeasureDeviceAvail                                                   да\n",
       "StoveType                                                           NaN\n",
       "ConsumptionTime                                                     NaN\n",
       "ConsumptionTarget                                                   NaN\n",
       "Agency                ОАО «МОЭК» и иные, кроме ОАО «Мосэнерго» и ОАО...\n",
       "TariffValue                                                      105.45\n",
       "global_id                                                      19693618\n",
       "Unnamed: 13                                                         NaN\n",
       "Name: 1, dtype: object"
      ]
     },
     "execution_count": 22,
     "metadata": {},
     "output_type": "execute_result"
    }
   ],
   "source": [
    "df.iloc[0]"
   ]
  },
  {
   "cell_type": "markdown",
   "metadata": {},
   "source": [
    "Обратите внимание на `NaN` — это такой специальный элемент, который указыает, что в данной ячейке нет данных (например, в исходном файле в эту ячейку ничего не было записано).\n"
   ]
  },
  {
   "cell_type": "code",
   "execution_count": 23,
   "metadata": {
    "collapsed": false
   },
   "outputs": [
    {
     "data": {
      "text/html": [
       "<div>\n",
       "<style scoped>\n",
       "    .dataframe tbody tr th:only-of-type {\n",
       "        vertical-align: middle;\n",
       "    }\n",
       "\n",
       "    .dataframe tbody tr th {\n",
       "        vertical-align: top;\n",
       "    }\n",
       "\n",
       "    .dataframe thead th {\n",
       "        text-align: right;\n",
       "    }\n",
       "</style>\n",
       "<table border=\"1\" class=\"dataframe\">\n",
       "  <thead>\n",
       "    <tr style=\"text-align: right;\">\n",
       "      <th></th>\n",
       "      <th>Region</th>\n",
       "      <th>TariffItem</th>\n",
       "      <th>UnitOfMeasure</th>\n",
       "      <th>StartDate</th>\n",
       "      <th>EndDate</th>\n",
       "      <th>MeasureDeviceAvail</th>\n",
       "      <th>StoveType</th>\n",
       "      <th>ConsumptionTime</th>\n",
       "      <th>ConsumptionTarget</th>\n",
       "      <th>Agency</th>\n",
       "      <th>TariffValue</th>\n",
       "      <th>global_id</th>\n",
       "      <th>Unnamed: 13</th>\n",
       "    </tr>\n",
       "    <tr>\n",
       "      <th>ROWNUM</th>\n",
       "      <th></th>\n",
       "      <th></th>\n",
       "      <th></th>\n",
       "      <th></th>\n",
       "      <th></th>\n",
       "      <th></th>\n",
       "      <th></th>\n",
       "      <th></th>\n",
       "      <th></th>\n",
       "      <th></th>\n",
       "      <th></th>\n",
       "      <th></th>\n",
       "      <th></th>\n",
       "    </tr>\n",
       "  </thead>\n",
       "  <tbody>\n",
       "    <tr>\n",
       "      <th>1</th>\n",
       "      <td>False</td>\n",
       "      <td>False</td>\n",
       "      <td>False</td>\n",
       "      <td>False</td>\n",
       "      <td>False</td>\n",
       "      <td>False</td>\n",
       "      <td>True</td>\n",
       "      <td>True</td>\n",
       "      <td>True</td>\n",
       "      <td>False</td>\n",
       "      <td>False</td>\n",
       "      <td>False</td>\n",
       "      <td>True</td>\n",
       "    </tr>\n",
       "    <tr>\n",
       "      <th>2</th>\n",
       "      <td>False</td>\n",
       "      <td>False</td>\n",
       "      <td>False</td>\n",
       "      <td>False</td>\n",
       "      <td>False</td>\n",
       "      <td>False</td>\n",
       "      <td>True</td>\n",
       "      <td>True</td>\n",
       "      <td>True</td>\n",
       "      <td>False</td>\n",
       "      <td>False</td>\n",
       "      <td>False</td>\n",
       "      <td>True</td>\n",
       "    </tr>\n",
       "    <tr>\n",
       "      <th>3</th>\n",
       "      <td>False</td>\n",
       "      <td>False</td>\n",
       "      <td>False</td>\n",
       "      <td>False</td>\n",
       "      <td>False</td>\n",
       "      <td>False</td>\n",
       "      <td>True</td>\n",
       "      <td>True</td>\n",
       "      <td>False</td>\n",
       "      <td>False</td>\n",
       "      <td>False</td>\n",
       "      <td>False</td>\n",
       "      <td>True</td>\n",
       "    </tr>\n",
       "    <tr>\n",
       "      <th>4</th>\n",
       "      <td>False</td>\n",
       "      <td>False</td>\n",
       "      <td>False</td>\n",
       "      <td>False</td>\n",
       "      <td>False</td>\n",
       "      <td>False</td>\n",
       "      <td>False</td>\n",
       "      <td>False</td>\n",
       "      <td>False</td>\n",
       "      <td>False</td>\n",
       "      <td>False</td>\n",
       "      <td>False</td>\n",
       "      <td>True</td>\n",
       "    </tr>\n",
       "    <tr>\n",
       "      <th>5</th>\n",
       "      <td>False</td>\n",
       "      <td>False</td>\n",
       "      <td>False</td>\n",
       "      <td>False</td>\n",
       "      <td>False</td>\n",
       "      <td>False</td>\n",
       "      <td>False</td>\n",
       "      <td>False</td>\n",
       "      <td>False</td>\n",
       "      <td>False</td>\n",
       "      <td>False</td>\n",
       "      <td>False</td>\n",
       "      <td>True</td>\n",
       "    </tr>\n",
       "    <tr>\n",
       "      <th>6</th>\n",
       "      <td>False</td>\n",
       "      <td>False</td>\n",
       "      <td>False</td>\n",
       "      <td>False</td>\n",
       "      <td>False</td>\n",
       "      <td>False</td>\n",
       "      <td>False</td>\n",
       "      <td>False</td>\n",
       "      <td>False</td>\n",
       "      <td>False</td>\n",
       "      <td>False</td>\n",
       "      <td>False</td>\n",
       "      <td>True</td>\n",
       "    </tr>\n",
       "    <tr>\n",
       "      <th>7</th>\n",
       "      <td>False</td>\n",
       "      <td>False</td>\n",
       "      <td>False</td>\n",
       "      <td>False</td>\n",
       "      <td>False</td>\n",
       "      <td>False</td>\n",
       "      <td>True</td>\n",
       "      <td>True</td>\n",
       "      <td>False</td>\n",
       "      <td>False</td>\n",
       "      <td>False</td>\n",
       "      <td>False</td>\n",
       "      <td>True</td>\n",
       "    </tr>\n",
       "    <tr>\n",
       "      <th>8</th>\n",
       "      <td>False</td>\n",
       "      <td>False</td>\n",
       "      <td>False</td>\n",
       "      <td>False</td>\n",
       "      <td>False</td>\n",
       "      <td>False</td>\n",
       "      <td>True</td>\n",
       "      <td>True</td>\n",
       "      <td>False</td>\n",
       "      <td>False</td>\n",
       "      <td>False</td>\n",
       "      <td>False</td>\n",
       "      <td>True</td>\n",
       "    </tr>\n",
       "    <tr>\n",
       "      <th>9</th>\n",
       "      <td>False</td>\n",
       "      <td>False</td>\n",
       "      <td>False</td>\n",
       "      <td>False</td>\n",
       "      <td>False</td>\n",
       "      <td>False</td>\n",
       "      <td>False</td>\n",
       "      <td>False</td>\n",
       "      <td>False</td>\n",
       "      <td>False</td>\n",
       "      <td>False</td>\n",
       "      <td>False</td>\n",
       "      <td>True</td>\n",
       "    </tr>\n",
       "    <tr>\n",
       "      <th>10</th>\n",
       "      <td>False</td>\n",
       "      <td>False</td>\n",
       "      <td>False</td>\n",
       "      <td>False</td>\n",
       "      <td>False</td>\n",
       "      <td>False</td>\n",
       "      <td>False</td>\n",
       "      <td>False</td>\n",
       "      <td>False</td>\n",
       "      <td>False</td>\n",
       "      <td>False</td>\n",
       "      <td>False</td>\n",
       "      <td>True</td>\n",
       "    </tr>\n",
       "    <tr>\n",
       "      <th>11</th>\n",
       "      <td>False</td>\n",
       "      <td>False</td>\n",
       "      <td>False</td>\n",
       "      <td>False</td>\n",
       "      <td>False</td>\n",
       "      <td>False</td>\n",
       "      <td>True</td>\n",
       "      <td>True</td>\n",
       "      <td>False</td>\n",
       "      <td>False</td>\n",
       "      <td>False</td>\n",
       "      <td>False</td>\n",
       "      <td>True</td>\n",
       "    </tr>\n",
       "    <tr>\n",
       "      <th>12</th>\n",
       "      <td>False</td>\n",
       "      <td>False</td>\n",
       "      <td>False</td>\n",
       "      <td>False</td>\n",
       "      <td>False</td>\n",
       "      <td>False</td>\n",
       "      <td>True</td>\n",
       "      <td>True</td>\n",
       "      <td>False</td>\n",
       "      <td>False</td>\n",
       "      <td>False</td>\n",
       "      <td>False</td>\n",
       "      <td>True</td>\n",
       "    </tr>\n",
       "    <tr>\n",
       "      <th>13</th>\n",
       "      <td>False</td>\n",
       "      <td>False</td>\n",
       "      <td>False</td>\n",
       "      <td>False</td>\n",
       "      <td>False</td>\n",
       "      <td>False</td>\n",
       "      <td>True</td>\n",
       "      <td>True</td>\n",
       "      <td>False</td>\n",
       "      <td>False</td>\n",
       "      <td>False</td>\n",
       "      <td>False</td>\n",
       "      <td>True</td>\n",
       "    </tr>\n",
       "    <tr>\n",
       "      <th>14</th>\n",
       "      <td>False</td>\n",
       "      <td>False</td>\n",
       "      <td>False</td>\n",
       "      <td>False</td>\n",
       "      <td>False</td>\n",
       "      <td>False</td>\n",
       "      <td>True</td>\n",
       "      <td>True</td>\n",
       "      <td>False</td>\n",
       "      <td>False</td>\n",
       "      <td>False</td>\n",
       "      <td>False</td>\n",
       "      <td>True</td>\n",
       "    </tr>\n",
       "    <tr>\n",
       "      <th>15</th>\n",
       "      <td>False</td>\n",
       "      <td>False</td>\n",
       "      <td>False</td>\n",
       "      <td>False</td>\n",
       "      <td>False</td>\n",
       "      <td>False</td>\n",
       "      <td>True</td>\n",
       "      <td>True</td>\n",
       "      <td>False</td>\n",
       "      <td>False</td>\n",
       "      <td>False</td>\n",
       "      <td>False</td>\n",
       "      <td>True</td>\n",
       "    </tr>\n",
       "    <tr>\n",
       "      <th>16</th>\n",
       "      <td>False</td>\n",
       "      <td>False</td>\n",
       "      <td>False</td>\n",
       "      <td>False</td>\n",
       "      <td>False</td>\n",
       "      <td>False</td>\n",
       "      <td>False</td>\n",
       "      <td>False</td>\n",
       "      <td>False</td>\n",
       "      <td>False</td>\n",
       "      <td>False</td>\n",
       "      <td>False</td>\n",
       "      <td>True</td>\n",
       "    </tr>\n",
       "    <tr>\n",
       "      <th>17</th>\n",
       "      <td>False</td>\n",
       "      <td>False</td>\n",
       "      <td>False</td>\n",
       "      <td>False</td>\n",
       "      <td>False</td>\n",
       "      <td>False</td>\n",
       "      <td>True</td>\n",
       "      <td>True</td>\n",
       "      <td>True</td>\n",
       "      <td>False</td>\n",
       "      <td>False</td>\n",
       "      <td>False</td>\n",
       "      <td>True</td>\n",
       "    </tr>\n",
       "    <tr>\n",
       "      <th>18</th>\n",
       "      <td>False</td>\n",
       "      <td>False</td>\n",
       "      <td>False</td>\n",
       "      <td>False</td>\n",
       "      <td>False</td>\n",
       "      <td>False</td>\n",
       "      <td>False</td>\n",
       "      <td>False</td>\n",
       "      <td>False</td>\n",
       "      <td>False</td>\n",
       "      <td>False</td>\n",
       "      <td>False</td>\n",
       "      <td>True</td>\n",
       "    </tr>\n",
       "    <tr>\n",
       "      <th>19</th>\n",
       "      <td>False</td>\n",
       "      <td>False</td>\n",
       "      <td>False</td>\n",
       "      <td>False</td>\n",
       "      <td>False</td>\n",
       "      <td>False</td>\n",
       "      <td>False</td>\n",
       "      <td>False</td>\n",
       "      <td>False</td>\n",
       "      <td>False</td>\n",
       "      <td>False</td>\n",
       "      <td>False</td>\n",
       "      <td>True</td>\n",
       "    </tr>\n",
       "    <tr>\n",
       "      <th>20</th>\n",
       "      <td>False</td>\n",
       "      <td>False</td>\n",
       "      <td>False</td>\n",
       "      <td>False</td>\n",
       "      <td>False</td>\n",
       "      <td>False</td>\n",
       "      <td>False</td>\n",
       "      <td>False</td>\n",
       "      <td>False</td>\n",
       "      <td>False</td>\n",
       "      <td>False</td>\n",
       "      <td>False</td>\n",
       "      <td>True</td>\n",
       "    </tr>\n",
       "    <tr>\n",
       "      <th>21</th>\n",
       "      <td>False</td>\n",
       "      <td>False</td>\n",
       "      <td>False</td>\n",
       "      <td>False</td>\n",
       "      <td>False</td>\n",
       "      <td>False</td>\n",
       "      <td>True</td>\n",
       "      <td>True</td>\n",
       "      <td>True</td>\n",
       "      <td>False</td>\n",
       "      <td>False</td>\n",
       "      <td>False</td>\n",
       "      <td>True</td>\n",
       "    </tr>\n",
       "    <tr>\n",
       "      <th>22</th>\n",
       "      <td>False</td>\n",
       "      <td>False</td>\n",
       "      <td>False</td>\n",
       "      <td>False</td>\n",
       "      <td>False</td>\n",
       "      <td>False</td>\n",
       "      <td>True</td>\n",
       "      <td>True</td>\n",
       "      <td>False</td>\n",
       "      <td>False</td>\n",
       "      <td>False</td>\n",
       "      <td>False</td>\n",
       "      <td>True</td>\n",
       "    </tr>\n",
       "    <tr>\n",
       "      <th>23</th>\n",
       "      <td>False</td>\n",
       "      <td>False</td>\n",
       "      <td>False</td>\n",
       "      <td>False</td>\n",
       "      <td>False</td>\n",
       "      <td>False</td>\n",
       "      <td>True</td>\n",
       "      <td>True</td>\n",
       "      <td>False</td>\n",
       "      <td>False</td>\n",
       "      <td>False</td>\n",
       "      <td>False</td>\n",
       "      <td>True</td>\n",
       "    </tr>\n",
       "    <tr>\n",
       "      <th>24</th>\n",
       "      <td>False</td>\n",
       "      <td>False</td>\n",
       "      <td>False</td>\n",
       "      <td>False</td>\n",
       "      <td>False</td>\n",
       "      <td>False</td>\n",
       "      <td>True</td>\n",
       "      <td>True</td>\n",
       "      <td>False</td>\n",
       "      <td>False</td>\n",
       "      <td>False</td>\n",
       "      <td>False</td>\n",
       "      <td>True</td>\n",
       "    </tr>\n",
       "    <tr>\n",
       "      <th>25</th>\n",
       "      <td>False</td>\n",
       "      <td>False</td>\n",
       "      <td>False</td>\n",
       "      <td>False</td>\n",
       "      <td>False</td>\n",
       "      <td>False</td>\n",
       "      <td>False</td>\n",
       "      <td>False</td>\n",
       "      <td>False</td>\n",
       "      <td>False</td>\n",
       "      <td>False</td>\n",
       "      <td>False</td>\n",
       "      <td>True</td>\n",
       "    </tr>\n",
       "    <tr>\n",
       "      <th>26</th>\n",
       "      <td>False</td>\n",
       "      <td>False</td>\n",
       "      <td>False</td>\n",
       "      <td>False</td>\n",
       "      <td>False</td>\n",
       "      <td>False</td>\n",
       "      <td>True</td>\n",
       "      <td>True</td>\n",
       "      <td>True</td>\n",
       "      <td>False</td>\n",
       "      <td>False</td>\n",
       "      <td>False</td>\n",
       "      <td>True</td>\n",
       "    </tr>\n",
       "    <tr>\n",
       "      <th>27</th>\n",
       "      <td>False</td>\n",
       "      <td>False</td>\n",
       "      <td>False</td>\n",
       "      <td>False</td>\n",
       "      <td>False</td>\n",
       "      <td>False</td>\n",
       "      <td>True</td>\n",
       "      <td>True</td>\n",
       "      <td>True</td>\n",
       "      <td>False</td>\n",
       "      <td>False</td>\n",
       "      <td>False</td>\n",
       "      <td>True</td>\n",
       "    </tr>\n",
       "    <tr>\n",
       "      <th>28</th>\n",
       "      <td>False</td>\n",
       "      <td>False</td>\n",
       "      <td>False</td>\n",
       "      <td>False</td>\n",
       "      <td>False</td>\n",
       "      <td>False</td>\n",
       "      <td>False</td>\n",
       "      <td>False</td>\n",
       "      <td>False</td>\n",
       "      <td>False</td>\n",
       "      <td>False</td>\n",
       "      <td>False</td>\n",
       "      <td>True</td>\n",
       "    </tr>\n",
       "    <tr>\n",
       "      <th>29</th>\n",
       "      <td>False</td>\n",
       "      <td>False</td>\n",
       "      <td>False</td>\n",
       "      <td>False</td>\n",
       "      <td>False</td>\n",
       "      <td>False</td>\n",
       "      <td>False</td>\n",
       "      <td>False</td>\n",
       "      <td>False</td>\n",
       "      <td>False</td>\n",
       "      <td>False</td>\n",
       "      <td>False</td>\n",
       "      <td>True</td>\n",
       "    </tr>\n",
       "    <tr>\n",
       "      <th>30</th>\n",
       "      <td>False</td>\n",
       "      <td>False</td>\n",
       "      <td>False</td>\n",
       "      <td>False</td>\n",
       "      <td>False</td>\n",
       "      <td>False</td>\n",
       "      <td>False</td>\n",
       "      <td>False</td>\n",
       "      <td>False</td>\n",
       "      <td>False</td>\n",
       "      <td>False</td>\n",
       "      <td>False</td>\n",
       "      <td>True</td>\n",
       "    </tr>\n",
       "    <tr>\n",
       "      <th>...</th>\n",
       "      <td>...</td>\n",
       "      <td>...</td>\n",
       "      <td>...</td>\n",
       "      <td>...</td>\n",
       "      <td>...</td>\n",
       "      <td>...</td>\n",
       "      <td>...</td>\n",
       "      <td>...</td>\n",
       "      <td>...</td>\n",
       "      <td>...</td>\n",
       "      <td>...</td>\n",
       "      <td>...</td>\n",
       "      <td>...</td>\n",
       "    </tr>\n",
       "    <tr>\n",
       "      <th>42</th>\n",
       "      <td>False</td>\n",
       "      <td>False</td>\n",
       "      <td>False</td>\n",
       "      <td>False</td>\n",
       "      <td>False</td>\n",
       "      <td>False</td>\n",
       "      <td>False</td>\n",
       "      <td>False</td>\n",
       "      <td>False</td>\n",
       "      <td>False</td>\n",
       "      <td>False</td>\n",
       "      <td>False</td>\n",
       "      <td>True</td>\n",
       "    </tr>\n",
       "    <tr>\n",
       "      <th>43</th>\n",
       "      <td>False</td>\n",
       "      <td>False</td>\n",
       "      <td>False</td>\n",
       "      <td>False</td>\n",
       "      <td>False</td>\n",
       "      <td>False</td>\n",
       "      <td>True</td>\n",
       "      <td>True</td>\n",
       "      <td>True</td>\n",
       "      <td>False</td>\n",
       "      <td>False</td>\n",
       "      <td>False</td>\n",
       "      <td>True</td>\n",
       "    </tr>\n",
       "    <tr>\n",
       "      <th>44</th>\n",
       "      <td>False</td>\n",
       "      <td>False</td>\n",
       "      <td>False</td>\n",
       "      <td>False</td>\n",
       "      <td>False</td>\n",
       "      <td>False</td>\n",
       "      <td>False</td>\n",
       "      <td>False</td>\n",
       "      <td>False</td>\n",
       "      <td>False</td>\n",
       "      <td>False</td>\n",
       "      <td>False</td>\n",
       "      <td>True</td>\n",
       "    </tr>\n",
       "    <tr>\n",
       "      <th>45</th>\n",
       "      <td>False</td>\n",
       "      <td>False</td>\n",
       "      <td>False</td>\n",
       "      <td>False</td>\n",
       "      <td>False</td>\n",
       "      <td>False</td>\n",
       "      <td>False</td>\n",
       "      <td>False</td>\n",
       "      <td>False</td>\n",
       "      <td>False</td>\n",
       "      <td>False</td>\n",
       "      <td>False</td>\n",
       "      <td>True</td>\n",
       "    </tr>\n",
       "    <tr>\n",
       "      <th>46</th>\n",
       "      <td>False</td>\n",
       "      <td>False</td>\n",
       "      <td>False</td>\n",
       "      <td>False</td>\n",
       "      <td>False</td>\n",
       "      <td>False</td>\n",
       "      <td>True</td>\n",
       "      <td>True</td>\n",
       "      <td>False</td>\n",
       "      <td>False</td>\n",
       "      <td>False</td>\n",
       "      <td>False</td>\n",
       "      <td>True</td>\n",
       "    </tr>\n",
       "    <tr>\n",
       "      <th>47</th>\n",
       "      <td>False</td>\n",
       "      <td>False</td>\n",
       "      <td>False</td>\n",
       "      <td>False</td>\n",
       "      <td>False</td>\n",
       "      <td>False</td>\n",
       "      <td>False</td>\n",
       "      <td>False</td>\n",
       "      <td>False</td>\n",
       "      <td>False</td>\n",
       "      <td>False</td>\n",
       "      <td>False</td>\n",
       "      <td>True</td>\n",
       "    </tr>\n",
       "    <tr>\n",
       "      <th>48</th>\n",
       "      <td>False</td>\n",
       "      <td>False</td>\n",
       "      <td>False</td>\n",
       "      <td>False</td>\n",
       "      <td>False</td>\n",
       "      <td>False</td>\n",
       "      <td>False</td>\n",
       "      <td>False</td>\n",
       "      <td>False</td>\n",
       "      <td>False</td>\n",
       "      <td>False</td>\n",
       "      <td>False</td>\n",
       "      <td>True</td>\n",
       "    </tr>\n",
       "    <tr>\n",
       "      <th>49</th>\n",
       "      <td>False</td>\n",
       "      <td>False</td>\n",
       "      <td>False</td>\n",
       "      <td>False</td>\n",
       "      <td>False</td>\n",
       "      <td>False</td>\n",
       "      <td>False</td>\n",
       "      <td>False</td>\n",
       "      <td>False</td>\n",
       "      <td>False</td>\n",
       "      <td>False</td>\n",
       "      <td>False</td>\n",
       "      <td>True</td>\n",
       "    </tr>\n",
       "    <tr>\n",
       "      <th>50</th>\n",
       "      <td>False</td>\n",
       "      <td>False</td>\n",
       "      <td>False</td>\n",
       "      <td>False</td>\n",
       "      <td>False</td>\n",
       "      <td>False</td>\n",
       "      <td>False</td>\n",
       "      <td>False</td>\n",
       "      <td>False</td>\n",
       "      <td>False</td>\n",
       "      <td>False</td>\n",
       "      <td>False</td>\n",
       "      <td>True</td>\n",
       "    </tr>\n",
       "    <tr>\n",
       "      <th>51</th>\n",
       "      <td>False</td>\n",
       "      <td>False</td>\n",
       "      <td>False</td>\n",
       "      <td>False</td>\n",
       "      <td>False</td>\n",
       "      <td>False</td>\n",
       "      <td>True</td>\n",
       "      <td>True</td>\n",
       "      <td>True</td>\n",
       "      <td>False</td>\n",
       "      <td>False</td>\n",
       "      <td>False</td>\n",
       "      <td>True</td>\n",
       "    </tr>\n",
       "    <tr>\n",
       "      <th>52</th>\n",
       "      <td>False</td>\n",
       "      <td>False</td>\n",
       "      <td>False</td>\n",
       "      <td>False</td>\n",
       "      <td>False</td>\n",
       "      <td>False</td>\n",
       "      <td>True</td>\n",
       "      <td>True</td>\n",
       "      <td>False</td>\n",
       "      <td>False</td>\n",
       "      <td>False</td>\n",
       "      <td>False</td>\n",
       "      <td>True</td>\n",
       "    </tr>\n",
       "    <tr>\n",
       "      <th>53</th>\n",
       "      <td>False</td>\n",
       "      <td>False</td>\n",
       "      <td>False</td>\n",
       "      <td>False</td>\n",
       "      <td>False</td>\n",
       "      <td>False</td>\n",
       "      <td>True</td>\n",
       "      <td>True</td>\n",
       "      <td>False</td>\n",
       "      <td>False</td>\n",
       "      <td>False</td>\n",
       "      <td>False</td>\n",
       "      <td>True</td>\n",
       "    </tr>\n",
       "    <tr>\n",
       "      <th>54</th>\n",
       "      <td>False</td>\n",
       "      <td>False</td>\n",
       "      <td>False</td>\n",
       "      <td>False</td>\n",
       "      <td>False</td>\n",
       "      <td>False</td>\n",
       "      <td>True</td>\n",
       "      <td>True</td>\n",
       "      <td>True</td>\n",
       "      <td>False</td>\n",
       "      <td>False</td>\n",
       "      <td>False</td>\n",
       "      <td>True</td>\n",
       "    </tr>\n",
       "    <tr>\n",
       "      <th>55</th>\n",
       "      <td>False</td>\n",
       "      <td>False</td>\n",
       "      <td>False</td>\n",
       "      <td>False</td>\n",
       "      <td>False</td>\n",
       "      <td>False</td>\n",
       "      <td>True</td>\n",
       "      <td>True</td>\n",
       "      <td>True</td>\n",
       "      <td>False</td>\n",
       "      <td>False</td>\n",
       "      <td>False</td>\n",
       "      <td>True</td>\n",
       "    </tr>\n",
       "    <tr>\n",
       "      <th>56</th>\n",
       "      <td>False</td>\n",
       "      <td>False</td>\n",
       "      <td>False</td>\n",
       "      <td>False</td>\n",
       "      <td>False</td>\n",
       "      <td>False</td>\n",
       "      <td>False</td>\n",
       "      <td>False</td>\n",
       "      <td>False</td>\n",
       "      <td>False</td>\n",
       "      <td>False</td>\n",
       "      <td>False</td>\n",
       "      <td>True</td>\n",
       "    </tr>\n",
       "    <tr>\n",
       "      <th>57</th>\n",
       "      <td>False</td>\n",
       "      <td>False</td>\n",
       "      <td>False</td>\n",
       "      <td>False</td>\n",
       "      <td>False</td>\n",
       "      <td>False</td>\n",
       "      <td>False</td>\n",
       "      <td>False</td>\n",
       "      <td>False</td>\n",
       "      <td>False</td>\n",
       "      <td>False</td>\n",
       "      <td>False</td>\n",
       "      <td>True</td>\n",
       "    </tr>\n",
       "    <tr>\n",
       "      <th>58</th>\n",
       "      <td>False</td>\n",
       "      <td>False</td>\n",
       "      <td>False</td>\n",
       "      <td>False</td>\n",
       "      <td>False</td>\n",
       "      <td>False</td>\n",
       "      <td>False</td>\n",
       "      <td>False</td>\n",
       "      <td>False</td>\n",
       "      <td>False</td>\n",
       "      <td>False</td>\n",
       "      <td>False</td>\n",
       "      <td>True</td>\n",
       "    </tr>\n",
       "    <tr>\n",
       "      <th>59</th>\n",
       "      <td>False</td>\n",
       "      <td>False</td>\n",
       "      <td>False</td>\n",
       "      <td>False</td>\n",
       "      <td>False</td>\n",
       "      <td>False</td>\n",
       "      <td>False</td>\n",
       "      <td>False</td>\n",
       "      <td>False</td>\n",
       "      <td>False</td>\n",
       "      <td>False</td>\n",
       "      <td>False</td>\n",
       "      <td>True</td>\n",
       "    </tr>\n",
       "    <tr>\n",
       "      <th>60</th>\n",
       "      <td>False</td>\n",
       "      <td>False</td>\n",
       "      <td>False</td>\n",
       "      <td>False</td>\n",
       "      <td>False</td>\n",
       "      <td>False</td>\n",
       "      <td>True</td>\n",
       "      <td>True</td>\n",
       "      <td>False</td>\n",
       "      <td>False</td>\n",
       "      <td>False</td>\n",
       "      <td>False</td>\n",
       "      <td>True</td>\n",
       "    </tr>\n",
       "    <tr>\n",
       "      <th>61</th>\n",
       "      <td>False</td>\n",
       "      <td>False</td>\n",
       "      <td>False</td>\n",
       "      <td>False</td>\n",
       "      <td>False</td>\n",
       "      <td>False</td>\n",
       "      <td>True</td>\n",
       "      <td>True</td>\n",
       "      <td>True</td>\n",
       "      <td>False</td>\n",
       "      <td>False</td>\n",
       "      <td>False</td>\n",
       "      <td>True</td>\n",
       "    </tr>\n",
       "    <tr>\n",
       "      <th>62</th>\n",
       "      <td>False</td>\n",
       "      <td>False</td>\n",
       "      <td>False</td>\n",
       "      <td>False</td>\n",
       "      <td>False</td>\n",
       "      <td>False</td>\n",
       "      <td>True</td>\n",
       "      <td>True</td>\n",
       "      <td>False</td>\n",
       "      <td>False</td>\n",
       "      <td>False</td>\n",
       "      <td>False</td>\n",
       "      <td>True</td>\n",
       "    </tr>\n",
       "    <tr>\n",
       "      <th>63</th>\n",
       "      <td>False</td>\n",
       "      <td>False</td>\n",
       "      <td>False</td>\n",
       "      <td>False</td>\n",
       "      <td>False</td>\n",
       "      <td>False</td>\n",
       "      <td>True</td>\n",
       "      <td>True</td>\n",
       "      <td>True</td>\n",
       "      <td>False</td>\n",
       "      <td>False</td>\n",
       "      <td>False</td>\n",
       "      <td>True</td>\n",
       "    </tr>\n",
       "    <tr>\n",
       "      <th>64</th>\n",
       "      <td>False</td>\n",
       "      <td>False</td>\n",
       "      <td>False</td>\n",
       "      <td>False</td>\n",
       "      <td>False</td>\n",
       "      <td>False</td>\n",
       "      <td>True</td>\n",
       "      <td>True</td>\n",
       "      <td>False</td>\n",
       "      <td>False</td>\n",
       "      <td>False</td>\n",
       "      <td>False</td>\n",
       "      <td>True</td>\n",
       "    </tr>\n",
       "    <tr>\n",
       "      <th>65</th>\n",
       "      <td>False</td>\n",
       "      <td>False</td>\n",
       "      <td>False</td>\n",
       "      <td>False</td>\n",
       "      <td>False</td>\n",
       "      <td>False</td>\n",
       "      <td>True</td>\n",
       "      <td>True</td>\n",
       "      <td>True</td>\n",
       "      <td>False</td>\n",
       "      <td>False</td>\n",
       "      <td>False</td>\n",
       "      <td>True</td>\n",
       "    </tr>\n",
       "    <tr>\n",
       "      <th>66</th>\n",
       "      <td>False</td>\n",
       "      <td>False</td>\n",
       "      <td>False</td>\n",
       "      <td>False</td>\n",
       "      <td>False</td>\n",
       "      <td>False</td>\n",
       "      <td>True</td>\n",
       "      <td>True</td>\n",
       "      <td>False</td>\n",
       "      <td>False</td>\n",
       "      <td>False</td>\n",
       "      <td>False</td>\n",
       "      <td>True</td>\n",
       "    </tr>\n",
       "    <tr>\n",
       "      <th>67</th>\n",
       "      <td>False</td>\n",
       "      <td>False</td>\n",
       "      <td>False</td>\n",
       "      <td>False</td>\n",
       "      <td>False</td>\n",
       "      <td>False</td>\n",
       "      <td>False</td>\n",
       "      <td>False</td>\n",
       "      <td>False</td>\n",
       "      <td>False</td>\n",
       "      <td>False</td>\n",
       "      <td>False</td>\n",
       "      <td>True</td>\n",
       "    </tr>\n",
       "    <tr>\n",
       "      <th>68</th>\n",
       "      <td>False</td>\n",
       "      <td>False</td>\n",
       "      <td>False</td>\n",
       "      <td>False</td>\n",
       "      <td>False</td>\n",
       "      <td>False</td>\n",
       "      <td>False</td>\n",
       "      <td>False</td>\n",
       "      <td>False</td>\n",
       "      <td>False</td>\n",
       "      <td>False</td>\n",
       "      <td>False</td>\n",
       "      <td>True</td>\n",
       "    </tr>\n",
       "    <tr>\n",
       "      <th>69</th>\n",
       "      <td>False</td>\n",
       "      <td>False</td>\n",
       "      <td>False</td>\n",
       "      <td>False</td>\n",
       "      <td>False</td>\n",
       "      <td>False</td>\n",
       "      <td>False</td>\n",
       "      <td>False</td>\n",
       "      <td>False</td>\n",
       "      <td>False</td>\n",
       "      <td>False</td>\n",
       "      <td>False</td>\n",
       "      <td>True</td>\n",
       "    </tr>\n",
       "    <tr>\n",
       "      <th>70</th>\n",
       "      <td>False</td>\n",
       "      <td>False</td>\n",
       "      <td>False</td>\n",
       "      <td>False</td>\n",
       "      <td>False</td>\n",
       "      <td>False</td>\n",
       "      <td>False</td>\n",
       "      <td>False</td>\n",
       "      <td>False</td>\n",
       "      <td>False</td>\n",
       "      <td>False</td>\n",
       "      <td>False</td>\n",
       "      <td>True</td>\n",
       "    </tr>\n",
       "    <tr>\n",
       "      <th>71</th>\n",
       "      <td>False</td>\n",
       "      <td>False</td>\n",
       "      <td>False</td>\n",
       "      <td>False</td>\n",
       "      <td>False</td>\n",
       "      <td>False</td>\n",
       "      <td>True</td>\n",
       "      <td>True</td>\n",
       "      <td>False</td>\n",
       "      <td>False</td>\n",
       "      <td>False</td>\n",
       "      <td>False</td>\n",
       "      <td>True</td>\n",
       "    </tr>\n",
       "  </tbody>\n",
       "</table>\n",
       "<p>71 rows × 13 columns</p>\n",
       "</div>"
      ],
      "text/plain": [
       "        Region  TariffItem  UnitOfMeasure  StartDate  EndDate  \\\n",
       "ROWNUM                                                          \n",
       "1        False       False          False      False    False   \n",
       "2        False       False          False      False    False   \n",
       "3        False       False          False      False    False   \n",
       "4        False       False          False      False    False   \n",
       "5        False       False          False      False    False   \n",
       "6        False       False          False      False    False   \n",
       "7        False       False          False      False    False   \n",
       "8        False       False          False      False    False   \n",
       "9        False       False          False      False    False   \n",
       "10       False       False          False      False    False   \n",
       "11       False       False          False      False    False   \n",
       "12       False       False          False      False    False   \n",
       "13       False       False          False      False    False   \n",
       "14       False       False          False      False    False   \n",
       "15       False       False          False      False    False   \n",
       "16       False       False          False      False    False   \n",
       "17       False       False          False      False    False   \n",
       "18       False       False          False      False    False   \n",
       "19       False       False          False      False    False   \n",
       "20       False       False          False      False    False   \n",
       "21       False       False          False      False    False   \n",
       "22       False       False          False      False    False   \n",
       "23       False       False          False      False    False   \n",
       "24       False       False          False      False    False   \n",
       "25       False       False          False      False    False   \n",
       "26       False       False          False      False    False   \n",
       "27       False       False          False      False    False   \n",
       "28       False       False          False      False    False   \n",
       "29       False       False          False      False    False   \n",
       "30       False       False          False      False    False   \n",
       "...        ...         ...            ...        ...      ...   \n",
       "42       False       False          False      False    False   \n",
       "43       False       False          False      False    False   \n",
       "44       False       False          False      False    False   \n",
       "45       False       False          False      False    False   \n",
       "46       False       False          False      False    False   \n",
       "47       False       False          False      False    False   \n",
       "48       False       False          False      False    False   \n",
       "49       False       False          False      False    False   \n",
       "50       False       False          False      False    False   \n",
       "51       False       False          False      False    False   \n",
       "52       False       False          False      False    False   \n",
       "53       False       False          False      False    False   \n",
       "54       False       False          False      False    False   \n",
       "55       False       False          False      False    False   \n",
       "56       False       False          False      False    False   \n",
       "57       False       False          False      False    False   \n",
       "58       False       False          False      False    False   \n",
       "59       False       False          False      False    False   \n",
       "60       False       False          False      False    False   \n",
       "61       False       False          False      False    False   \n",
       "62       False       False          False      False    False   \n",
       "63       False       False          False      False    False   \n",
       "64       False       False          False      False    False   \n",
       "65       False       False          False      False    False   \n",
       "66       False       False          False      False    False   \n",
       "67       False       False          False      False    False   \n",
       "68       False       False          False      False    False   \n",
       "69       False       False          False      False    False   \n",
       "70       False       False          False      False    False   \n",
       "71       False       False          False      False    False   \n",
       "\n",
       "        MeasureDeviceAvail  StoveType  ConsumptionTime  ConsumptionTarget  \\\n",
       "ROWNUM                                                                      \n",
       "1                    False       True             True               True   \n",
       "2                    False       True             True               True   \n",
       "3                    False       True             True              False   \n",
       "4                    False      False            False              False   \n",
       "5                    False      False            False              False   \n",
       "6                    False      False            False              False   \n",
       "7                    False       True             True              False   \n",
       "8                    False       True             True              False   \n",
       "9                    False      False            False              False   \n",
       "10                   False      False            False              False   \n",
       "11                   False       True             True              False   \n",
       "12                   False       True             True              False   \n",
       "13                   False       True             True              False   \n",
       "14                   False       True             True              False   \n",
       "15                   False       True             True              False   \n",
       "16                   False      False            False              False   \n",
       "17                   False       True             True               True   \n",
       "18                   False      False            False              False   \n",
       "19                   False      False            False              False   \n",
       "20                   False      False            False              False   \n",
       "21                   False       True             True               True   \n",
       "22                   False       True             True              False   \n",
       "23                   False       True             True              False   \n",
       "24                   False       True             True              False   \n",
       "25                   False      False            False              False   \n",
       "26                   False       True             True               True   \n",
       "27                   False       True             True               True   \n",
       "28                   False      False            False              False   \n",
       "29                   False      False            False              False   \n",
       "30                   False      False            False              False   \n",
       "...                    ...        ...              ...                ...   \n",
       "42                   False      False            False              False   \n",
       "43                   False       True             True               True   \n",
       "44                   False      False            False              False   \n",
       "45                   False      False            False              False   \n",
       "46                   False       True             True              False   \n",
       "47                   False      False            False              False   \n",
       "48                   False      False            False              False   \n",
       "49                   False      False            False              False   \n",
       "50                   False      False            False              False   \n",
       "51                   False       True             True               True   \n",
       "52                   False       True             True              False   \n",
       "53                   False       True             True              False   \n",
       "54                   False       True             True               True   \n",
       "55                   False       True             True               True   \n",
       "56                   False      False            False              False   \n",
       "57                   False      False            False              False   \n",
       "58                   False      False            False              False   \n",
       "59                   False      False            False              False   \n",
       "60                   False       True             True              False   \n",
       "61                   False       True             True               True   \n",
       "62                   False       True             True              False   \n",
       "63                   False       True             True               True   \n",
       "64                   False       True             True              False   \n",
       "65                   False       True             True               True   \n",
       "66                   False       True             True              False   \n",
       "67                   False      False            False              False   \n",
       "68                   False      False            False              False   \n",
       "69                   False      False            False              False   \n",
       "70                   False      False            False              False   \n",
       "71                   False       True             True              False   \n",
       "\n",
       "        Agency  TariffValue  global_id  Unnamed: 13  \n",
       "ROWNUM                                               \n",
       "1        False        False      False         True  \n",
       "2        False        False      False         True  \n",
       "3        False        False      False         True  \n",
       "4        False        False      False         True  \n",
       "5        False        False      False         True  \n",
       "6        False        False      False         True  \n",
       "7        False        False      False         True  \n",
       "8        False        False      False         True  \n",
       "9        False        False      False         True  \n",
       "10       False        False      False         True  \n",
       "11       False        False      False         True  \n",
       "12       False        False      False         True  \n",
       "13       False        False      False         True  \n",
       "14       False        False      False         True  \n",
       "15       False        False      False         True  \n",
       "16       False        False      False         True  \n",
       "17       False        False      False         True  \n",
       "18       False        False      False         True  \n",
       "19       False        False      False         True  \n",
       "20       False        False      False         True  \n",
       "21       False        False      False         True  \n",
       "22       False        False      False         True  \n",
       "23       False        False      False         True  \n",
       "24       False        False      False         True  \n",
       "25       False        False      False         True  \n",
       "26       False        False      False         True  \n",
       "27       False        False      False         True  \n",
       "28       False        False      False         True  \n",
       "29       False        False      False         True  \n",
       "30       False        False      False         True  \n",
       "...        ...          ...        ...          ...  \n",
       "42       False        False      False         True  \n",
       "43       False        False      False         True  \n",
       "44       False        False      False         True  \n",
       "45       False        False      False         True  \n",
       "46       False        False      False         True  \n",
       "47       False        False      False         True  \n",
       "48       False        False      False         True  \n",
       "49       False        False      False         True  \n",
       "50       False        False      False         True  \n",
       "51       False        False      False         True  \n",
       "52       False        False      False         True  \n",
       "53       False        False      False         True  \n",
       "54       False        False      False         True  \n",
       "55       False        False      False         True  \n",
       "56       False        False      False         True  \n",
       "57       False        False      False         True  \n",
       "58       False        False      False         True  \n",
       "59       False        False      False         True  \n",
       "60       False        False      False         True  \n",
       "61       False        False      False         True  \n",
       "62       False        False      False         True  \n",
       "63       False        False      False         True  \n",
       "64       False        False      False         True  \n",
       "65       False        False      False         True  \n",
       "66       False        False      False         True  \n",
       "67       False        False      False         True  \n",
       "68       False        False      False         True  \n",
       "69       False        False      False         True  \n",
       "70       False        False      False         True  \n",
       "71       False        False      False         True  \n",
       "\n",
       "[71 rows x 13 columns]"
      ]
     },
     "execution_count": 23,
     "metadata": {},
     "output_type": "execute_result"
    }
   ],
   "source": [
    "df.isna()"
   ]
  },
  {
   "cell_type": "code",
   "execution_count": 24,
   "metadata": {
    "collapsed": false
   },
   "outputs": [
    {
     "data": {
      "text/plain": [
       "Region                 0\n",
       "TariffItem             0\n",
       "UnitOfMeasure          0\n",
       "StartDate              0\n",
       "EndDate                0\n",
       "MeasureDeviceAvail     0\n",
       "StoveType             39\n",
       "ConsumptionTime       39\n",
       "ConsumptionTarget     18\n",
       "Agency                 0\n",
       "TariffValue            0\n",
       "global_id              0\n",
       "Unnamed: 13           71\n",
       "dtype: int64"
      ]
     },
     "execution_count": 24,
     "metadata": {},
     "output_type": "execute_result"
    }
   ],
   "source": [
    "df.isna().sum()"
   ]
  },
  {
   "cell_type": "code",
   "execution_count": 25,
   "metadata": {
    "collapsed": false
   },
   "outputs": [
    {
     "data": {
      "text/plain": [
       "ROWNUM\n",
       "1     4\n",
       "2     4\n",
       "3     3\n",
       "4     1\n",
       "5     1\n",
       "6     1\n",
       "7     3\n",
       "8     3\n",
       "9     1\n",
       "10    1\n",
       "11    3\n",
       "12    3\n",
       "13    3\n",
       "14    3\n",
       "15    3\n",
       "16    1\n",
       "17    4\n",
       "18    1\n",
       "19    1\n",
       "20    1\n",
       "21    4\n",
       "22    3\n",
       "23    3\n",
       "24    3\n",
       "25    1\n",
       "26    4\n",
       "27    4\n",
       "28    1\n",
       "29    1\n",
       "30    1\n",
       "     ..\n",
       "42    1\n",
       "43    4\n",
       "44    1\n",
       "45    1\n",
       "46    3\n",
       "47    1\n",
       "48    1\n",
       "49    1\n",
       "50    1\n",
       "51    4\n",
       "52    3\n",
       "53    3\n",
       "54    4\n",
       "55    4\n",
       "56    1\n",
       "57    1\n",
       "58    1\n",
       "59    1\n",
       "60    3\n",
       "61    4\n",
       "62    3\n",
       "63    4\n",
       "64    3\n",
       "65    4\n",
       "66    3\n",
       "67    1\n",
       "68    1\n",
       "69    1\n",
       "70    1\n",
       "71    3\n",
       "Length: 71, dtype: int64"
      ]
     },
     "execution_count": 25,
     "metadata": {},
     "output_type": "execute_result"
    }
   ],
   "source": [
    "df.isna().sum(axis=1)"
   ]
  },
  {
   "cell_type": "markdown",
   "metadata": {},
   "source": [
    "### Выбор и группировка\n",
    "\n",
    "Видно, что в таблице собраны разнородные данные — тарифы на газ, электроэнергию и т.д. Прежде, чем с ними можно будет сделать что-то осмысленное, их надо как-то разделить. Это можно делать, например, с помощью условного выбора: "
   ]
  },
  {
   "cell_type": "code",
   "execution_count": 73,
   "metadata": {
    "collapsed": false
   },
   "outputs": [
    {
     "data": {
      "text/html": [
       "<div>\n",
       "<style scoped>\n",
       "    .dataframe tbody tr th:only-of-type {\n",
       "        vertical-align: middle;\n",
       "    }\n",
       "\n",
       "    .dataframe tbody tr th {\n",
       "        vertical-align: top;\n",
       "    }\n",
       "\n",
       "    .dataframe thead th {\n",
       "        text-align: right;\n",
       "    }\n",
       "</style>\n",
       "<table border=\"1\" class=\"dataframe\">\n",
       "  <thead>\n",
       "    <tr style=\"text-align: right;\">\n",
       "      <th></th>\n",
       "      <th>Region</th>\n",
       "      <th>TariffItem</th>\n",
       "      <th>UnitOfMeasure</th>\n",
       "      <th>StartDate</th>\n",
       "      <th>EndDate</th>\n",
       "      <th>MeasureDeviceAvail</th>\n",
       "      <th>StoveType</th>\n",
       "      <th>ConsumptionTime</th>\n",
       "      <th>ConsumptionTarget</th>\n",
       "      <th>Agency</th>\n",
       "      <th>TariffValue</th>\n",
       "      <th>global_id</th>\n",
       "      <th>Unnamed: 13</th>\n",
       "    </tr>\n",
       "    <tr>\n",
       "      <th>ROWNUM</th>\n",
       "      <th></th>\n",
       "      <th></th>\n",
       "      <th></th>\n",
       "      <th></th>\n",
       "      <th></th>\n",
       "      <th></th>\n",
       "      <th></th>\n",
       "      <th></th>\n",
       "      <th></th>\n",
       "      <th></th>\n",
       "      <th></th>\n",
       "      <th></th>\n",
       "      <th></th>\n",
       "    </tr>\n",
       "  </thead>\n",
       "  <tbody>\n",
       "    <tr>\n",
       "      <th>3</th>\n",
       "      <td>город Москва (за исключением Троицкого и Новом...</td>\n",
       "      <td>Газ</td>\n",
       "      <td>руб/кв.м</td>\n",
       "      <td>01.07.2012</td>\n",
       "      <td>31.08.2012</td>\n",
       "      <td>нет</td>\n",
       "      <td>NaN</td>\n",
       "      <td>NaN</td>\n",
       "      <td>дома с отоплением от газовых нагревателей</td>\n",
       "      <td>ООО «Газпром межрегионгаз Москва»</td>\n",
       "      <td>25.61</td>\n",
       "      <td>19693682</td>\n",
       "      <td>NaN</td>\n",
       "    </tr>\n",
       "    <tr>\n",
       "      <th>7</th>\n",
       "      <td>город Москва</td>\n",
       "      <td>Газ</td>\n",
       "      <td>руб/куб.м</td>\n",
       "      <td>11.01.2011</td>\n",
       "      <td>15.01.2012</td>\n",
       "      <td>да</td>\n",
       "      <td>NaN</td>\n",
       "      <td>NaN</td>\n",
       "      <td>на приготовление пищи и горячее водоснабжение ...</td>\n",
       "      <td>ООО «Мосрегионгаз»</td>\n",
       "      <td>4.09</td>\n",
       "      <td>19693595</td>\n",
       "      <td>NaN</td>\n",
       "    </tr>\n",
       "    <tr>\n",
       "      <th>8</th>\n",
       "      <td>город Москва (за исключением Троицкого и Новом...</td>\n",
       "      <td>Газ</td>\n",
       "      <td>руб/куб.м</td>\n",
       "      <td>15.01.2012</td>\n",
       "      <td>30.06.2012</td>\n",
       "      <td>да/нет</td>\n",
       "      <td>NaN</td>\n",
       "      <td>NaN</td>\n",
       "      <td>на нагрев воды с использованием газового водон...</td>\n",
       "      <td>ООО «Газпром межрегионгаз Москва»</td>\n",
       "      <td>4.09</td>\n",
       "      <td>19693684</td>\n",
       "      <td>NaN</td>\n",
       "    </tr>\n",
       "    <tr>\n",
       "      <th>11</th>\n",
       "      <td>город Москва (за исключением Троицкого и Новом...</td>\n",
       "      <td>Газ</td>\n",
       "      <td>руб/куб.м</td>\n",
       "      <td>01.07.2012</td>\n",
       "      <td>31.12.2012</td>\n",
       "      <td>да/нет</td>\n",
       "      <td>NaN</td>\n",
       "      <td>NaN</td>\n",
       "      <td>на нагрев воды с использованием газового водон...</td>\n",
       "      <td>ООО «Газпром межрегионгаз Москва»</td>\n",
       "      <td>4.70</td>\n",
       "      <td>19693624</td>\n",
       "      <td>NaN</td>\n",
       "    </tr>\n",
       "    <tr>\n",
       "      <th>12</th>\n",
       "      <td>город Москва (за исключением Троицкого и Новом...</td>\n",
       "      <td>Газ</td>\n",
       "      <td>руб/1000 куб.м</td>\n",
       "      <td>15.01.2012</td>\n",
       "      <td>30.06.2012</td>\n",
       "      <td>да/нет</td>\n",
       "      <td>NaN</td>\n",
       "      <td>NaN</td>\n",
       "      <td>на отопление с одновременным использованием га...</td>\n",
       "      <td>ООО «Газпром межрегионгаз Москва»</td>\n",
       "      <td>2930.00</td>\n",
       "      <td>19693625</td>\n",
       "      <td>NaN</td>\n",
       "    </tr>\n",
       "  </tbody>\n",
       "</table>\n",
       "</div>"
      ],
      "text/plain": [
       "                                                   Region TariffItem  \\\n",
       "ROWNUM                                                                 \n",
       "3       город Москва (за исключением Троицкого и Новом...        Газ   \n",
       "7                                            город Москва        Газ   \n",
       "8       город Москва (за исключением Троицкого и Новом...        Газ   \n",
       "11      город Москва (за исключением Троицкого и Новом...        Газ   \n",
       "12      город Москва (за исключением Троицкого и Новом...        Газ   \n",
       "\n",
       "         UnitOfMeasure   StartDate     EndDate MeasureDeviceAvail StoveType  \\\n",
       "ROWNUM                                                                        \n",
       "3             руб/кв.м  01.07.2012  31.08.2012                нет       NaN   \n",
       "7            руб/куб.м  11.01.2011  15.01.2012                 да       NaN   \n",
       "8            руб/куб.м  15.01.2012  30.06.2012             да/нет       NaN   \n",
       "11           руб/куб.м  01.07.2012  31.12.2012             да/нет       NaN   \n",
       "12      руб/1000 куб.м  15.01.2012  30.06.2012             да/нет       NaN   \n",
       "\n",
       "       ConsumptionTime                                  ConsumptionTarget  \\\n",
       "ROWNUM                                                                      \n",
       "3                  NaN          дома с отоплением от газовых нагревателей   \n",
       "7                  NaN  на приготовление пищи и горячее водоснабжение ...   \n",
       "8                  NaN  на нагрев воды с использованием газового водон...   \n",
       "11                 NaN  на нагрев воды с использованием газового водон...   \n",
       "12                 NaN  на отопление с одновременным использованием га...   \n",
       "\n",
       "                                   Agency  TariffValue  global_id  Unnamed: 13  \n",
       "ROWNUM                                                                          \n",
       "3       ООО «Газпром межрегионгаз Москва»        25.61   19693682          NaN  \n",
       "7                      ООО «Мосрегионгаз»         4.09   19693595          NaN  \n",
       "8       ООО «Газпром межрегионгаз Москва»         4.09   19693684          NaN  \n",
       "11      ООО «Газпром межрегионгаз Москва»         4.70   19693624          NaN  \n",
       "12      ООО «Газпром межрегионгаз Москва»      2930.00   19693625          NaN  "
      ]
     },
     "execution_count": 73,
     "metadata": {},
     "output_type": "execute_result"
    }
   ],
   "source": [
    "df_gas = df[df['TariffItem'] == 'Газ']\n",
    "df_gas.head()"
   ]
  },
  {
   "cell_type": "markdown",
   "metadata": {},
   "source": [
    "Теперь у нас есть табличка, в которой приведены данные только по тарифам на газ.\n",
    "\n",
    "Другой подход состоит в том, чтобы создать сразу много табличек в зависимости от того, что записано в графе `TariffItem`. Для этого в *pandas* есть метод `groupby()`."
   ]
  },
  {
   "cell_type": "code",
   "execution_count": 68,
   "metadata": {
    "collapsed": false
   },
   "outputs": [
    {
     "data": {
      "text/html": [
       "<div>\n",
       "<table border=\"1\" class=\"dataframe\">\n",
       "  <thead>\n",
       "    <tr style=\"text-align: right;\">\n",
       "      <th></th>\n",
       "      <th>Region</th>\n",
       "      <th>TariffItem</th>\n",
       "      <th>UnitOfMeasure</th>\n",
       "      <th>StartDate</th>\n",
       "      <th>EndDate</th>\n",
       "      <th>MeasureDeviceAvail</th>\n",
       "      <th>StoveType</th>\n",
       "      <th>ConsumptionTime</th>\n",
       "      <th>ConsumptionTarget</th>\n",
       "      <th>Agency</th>\n",
       "      <th>TariffValue</th>\n",
       "      <th>global_id</th>\n",
       "      <th>Unnamed: 13</th>\n",
       "    </tr>\n",
       "    <tr>\n",
       "      <th>ROWNUM</th>\n",
       "      <th></th>\n",
       "      <th></th>\n",
       "      <th></th>\n",
       "      <th></th>\n",
       "      <th></th>\n",
       "      <th></th>\n",
       "      <th></th>\n",
       "      <th></th>\n",
       "      <th></th>\n",
       "      <th></th>\n",
       "      <th></th>\n",
       "      <th></th>\n",
       "      <th></th>\n",
       "    </tr>\n",
       "  </thead>\n",
       "  <tbody>\n",
       "    <tr>\n",
       "      <th>3</th>\n",
       "      <td>город Москва (за исключением Троицкого и Новом...</td>\n",
       "      <td>Газ</td>\n",
       "      <td>руб/кв.м</td>\n",
       "      <td>01.07.2012</td>\n",
       "      <td>31.08.2012</td>\n",
       "      <td>нет</td>\n",
       "      <td>NaN</td>\n",
       "      <td>NaN</td>\n",
       "      <td>дома с отоплением от газовых нагревателей</td>\n",
       "      <td>ООО «Газпром межрегионгаз Москва»</td>\n",
       "      <td>25.61</td>\n",
       "      <td>19693682</td>\n",
       "      <td>NaN</td>\n",
       "    </tr>\n",
       "    <tr>\n",
       "      <th>7</th>\n",
       "      <td>город Москва</td>\n",
       "      <td>Газ</td>\n",
       "      <td>руб/куб.м</td>\n",
       "      <td>11.01.2011</td>\n",
       "      <td>15.01.2012</td>\n",
       "      <td>да</td>\n",
       "      <td>NaN</td>\n",
       "      <td>NaN</td>\n",
       "      <td>на приготовление пищи и горячее водоснабжение ...</td>\n",
       "      <td>ООО «Мосрегионгаз»</td>\n",
       "      <td>4.09</td>\n",
       "      <td>19693595</td>\n",
       "      <td>NaN</td>\n",
       "    </tr>\n",
       "    <tr>\n",
       "      <th>8</th>\n",
       "      <td>город Москва (за исключением Троицкого и Новом...</td>\n",
       "      <td>Газ</td>\n",
       "      <td>руб/куб.м</td>\n",
       "      <td>15.01.2012</td>\n",
       "      <td>30.06.2012</td>\n",
       "      <td>да/нет</td>\n",
       "      <td>NaN</td>\n",
       "      <td>NaN</td>\n",
       "      <td>на нагрев воды с использованием газового водон...</td>\n",
       "      <td>ООО «Газпром межрегионгаз Москва»</td>\n",
       "      <td>4.09</td>\n",
       "      <td>19693684</td>\n",
       "      <td>NaN</td>\n",
       "    </tr>\n",
       "    <tr>\n",
       "      <th>11</th>\n",
       "      <td>город Москва (за исключением Троицкого и Новом...</td>\n",
       "      <td>Газ</td>\n",
       "      <td>руб/куб.м</td>\n",
       "      <td>01.07.2012</td>\n",
       "      <td>31.12.2012</td>\n",
       "      <td>да/нет</td>\n",
       "      <td>NaN</td>\n",
       "      <td>NaN</td>\n",
       "      <td>на нагрев воды с использованием газового водон...</td>\n",
       "      <td>ООО «Газпром межрегионгаз Москва»</td>\n",
       "      <td>4.70</td>\n",
       "      <td>19693624</td>\n",
       "      <td>NaN</td>\n",
       "    </tr>\n",
       "    <tr>\n",
       "      <th>12</th>\n",
       "      <td>город Москва (за исключением Троицкого и Новом...</td>\n",
       "      <td>Газ</td>\n",
       "      <td>руб/1000 куб.м</td>\n",
       "      <td>15.01.2012</td>\n",
       "      <td>30.06.2012</td>\n",
       "      <td>да/нет</td>\n",
       "      <td>NaN</td>\n",
       "      <td>NaN</td>\n",
       "      <td>на отопление с одновременным использованием га...</td>\n",
       "      <td>ООО «Газпром межрегионгаз Москва»</td>\n",
       "      <td>2930.00</td>\n",
       "      <td>19693625</td>\n",
       "      <td>NaN</td>\n",
       "    </tr>\n",
       "  </tbody>\n",
       "</table>\n",
       "</div>"
      ],
      "text/plain": [
       "                                                   Region TariffItem  \\\n",
       "ROWNUM                                                                 \n",
       "3       город Москва (за исключением Троицкого и Новом...        Газ   \n",
       "7                                            город Москва        Газ   \n",
       "8       город Москва (за исключением Троицкого и Новом...        Газ   \n",
       "11      город Москва (за исключением Троицкого и Новом...        Газ   \n",
       "12      город Москва (за исключением Троицкого и Новом...        Газ   \n",
       "\n",
       "         UnitOfMeasure   StartDate     EndDate MeasureDeviceAvail StoveType  \\\n",
       "ROWNUM                                                                        \n",
       "3             руб/кв.м  01.07.2012  31.08.2012                нет       NaN   \n",
       "7            руб/куб.м  11.01.2011  15.01.2012                 да       NaN   \n",
       "8            руб/куб.м  15.01.2012  30.06.2012             да/нет       NaN   \n",
       "11           руб/куб.м  01.07.2012  31.12.2012             да/нет       NaN   \n",
       "12      руб/1000 куб.м  15.01.2012  30.06.2012             да/нет       NaN   \n",
       "\n",
       "       ConsumptionTime                                  ConsumptionTarget  \\\n",
       "ROWNUM                                                                      \n",
       "3                  NaN          дома с отоплением от газовых нагревателей   \n",
       "7                  NaN  на приготовление пищи и горячее водоснабжение ...   \n",
       "8                  NaN  на нагрев воды с использованием газового водон...   \n",
       "11                 NaN  на нагрев воды с использованием газового водон...   \n",
       "12                 NaN  на отопление с одновременным использованием га...   \n",
       "\n",
       "                                   Agency  TariffValue  global_id  Unnamed: 13  \n",
       "ROWNUM                                                                          \n",
       "3       ООО «Газпром межрегионгаз Москва»        25.61   19693682          NaN  \n",
       "7                      ООО «Мосрегионгаз»         4.09   19693595          NaN  \n",
       "8       ООО «Газпром межрегионгаз Москва»         4.09   19693684          NaN  \n",
       "11      ООО «Газпром межрегионгаз Москва»         4.70   19693624          NaN  \n",
       "12      ООО «Газпром межрегионгаз Москва»      2930.00   19693625          NaN  "
      ]
     },
     "execution_count": 68,
     "metadata": {},
     "output_type": "execute_result"
    }
   ],
   "source": [
    "groups = df.groupby('TariffItem')\n",
    "groups.get_group('Газ').head()"
   ]
  },
  {
   "cell_type": "code",
   "execution_count": 69,
   "metadata": {
    "collapsed": false
   },
   "outputs": [
    {
     "data": {
      "text/html": [
       "<div>\n",
       "<table border=\"1\" class=\"dataframe\">\n",
       "  <thead>\n",
       "    <tr style=\"text-align: right;\">\n",
       "      <th></th>\n",
       "      <th>Region</th>\n",
       "      <th>TariffItem</th>\n",
       "      <th>UnitOfMeasure</th>\n",
       "      <th>StartDate</th>\n",
       "      <th>EndDate</th>\n",
       "      <th>MeasureDeviceAvail</th>\n",
       "      <th>StoveType</th>\n",
       "      <th>ConsumptionTime</th>\n",
       "      <th>ConsumptionTarget</th>\n",
       "      <th>Agency</th>\n",
       "      <th>TariffValue</th>\n",
       "      <th>global_id</th>\n",
       "      <th>Unnamed: 13</th>\n",
       "    </tr>\n",
       "    <tr>\n",
       "      <th>ROWNUM</th>\n",
       "      <th></th>\n",
       "      <th></th>\n",
       "      <th></th>\n",
       "      <th></th>\n",
       "      <th></th>\n",
       "      <th></th>\n",
       "      <th></th>\n",
       "      <th></th>\n",
       "      <th></th>\n",
       "      <th></th>\n",
       "      <th></th>\n",
       "      <th></th>\n",
       "      <th></th>\n",
       "    </tr>\n",
       "  </thead>\n",
       "  <tbody>\n",
       "    <tr>\n",
       "      <th>2</th>\n",
       "      <td>город Москва (за исключением Троицкого и Новом...</td>\n",
       "      <td>Водоотведение</td>\n",
       "      <td>руб/куб.м</td>\n",
       "      <td>01.01.2012</td>\n",
       "      <td>30.06.2012</td>\n",
       "      <td>да</td>\n",
       "      <td>NaN</td>\n",
       "      <td>NaN</td>\n",
       "      <td>NaN</td>\n",
       "      <td>МГУП «Мосводоканал»</td>\n",
       "      <td>16.65</td>\n",
       "      <td>19693667</td>\n",
       "      <td>NaN</td>\n",
       "    </tr>\n",
       "    <tr>\n",
       "      <th>27</th>\n",
       "      <td>город Москва (за исключением Троицкого и Новом...</td>\n",
       "      <td>Водоотведение</td>\n",
       "      <td>руб/куб.м</td>\n",
       "      <td>01.09.2012</td>\n",
       "      <td>31.12.2012</td>\n",
       "      <td>да</td>\n",
       "      <td>NaN</td>\n",
       "      <td>NaN</td>\n",
       "      <td>NaN</td>\n",
       "      <td>МГУП «Мосводоканал»</td>\n",
       "      <td>19.00</td>\n",
       "      <td>19693387</td>\n",
       "      <td>NaN</td>\n",
       "    </tr>\n",
       "    <tr>\n",
       "      <th>43</th>\n",
       "      <td>город Москва (за исключением Троицкого и Новом...</td>\n",
       "      <td>Водоотведение</td>\n",
       "      <td>руб/куб.м</td>\n",
       "      <td>01.07.2012</td>\n",
       "      <td>31.08.2012</td>\n",
       "      <td>да</td>\n",
       "      <td>NaN</td>\n",
       "      <td>NaN</td>\n",
       "      <td>NaN</td>\n",
       "      <td>МГУП «Мосводоканал»</td>\n",
       "      <td>18.20</td>\n",
       "      <td>19693668</td>\n",
       "      <td>NaN</td>\n",
       "    </tr>\n",
       "  </tbody>\n",
       "</table>\n",
       "</div>"
      ],
      "text/plain": [
       "                                                   Region     TariffItem  \\\n",
       "ROWNUM                                                                     \n",
       "2       город Москва (за исключением Троицкого и Новом...  Водоотведение   \n",
       "27      город Москва (за исключением Троицкого и Новом...  Водоотведение   \n",
       "43      город Москва (за исключением Троицкого и Новом...  Водоотведение   \n",
       "\n",
       "       UnitOfMeasure   StartDate     EndDate MeasureDeviceAvail StoveType  \\\n",
       "ROWNUM                                                                      \n",
       "2          руб/куб.м  01.01.2012  30.06.2012                 да       NaN   \n",
       "27         руб/куб.м  01.09.2012  31.12.2012                 да       NaN   \n",
       "43         руб/куб.м  01.07.2012  31.08.2012                 да       NaN   \n",
       "\n",
       "       ConsumptionTime ConsumptionTarget               Agency  TariffValue  \\\n",
       "ROWNUM                                                                       \n",
       "2                  NaN               NaN  МГУП «Мосводоканал»        16.65   \n",
       "27                 NaN               NaN  МГУП «Мосводоканал»        19.00   \n",
       "43                 NaN               NaN  МГУП «Мосводоканал»        18.20   \n",
       "\n",
       "        global_id  Unnamed: 13  \n",
       "ROWNUM                          \n",
       "2        19693667          NaN  \n",
       "27       19693387          NaN  \n",
       "43       19693668          NaN  "
      ]
     },
     "execution_count": 69,
     "metadata": {},
     "output_type": "execute_result"
    }
   ],
   "source": [
    "groups.get_group(\"Водоотведение\")"
   ]
  },
  {
   "cell_type": "markdown",
   "metadata": {},
   "source": [
    "Список всех групп можно посмотреть так:"
   ]
  },
  {
   "cell_type": "code",
   "execution_count": 70,
   "metadata": {
    "collapsed": false
   },
   "outputs": [
    {
     "data": {
      "text/plain": [
       "dict_keys(['Горячее водоснабжение', 'Твердое топливо', 'Электроэнергия', 'Холодное водоснабжение', 'Водоотведение', 'Отопление', 'Газ'])"
      ]
     },
     "execution_count": 70,
     "metadata": {},
     "output_type": "execute_result"
    }
   ],
   "source": [
    "groups.groups.keys()"
   ]
  },
  {
   "cell_type": "markdown",
   "metadata": {},
   "source": [
    "Допустим, нас интересует средний тариф по каждому из типов расходов (как мы увидим ниже, для этой таблицы считать его довольно бессмысленно, но мы всё равно попробуем — просто чтобы показать, как работает *pandas*)."
   ]
  },
  {
   "cell_type": "code",
   "execution_count": 71,
   "metadata": {
    "collapsed": false
   },
   "outputs": [
    {
     "data": {
      "text/html": [
       "<div>\n",
       "<table border=\"1\" class=\"dataframe\">\n",
       "  <thead>\n",
       "    <tr style=\"text-align: right;\">\n",
       "      <th></th>\n",
       "      <th>TariffValue</th>\n",
       "      <th>global_id</th>\n",
       "      <th>Unnamed: 13</th>\n",
       "    </tr>\n",
       "    <tr>\n",
       "      <th>TariffItem</th>\n",
       "      <th></th>\n",
       "      <th></th>\n",
       "      <th></th>\n",
       "    </tr>\n",
       "  </thead>\n",
       "  <tbody>\n",
       "    <tr>\n",
       "      <th>Водоотведение</th>\n",
       "      <td>17.950000</td>\n",
       "      <td>19693574</td>\n",
       "      <td>NaN</td>\n",
       "    </tr>\n",
       "    <tr>\n",
       "      <th>Газ</th>\n",
       "      <td>651.415000</td>\n",
       "      <td>19693593</td>\n",
       "      <td>NaN</td>\n",
       "    </tr>\n",
       "    <tr>\n",
       "      <th>Горячее водоснабжение</th>\n",
       "      <td>100.095000</td>\n",
       "      <td>19693523</td>\n",
       "      <td>NaN</td>\n",
       "    </tr>\n",
       "    <tr>\n",
       "      <th>Отопление</th>\n",
       "      <td>1208.423333</td>\n",
       "      <td>19693631</td>\n",
       "      <td>NaN</td>\n",
       "    </tr>\n",
       "    <tr>\n",
       "      <th>Твердое топливо</th>\n",
       "      <td>1126.000000</td>\n",
       "      <td>19693629</td>\n",
       "      <td>NaN</td>\n",
       "    </tr>\n",
       "    <tr>\n",
       "      <th>Холодное водоснабжение</th>\n",
       "      <td>25.223333</td>\n",
       "      <td>19693636</td>\n",
       "      <td>NaN</td>\n",
       "    </tr>\n",
       "    <tr>\n",
       "      <th>Электроэнергия</th>\n",
       "      <td>2.571250</td>\n",
       "      <td>19693585</td>\n",
       "      <td>NaN</td>\n",
       "    </tr>\n",
       "  </tbody>\n",
       "</table>\n",
       "</div>"
      ],
      "text/plain": [
       "                        TariffValue  global_id  Unnamed: 13\n",
       "TariffItem                                                 \n",
       "Водоотведение             17.950000   19693574          NaN\n",
       "Газ                      651.415000   19693593          NaN\n",
       "Горячее водоснабжение    100.095000   19693523          NaN\n",
       "Отопление               1208.423333   19693631          NaN\n",
       "Твердое топливо         1126.000000   19693629          NaN\n",
       "Холодное водоснабжение    25.223333   19693636          NaN\n",
       "Электроэнергия             2.571250   19693585          NaN"
      ]
     },
     "execution_count": 71,
     "metadata": {},
     "output_type": "execute_result"
    }
   ],
   "source": [
    "df.groupby('TariffItem').mean()"
   ]
  },
  {
   "cell_type": "markdown",
   "metadata": {},
   "source": [
    "Что здесь произошло? Мы сгруппировали и для каждой группы применили метод .mean() - вычисление среднего. Этот метод по умолчанию вычисляет среднее по колонкам. Но если добавить аргумент axis=1, будет вычислять среднее по строкам. (В данном случае это неосмысленно).\n",
    "\n",
    "В итоге этот метод выдает нам табличку, где для каждой колонки вычислено среднее значение (если это было возможно). Так, в нашем случае получилось вычислить среднее для тарифов и id ( потому что эти колонки числовые и не имеют пропущенных) для каждой из таблиц, которые у нас сгруппировались.\n",
    "\n",
    "Отдельно метод .mean() работает так:"
   ]
  },
  {
   "cell_type": "code",
   "execution_count": 71,
   "metadata": {
    "collapsed": false
   },
   "outputs": [
    {
     "data": {
      "text/plain": [
       "TariffValue    3.129185e+02\n",
       "global_id      1.969359e+07\n",
       "Unnamed: 13             NaN\n",
       "dtype: float64"
      ]
     },
     "execution_count": 71,
     "metadata": {},
     "output_type": "execute_result"
    }
   ],
   "source": [
    "df.mean()"
   ]
  },
  {
   "cell_type": "markdown",
   "metadata": {},
   "source": [
    "### Приводим данные в порядок"
   ]
  },
  {
   "cell_type": "markdown",
   "metadata": {},
   "source": [
    "Давайте рассмотрим повнимательнее данные, относящиеся к тарифам на газ. Здесь есть ещё один занятный столбец: `UnitOfMeasure` — единица измерения. Посмотрим, какие значения и как часто он принимает."
   ]
  },
  {
   "cell_type": "code",
   "execution_count": 72,
   "metadata": {
    "collapsed": false
   },
   "outputs": [
    {
     "data": {
      "text/plain": [
       "руб/куб.м         8\n",
       "руб/чел           6\n",
       "руб/1000 куб.м    4\n",
       "руб/кв.м          2\n",
       "Name: UnitOfMeasure, dtype: int64"
      ]
     },
     "execution_count": 72,
     "metadata": {},
     "output_type": "execute_result"
    }
   ],
   "source": [
    "df_gas['UnitOfMeasure'].value_counts() \n",
    "# эта функция считает, сколько раз какое значение встретилось"
   ]
  },
  {
   "cell_type": "markdown",
   "metadata": {},
   "source": [
    "Как видимо, единицы измерения самые разные и вряд ли мы можем как-то легко перевести «руб/кв.м» (видимо, в квадратных метрах меряется всё-таки площадь квартиры, а не количество потребляемого газа) в «руб/куб.м», но по крайней мере «руб/1000 куб.м» и «руб/куб.м» — это что-то похожее. Давайте преобразуем первое во второе: для этого нам надо найти те строки, в которых единица измерения указана как «руб/1000 куб.м», взять для них столбец `TariffValue` и разделить все его элементы на 1000.\n",
    "\n",
    "Вот нужные нам строки:"
   ]
  },
  {
   "cell_type": "code",
   "execution_count": 77,
   "metadata": {
    "collapsed": false
   },
   "outputs": [
    {
     "data": {
      "text/html": [
       "<div>\n",
       "<style scoped>\n",
       "    .dataframe tbody tr th:only-of-type {\n",
       "        vertical-align: middle;\n",
       "    }\n",
       "\n",
       "    .dataframe tbody tr th {\n",
       "        vertical-align: top;\n",
       "    }\n",
       "\n",
       "    .dataframe thead th {\n",
       "        text-align: right;\n",
       "    }\n",
       "</style>\n",
       "<table border=\"1\" class=\"dataframe\">\n",
       "  <thead>\n",
       "    <tr style=\"text-align: right;\">\n",
       "      <th></th>\n",
       "      <th>Region</th>\n",
       "      <th>TariffItem</th>\n",
       "      <th>UnitOfMeasure</th>\n",
       "      <th>StartDate</th>\n",
       "      <th>EndDate</th>\n",
       "      <th>MeasureDeviceAvail</th>\n",
       "      <th>StoveType</th>\n",
       "      <th>ConsumptionTime</th>\n",
       "      <th>ConsumptionTarget</th>\n",
       "      <th>Agency</th>\n",
       "      <th>TariffValue</th>\n",
       "      <th>global_id</th>\n",
       "      <th>Unnamed: 13</th>\n",
       "    </tr>\n",
       "    <tr>\n",
       "      <th>ROWNUM</th>\n",
       "      <th></th>\n",
       "      <th></th>\n",
       "      <th></th>\n",
       "      <th></th>\n",
       "      <th></th>\n",
       "      <th></th>\n",
       "      <th></th>\n",
       "      <th></th>\n",
       "      <th></th>\n",
       "      <th></th>\n",
       "      <th></th>\n",
       "      <th></th>\n",
       "      <th></th>\n",
       "    </tr>\n",
       "  </thead>\n",
       "  <tbody>\n",
       "    <tr>\n",
       "      <th>12</th>\n",
       "      <td>город Москва (за исключением Троицкого и Новом...</td>\n",
       "      <td>Газ</td>\n",
       "      <td>руб/1000 куб.м</td>\n",
       "      <td>15.01.2012</td>\n",
       "      <td>30.06.2012</td>\n",
       "      <td>да/нет</td>\n",
       "      <td>NaN</td>\n",
       "      <td>NaN</td>\n",
       "      <td>на отопление с одновременным использованием га...</td>\n",
       "      <td>ООО «Газпром межрегионгаз Москва»</td>\n",
       "      <td>2930.0</td>\n",
       "      <td>19693625</td>\n",
       "      <td>NaN</td>\n",
       "    </tr>\n",
       "    <tr>\n",
       "      <th>60</th>\n",
       "      <td>город Москва (за исключением Троицкого и Новом...</td>\n",
       "      <td>Газ</td>\n",
       "      <td>руб/1000 куб.м</td>\n",
       "      <td>01.07.2012</td>\n",
       "      <td>31.12.2012</td>\n",
       "      <td>да/нет</td>\n",
       "      <td>NaN</td>\n",
       "      <td>NaN</td>\n",
       "      <td>на отопление с одновременным использованием га...</td>\n",
       "      <td>ООО «Газпром межрегионгаз Москва»</td>\n",
       "      <td>3370.0</td>\n",
       "      <td>19693626</td>\n",
       "      <td>NaN</td>\n",
       "    </tr>\n",
       "    <tr>\n",
       "      <th>62</th>\n",
       "      <td>город Москва (за исключением Троицкого и Новом...</td>\n",
       "      <td>Газ</td>\n",
       "      <td>руб/1000 куб.м</td>\n",
       "      <td>15.01.2012</td>\n",
       "      <td>30.06.2012</td>\n",
       "      <td>да/нет</td>\n",
       "      <td>NaN</td>\n",
       "      <td>NaN</td>\n",
       "      <td>на отопление и (или) выработку электрической э...</td>\n",
       "      <td>ООО «Газпром межрегионгаз Москва»</td>\n",
       "      <td>2930.0</td>\n",
       "      <td>19693627</td>\n",
       "      <td>NaN</td>\n",
       "    </tr>\n",
       "    <tr>\n",
       "      <th>64</th>\n",
       "      <td>город Москва (за исключением Троицкого и Новом...</td>\n",
       "      <td>Газ</td>\n",
       "      <td>руб/1000 куб.м</td>\n",
       "      <td>01.07.2012</td>\n",
       "      <td>31.12.2012</td>\n",
       "      <td>да/нет</td>\n",
       "      <td>NaN</td>\n",
       "      <td>NaN</td>\n",
       "      <td>на отопление и (или) выработку электрической э...</td>\n",
       "      <td>ООО «Газпром межрегионгаз Москва»</td>\n",
       "      <td>3370.0</td>\n",
       "      <td>19693628</td>\n",
       "      <td>NaN</td>\n",
       "    </tr>\n",
       "  </tbody>\n",
       "</table>\n",
       "</div>"
      ],
      "text/plain": [
       "                                                   Region TariffItem  \\\n",
       "ROWNUM                                                                 \n",
       "12      город Москва (за исключением Троицкого и Новом...        Газ   \n",
       "60      город Москва (за исключением Троицкого и Новом...        Газ   \n",
       "62      город Москва (за исключением Троицкого и Новом...        Газ   \n",
       "64      город Москва (за исключением Троицкого и Новом...        Газ   \n",
       "\n",
       "         UnitOfMeasure   StartDate     EndDate MeasureDeviceAvail StoveType  \\\n",
       "ROWNUM                                                                        \n",
       "12      руб/1000 куб.м  15.01.2012  30.06.2012             да/нет       NaN   \n",
       "60      руб/1000 куб.м  01.07.2012  31.12.2012             да/нет       NaN   \n",
       "62      руб/1000 куб.м  15.01.2012  30.06.2012             да/нет       NaN   \n",
       "64      руб/1000 куб.м  01.07.2012  31.12.2012             да/нет       NaN   \n",
       "\n",
       "       ConsumptionTime                                  ConsumptionTarget  \\\n",
       "ROWNUM                                                                      \n",
       "12                 NaN  на отопление с одновременным использованием га...   \n",
       "60                 NaN  на отопление с одновременным использованием га...   \n",
       "62                 NaN  на отопление и (или) выработку электрической э...   \n",
       "64                 NaN  на отопление и (или) выработку электрической э...   \n",
       "\n",
       "                                   Agency  TariffValue  global_id  Unnamed: 13  \n",
       "ROWNUM                                                                          \n",
       "12      ООО «Газпром межрегионгаз Москва»       2930.0   19693625          NaN  \n",
       "60      ООО «Газпром межрегионгаз Москва»       3370.0   19693626          NaN  \n",
       "62      ООО «Газпром межрегионгаз Москва»       2930.0   19693627          NaN  \n",
       "64      ООО «Газпром межрегионгаз Москва»       3370.0   19693628          NaN  "
      ]
     },
     "execution_count": 77,
     "metadata": {},
     "output_type": "execute_result"
    }
   ],
   "source": [
    "unit1000 = df_gas['UnitOfMeasure'] == 'руб/1000 куб.м'\n",
    "# записали в переменную unit1000 результат проверки условия о том, \n",
    "# что UnitOfMeasure == 'руб/1000 куб.м'\n",
    "df_gas[unit1000].head(5)"
   ]
  },
  {
   "cell_type": "markdown",
   "metadata": {},
   "source": [
    "Можно было бы теперь взять от этой таблицы столбец `TariffValue` и присвоить ему значение его же, разделенное на 1000. Но результат может оказаться неожиданным."
   ]
  },
  {
   "cell_type": "code",
   "execution_count": 78,
   "metadata": {
    "collapsed": false
   },
   "outputs": [
    {
     "data": {
      "text/plain": [
       "ROWNUM\n",
       "12    2930.0\n",
       "60    3370.0\n",
       "62    2930.0\n",
       "64    3370.0\n",
       "Name: TariffValue, dtype: float64"
      ]
     },
     "execution_count": 78,
     "metadata": {},
     "output_type": "execute_result"
    }
   ],
   "source": [
    "df_gas[unit1000]['TariffValue']"
   ]
  },
  {
   "cell_type": "code",
   "execution_count": 79,
   "metadata": {
    "collapsed": false
   },
   "outputs": [
    {
     "name": "stderr",
     "output_type": "stream",
     "text": [
      "C:\\Users\\tikho\\Anaconda3\\lib\\site-packages\\ipykernel\\__main__.py:1: SettingWithCopyWarning: \n",
      "A value is trying to be set on a copy of a slice from a DataFrame.\n",
      "Try using .loc[row_indexer,col_indexer] = value instead\n",
      "\n",
      "See the caveats in the documentation: http://pandas.pydata.org/pandas-docs/stable/indexing.html#indexing-view-versus-copy\n",
      "  if __name__ == '__main__':\n"
     ]
    }
   ],
   "source": [
    "df_gas[unit1000]['TariffValue'] = df_gas[unit1000]['TariffValue']/1000"
   ]
  },
  {
   "cell_type": "code",
   "execution_count": 80,
   "metadata": {
    "collapsed": false
   },
   "outputs": [
    {
     "data": {
      "text/plain": [
       "ROWNUM\n",
       "12    2930.0\n",
       "60    3370.0\n",
       "62    2930.0\n",
       "64    3370.0\n",
       "Name: TariffValue, dtype: float64"
      ]
     },
     "execution_count": 80,
     "metadata": {},
     "output_type": "execute_result"
    }
   ],
   "source": [
    "df_gas[unit1000]['TariffValue']"
   ]
  },
  {
   "cell_type": "markdown",
   "metadata": {},
   "source": [
    "Ничего не изменилось. Почему так произошло? Дело в том, что взяв подмножество строк с помощью `df_gas[unit1000]`, мы создали копию исходной таблички.\n",
    "\n",
    "Чтобы избежать таких проблем, вместо применения несколько квадратных скобок подряд, нужно писать одни скобки, в них указывая, какие элементы нам нужны, указывая наборы строк и столбцов через запятую, как это обсуждалось выше. Например, вот так это сработает:"
   ]
  },
  {
   "cell_type": "code",
   "execution_count": 81,
   "metadata": {
    "collapsed": false
   },
   "outputs": [
    {
     "name": "stderr",
     "output_type": "stream",
     "text": [
      "C:\\Users\\tikho\\Anaconda3\\lib\\site-packages\\pandas\\core\\indexing.py:543: SettingWithCopyWarning: \n",
      "A value is trying to be set on a copy of a slice from a DataFrame.\n",
      "Try using .loc[row_indexer,col_indexer] = value instead\n",
      "\n",
      "See the caveats in the documentation: http://pandas.pydata.org/pandas-docs/stable/indexing.html#indexing-view-versus-copy\n",
      "  self.obj[item] = s\n"
     ]
    }
   ],
   "source": [
    "df_gas.loc[unit1000, 'TariffValue'] = df_gas.loc[unit1000, 'TariffValue']/1000"
   ]
  },
  {
   "cell_type": "markdown",
   "metadata": {},
   "source": [
    "Тоже предупреждение, но по крайней мере результат удовлетворительный:"
   ]
  },
  {
   "cell_type": "code",
   "execution_count": 83,
   "metadata": {
    "collapsed": false
   },
   "outputs": [
    {
     "data": {
      "text/plain": [
       "ROWNUM\n",
       "12    2.93\n",
       "60    3.37\n",
       "62    2.93\n",
       "64    3.37\n",
       "Name: TariffValue, dtype: float64"
      ]
     },
     "execution_count": 83,
     "metadata": {},
     "output_type": "execute_result"
    }
   ],
   "source": [
    "df_gas.loc[unit1000]['TariffValue']"
   ]
  },
  {
   "cell_type": "markdown",
   "metadata": {},
   "source": [
    "Предупреждение, кстати, возникло из-за того, что `df_gas` сам является такой копией, полученной из `df` путём выделения подмножества строк по условию. Заметим, что исходный датафрейм `df` в результате не изменился — именно об этом предупреждает нас система выше."
   ]
  },
  {
   "cell_type": "code",
   "execution_count": 84,
   "metadata": {
    "collapsed": false
   },
   "outputs": [
    {
     "data": {
      "text/plain": [
       "ROWNUM\n",
       "12    2930.0\n",
       "60    3370.0\n",
       "62    2930.0\n",
       "64    3370.0\n",
       "Name: TariffValue, dtype: float64"
      ]
     },
     "execution_count": 84,
     "metadata": {},
     "output_type": "execute_result"
    }
   ],
   "source": [
    "df.loc[df['UnitOfMeasure'] == 'руб/1000 куб.м', 'TariffValue']"
   ]
  },
  {
   "cell_type": "markdown",
   "metadata": {},
   "source": [
    "Чтобы избежать дальнейших предпреждением, отделим `df_gas` от `df` окончательно:"
   ]
  },
  {
   "cell_type": "code",
   "execution_count": 85,
   "metadata": {
    "collapsed": true
   },
   "outputs": [],
   "source": [
    "df_gas = df_gas.copy()"
   ]
  },
  {
   "cell_type": "markdown",
   "metadata": {},
   "source": [
    "Теперь нужно в тех строчках, в которых мы поменяли значение тарифа, изменить и единицу измерения, чтобы она соответствовала."
   ]
  },
  {
   "cell_type": "code",
   "execution_count": 81,
   "metadata": {
    "collapsed": false
   },
   "outputs": [
    {
     "data": {
      "text/plain": [
       "руб/куб.м    12\n",
       "руб/чел       6\n",
       "руб/кв.м      2\n",
       "Name: UnitOfMeasure, dtype: int64"
      ]
     },
     "execution_count": 81,
     "metadata": {},
     "output_type": "execute_result"
    }
   ],
   "source": [
    "df_gas.loc[unit1000, 'UnitOfMeasure'] = \"руб/куб.м\"\n",
    "df_gas['UnitOfMeasure'].value_counts()"
   ]
  },
  {
   "cell_type": "markdown",
   "metadata": {},
   "source": [
    "Ну вот, по крайней мере 12 значений тарифа, которые можно сравнивать между собой, у нас есть. Давайте посмотрим на них повнимательнее."
   ]
  },
  {
   "cell_type": "code",
   "execution_count": 82,
   "metadata": {
    "collapsed": true
   },
   "outputs": [],
   "source": [
    "df_gas_kubm = df_gas[df_gas['UnitOfMeasure'] == 'руб/куб.м']"
   ]
  },
  {
   "cell_type": "code",
   "execution_count": 83,
   "metadata": {
    "collapsed": false
   },
   "outputs": [
    {
     "data": {
      "text/html": [
       "<div>\n",
       "<table border=\"1\" class=\"dataframe\">\n",
       "  <thead>\n",
       "    <tr style=\"text-align: right;\">\n",
       "      <th></th>\n",
       "      <th>TariffValue</th>\n",
       "      <th>global_id</th>\n",
       "      <th>Unnamed: 13</th>\n",
       "    </tr>\n",
       "  </thead>\n",
       "  <tbody>\n",
       "    <tr>\n",
       "      <th>count</th>\n",
       "      <td>12.000000</td>\n",
       "      <td>12.000000</td>\n",
       "      <td>0</td>\n",
       "    </tr>\n",
       "    <tr>\n",
       "      <th>mean</th>\n",
       "      <td>3.832500</td>\n",
       "      <td>19693608.416667</td>\n",
       "      <td>NaN</td>\n",
       "    </tr>\n",
       "    <tr>\n",
       "      <th>std</th>\n",
       "      <td>0.700274</td>\n",
       "      <td>100.067667</td>\n",
       "      <td>NaN</td>\n",
       "    </tr>\n",
       "    <tr>\n",
       "      <th>min</th>\n",
       "      <td>2.930000</td>\n",
       "      <td>19693307.000000</td>\n",
       "      <td>NaN</td>\n",
       "    </tr>\n",
       "    <tr>\n",
       "      <th>25%</th>\n",
       "      <td>3.260000</td>\n",
       "      <td>19693616.000000</td>\n",
       "      <td>NaN</td>\n",
       "    </tr>\n",
       "    <tr>\n",
       "      <th>50%</th>\n",
       "      <td>4.090000</td>\n",
       "      <td>19693625.500000</td>\n",
       "      <td>NaN</td>\n",
       "    </tr>\n",
       "    <tr>\n",
       "      <th>75%</th>\n",
       "      <td>4.242500</td>\n",
       "      <td>19693641.750000</td>\n",
       "      <td>NaN</td>\n",
       "    </tr>\n",
       "    <tr>\n",
       "      <th>max</th>\n",
       "      <td>4.700000</td>\n",
       "      <td>19693685.000000</td>\n",
       "      <td>NaN</td>\n",
       "    </tr>\n",
       "  </tbody>\n",
       "</table>\n",
       "</div>"
      ],
      "text/plain": [
       "       TariffValue        global_id  Unnamed: 13\n",
       "count    12.000000        12.000000            0\n",
       "mean      3.832500  19693608.416667          NaN\n",
       "std       0.700274       100.067667          NaN\n",
       "min       2.930000  19693307.000000          NaN\n",
       "25%       3.260000  19693616.000000          NaN\n",
       "50%       4.090000  19693625.500000          NaN\n",
       "75%       4.242500  19693641.750000          NaN\n",
       "max       4.700000  19693685.000000          NaN"
      ]
     },
     "execution_count": 83,
     "metadata": {},
     "output_type": "execute_result"
    }
   ],
   "source": [
    "df_gas_kubm.describe()"
   ]
  },
  {
   "cell_type": "markdown",
   "metadata": {},
   "source": [
    "Конечно, осмысленный здесь только один столбец, можно его запросить отдельно:"
   ]
  },
  {
   "cell_type": "code",
   "execution_count": 84,
   "metadata": {
    "collapsed": false
   },
   "outputs": [
    {
     "data": {
      "text/plain": [
       "count    12.000000\n",
       "mean      3.832500\n",
       "std       0.700274\n",
       "min       2.930000\n",
       "25%       3.260000\n",
       "50%       4.090000\n",
       "75%       4.242500\n",
       "max       4.700000\n",
       "Name: TariffValue, dtype: float64"
      ]
     },
     "execution_count": 84,
     "metadata": {},
     "output_type": "execute_result"
    }
   ],
   "source": [
    "df_gas_kubm.describe()['TariffValue']"
   ]
  },
  {
   "cell_type": "markdown",
   "metadata": {},
   "source": [
    "Можно даже картинку нарисовать какую-нибудь."
   ]
  },
  {
   "cell_type": "code",
   "execution_count": 85,
   "metadata": {
    "collapsed": true
   },
   "outputs": [],
   "source": [
    "%matplotlib inline"
   ]
  },
  {
   "cell_type": "code",
   "execution_count": 86,
   "metadata": {
    "collapsed": false
   },
   "outputs": [
    {
     "data": {
      "text/plain": [
       "<matplotlib.axes._subplots.AxesSubplot at 0x105293668>"
      ]
     },
     "execution_count": 86,
     "metadata": {},
     "output_type": "execute_result"
    },
    {
     "data": {
      "image/png": "[encoded data removed]",
      "text/plain": [
       "<matplotlib.figure.Figure at 0x105285cc0>"
      ]
     },
     "metadata": {},
     "output_type": "display_data"
    }
   ],
   "source": [
    "df_gas_kubm['TariffValue'].plot.hist()"
   ]
  },
  {
   "cell_type": "markdown",
   "metadata": {},
   "source": [
    "### Более сложные запросы"
   ]
  },
  {
   "cell_type": "markdown",
   "metadata": {},
   "source": [
    "Допустим, мы с самого начала хотели выбрать из исходной таблицы те строки, в которых указан тариф на газ и в качестве единицы измерения указаны `руб/кв.м`. Это можно сделать разными способами. Например, вот так:"
   ]
  },
  {
   "cell_type": "code",
   "execution_count": 87,
   "metadata": {
    "collapsed": false
   },
   "outputs": [
    {
     "data": {
      "text/html": [
       "<div>\n",
       "<table border=\"1\" class=\"dataframe\">\n",
       "  <thead>\n",
       "    <tr style=\"text-align: right;\">\n",
       "      <th></th>\n",
       "      <th>Region</th>\n",
       "      <th>TariffItem</th>\n",
       "      <th>UnitOfMeasure</th>\n",
       "      <th>StartDate</th>\n",
       "      <th>EndDate</th>\n",
       "      <th>MeasureDeviceAvail</th>\n",
       "      <th>StoveType</th>\n",
       "      <th>ConsumptionTime</th>\n",
       "      <th>ConsumptionTarget</th>\n",
       "      <th>Agency</th>\n",
       "      <th>TariffValue</th>\n",
       "      <th>global_id</th>\n",
       "      <th>Unnamed: 13</th>\n",
       "    </tr>\n",
       "    <tr>\n",
       "      <th>ROWNUM</th>\n",
       "      <th></th>\n",
       "      <th></th>\n",
       "      <th></th>\n",
       "      <th></th>\n",
       "      <th></th>\n",
       "      <th></th>\n",
       "      <th></th>\n",
       "      <th></th>\n",
       "      <th></th>\n",
       "      <th></th>\n",
       "      <th></th>\n",
       "      <th></th>\n",
       "      <th></th>\n",
       "    </tr>\n",
       "  </thead>\n",
       "  <tbody>\n",
       "    <tr>\n",
       "      <th>3</th>\n",
       "      <td>город Москва (за исключением Троицкого и Новом...</td>\n",
       "      <td>Газ</td>\n",
       "      <td>руб/кв.м</td>\n",
       "      <td>01.07.2012</td>\n",
       "      <td>31.08.2012</td>\n",
       "      <td>нет</td>\n",
       "      <td>NaN</td>\n",
       "      <td>NaN</td>\n",
       "      <td>дома с отоплением от газовых нагревателей</td>\n",
       "      <td>ООО «Газпром межрегионгаз Москва»</td>\n",
       "      <td>25.61</td>\n",
       "      <td>19693682</td>\n",
       "      <td>NaN</td>\n",
       "    </tr>\n",
       "    <tr>\n",
       "      <th>52</th>\n",
       "      <td>город Москва (за исключением Троицкого и Новом...</td>\n",
       "      <td>Газ</td>\n",
       "      <td>руб/кв.м</td>\n",
       "      <td>01.01.2012</td>\n",
       "      <td>30.06.2012</td>\n",
       "      <td>нет</td>\n",
       "      <td>NaN</td>\n",
       "      <td>NaN</td>\n",
       "      <td>дома с отоплением от газовых нагревателей</td>\n",
       "      <td>ООО «Газпром межрегионгаз Москва»</td>\n",
       "      <td>22.27</td>\n",
       "      <td>19693622</td>\n",
       "      <td>NaN</td>\n",
       "    </tr>\n",
       "  </tbody>\n",
       "</table>\n",
       "</div>"
      ],
      "text/plain": [
       "                                                   Region TariffItem  \\\n",
       "ROWNUM                                                                 \n",
       "3       город Москва (за исключением Троицкого и Новом...        Газ   \n",
       "52      город Москва (за исключением Троицкого и Новом...        Газ   \n",
       "\n",
       "       UnitOfMeasure   StartDate     EndDate MeasureDeviceAvail StoveType  \\\n",
       "ROWNUM                                                                      \n",
       "3           руб/кв.м  01.07.2012  31.08.2012                нет       NaN   \n",
       "52          руб/кв.м  01.01.2012  30.06.2012                нет       NaN   \n",
       "\n",
       "       ConsumptionTime                          ConsumptionTarget  \\\n",
       "ROWNUM                                                              \n",
       "3                  NaN  дома с отоплением от газовых нагревателей   \n",
       "52                 NaN  дома с отоплением от газовых нагревателей   \n",
       "\n",
       "                                   Agency  TariffValue  global_id  Unnamed: 13  \n",
       "ROWNUM                                                                          \n",
       "3       ООО «Газпром межрегионгаз Москва»        25.61   19693682          NaN  \n",
       "52      ООО «Газпром межрегионгаз Москва»        22.27   19693622          NaN  "
      ]
     },
     "execution_count": 87,
     "metadata": {},
     "output_type": "execute_result"
    }
   ],
   "source": [
    "df[ (df['TariffItem'] == \"Газ\") & (df['UnitOfMeasure'] == \"руб/кв.м\") ]"
   ]
  },
  {
   "cell_type": "markdown",
   "metadata": {},
   "source": [
    "Обратите внимание на амперсанд `&` (логическое И) и на скобки — они обязательны.\n",
    "\n",
    "Как работает эта штука? Очень просто: `df['TariffItem'] == \"Газ\"` — один ряд с булевскими значениями, `df['UnitOfMeasure'] == \"руб/кв.м\"` — другой, амперсанд `&` делает поэлементное «И» с этими двумя рядами — в результате получается ряд, в котором стоит `True` только если выполнялись оба условия — и именно по этому ряду мы и производим выборку элементов."
   ]
  },
  {
   "cell_type": "markdown",
   "metadata": {},
   "source": [
    "### Шпаргалки"
   ]
  },
  {
   "cell_type": "markdown",
   "metadata": {},
   "source": [
    "![Шпаргалка1](img/cheatsheet1.jpg)"
   ]
  },
  {
   "cell_type": "markdown",
   "metadata": {},
   "source": [
    "![Шпаргалка3](img/cheatsheet3.jpg)"
   ]
  },
  {
   "cell_type": "markdown",
   "metadata": {},
   "source": [
    "![Шпаргалкa2](img/cheatsheet2.jpg)"
   ]
  }
 ],
 "metadata": {
  "anaconda-cloud": {},
  "kernelspec": {
   "display_name": "Python 3",
   "language": "python",
   "name": "root"
  },
  "language_info": {
   "codemirror_mode": {
    "name": "ipython",
    "version": 3
   },
   "file_extension": ".py",
   "mimetype": "text/x-python",
   "name": "python",
   "nbconvert_exporter": "python",
   "pygments_lexer": "ipython3",
   "version": "3.5.2"
  }
 },
 "nbformat": 4,
 "nbformat_minor": 2
}
