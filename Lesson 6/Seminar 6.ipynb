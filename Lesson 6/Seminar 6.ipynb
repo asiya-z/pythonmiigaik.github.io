{
 "cells": [
  {
   "cell_type": "markdown",
   "metadata": {},
   "source": [
    "### Самостоятельная работа 6"
   ]
  },
  {
   "cell_type": "markdown",
   "metadata": {},
   "source": [
    "### Задание\n",
    "Вам дано две таблицы: первая, маршрут пушешественника [route.csv](https://pythonmiigaik.github.io/Lesson%206/route.csv), где с перерывом в 20 мин турист отмечал свои координаты на карте. Координаты указаны в километрах, относительно Москвы, то есть Москва имеет координаты (0,0). Вторая таблица [cities.csv](https://pythonmiigaik.github.io/Lesson%206/cities.csv) - координаты городов в той окрестности, где ездил путешественник.\n",
    "\n",
    "1. Как долго ездил путешественник? <br>\n",
    "2. Посмотрите как менялась скорость в течении его поездки (постройтке график)<br>\n",
    "3. Найдите среднюю скорость, изобразите на том же графике в виде горизонтальной линии.<br>\n",
    "4. Найдите среднюю скорость без учета остановок, изобразите на том же графике в виде горизонтальной линии.<br>\n",
    "5. Добавьте легенду (скорость, средняя скорость, средняя без остановок).<br>\n",
    "6. Изобразите маршрут на графике.<br>\n",
    "7. Добавьте к графику города.<br>\n",
    "8. Найдите самую продолжительную остановку, в каком городе она была?<br>\n",
    "9. Постройте piechart продолжительности остановок.\n",
    "\n",
    "\n",
    "**Подсказки:**\n",
    "1. pd.read_csv имеет атрибут header=None\n",
    "2. plt.text(x, y, text)\n",
    "\n",
    "3. PieChart:<br>\n",
    "plt.pie([10, 4, 25, 6], labels=['a', 'b', 'c', 'd'], autopct='%1.1f%%');<br>\n",
    "plt.axis('equal')"
   ]
  },
  {
   "cell_type": "code",
   "execution_count": null,
   "metadata": {
    "collapsed": true
   },
   "outputs": [],
   "source": []
  }
 ],
 "metadata": {
  "anaconda-cloud": {},
  "kernelspec": {
   "display_name": "Python 3",
   "language": "python",
   "name": "root"
  },
  "language_info": {
   "codemirror_mode": {
    "name": "ipython",
    "version": 3
   },
   "file_extension": ".py",
   "mimetype": "text/x-python",
   "name": "python",
   "nbconvert_exporter": "python",
   "pygments_lexer": "ipython3",
   "version": "3.5.2"
  }
 },
 "nbformat": 4,
 "nbformat_minor": 2
}
