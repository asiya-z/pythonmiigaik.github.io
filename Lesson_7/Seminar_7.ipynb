{
 "cells": [
  {
   "cell_type": "markdown",
   "metadata": {},
   "source": [
    "## Seminar 7"
   ]
  },
  {
   "cell_type": "markdown",
   "metadata": {},
   "source": [
    "1. По [cсылке](https://github.com/ageron/handson-ml/raw/master/datasets/housing/housing.tgz/) лежит архив с датасетом. Необходимо силами питона его скачать и распаковать.\n",
    "2. Отобразим координаты домов на графике.\n",
    "3. Сделайте так, чтобы точки различались по цвету в зависимости от средней стоимости дома,\n",
    "    и по размеру в зависимости от населенности местности.\n",
    "4. Подставьте карту, взятую из [OSM](https://www.openstreetmap.org/)\n",
    "5. Кажется что-то не так, да? Исправьте)"
   ]
  },
  {
   "cell_type": "code",
   "execution_count": 4,
   "metadata": {
    "collapsed": false
   },
   "outputs": [],
   "source": [
    "import requests\n",
    "r = requests.get(url)"
   ]
  },
  {
   "cell_type": "code",
   "execution_count": 1,
   "metadata": {
    "collapsed": true
   },
   "outputs": [],
   "source": [
    "# распаковка\n",
    "import tarfile\n",
    "\n",
    "housing_tgz = tarfile.open(path_to_file)\n",
    "housing_tgz.extractall(path=path_to_extract)\n",
    "housing_tgz.close()"
   ]
  },
  {
   "cell_type": "code",
   "execution_count": null,
   "metadata": {
    "collapsed": true
   },
   "outputs": [],
   "source": [
    "import math\n",
    "def lat2y(a):\n",
    "    return 180.0/math.pi*math.log(math.tan(math.pi/4.0+a*(math.pi/180.0)/2.0))"
   ]
  }
 ],
 "metadata": {
  "anaconda-cloud": {},
  "kernelspec": {
   "display_name": "Python 3",
   "language": "python",
   "name": "root"
  },
  "language_info": {
   "codemirror_mode": {
    "name": "ipython",
    "version": 3
   },
   "file_extension": ".py",
   "mimetype": "text/x-python",
   "name": "python",
   "nbconvert_exporter": "python",
   "pygments_lexer": "ipython3",
   "version": "3.5.2"
  }
 },
 "nbformat": 4,
 "nbformat_minor": 2
}
