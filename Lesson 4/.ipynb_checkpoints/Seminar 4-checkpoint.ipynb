{
 "cells": [
  {
   "cell_type": "markdown",
   "metadata": {},
   "source": [
    "### Самостоятельная работа 4"
   ]
  },
  {
   "cell_type": "markdown",
   "metadata": {},
   "source": [
    "### Задача 1 Правильная скобочная последовательность  \n",
    "На вход вашей функции подается последовательность из скобочек. Функция должна вывести True, если последовательность - правильная, то есть, если все открытые скобки закрыты и никакие закрывающие скобки не встречаются раньше времени."
   ]
  },
  {
   "cell_type": "code",
   "execution_count": null,
   "metadata": {
    "collapsed": true
   },
   "outputs": [],
   "source": [
    "# решение"
   ]
  },
  {
   "cell_type": "markdown",
   "metadata": {},
   "source": [
    "### Задача 2 \n",
    "На вход вашей функции подается неограниченное количество целых чисел. Вам нужно найти самое часто встречающееся число и вывести сколько раз оно встречается. "
   ]
  },
  {
   "cell_type": "code",
   "execution_count": null,
   "metadata": {
    "collapsed": true
   },
   "outputs": [],
   "source": [
    "# ршение "
   ]
  },
  {
   "cell_type": "markdown",
   "metadata": {
    "collapsed": true
   },
   "source": [
    "### Задача 3 Рекурсия\n",
    "На вход подается послеовательность чисел, которая заканчивается 0. Написать рекурсивную функцию, которая выведет числа, подающиеся на вход, в обратном порядке. \n",
    "\n",
    "** Пример** <br>\n",
    "*** Вход*** <br>\n",
    "1<br>\n",
    "2<br>\n",
    "3<br>\n",
    "0<br>\n",
    "***Выход***<br>\n",
    "0<br>\n",
    "3<br>\n",
    "2<br>\n",
    "1<br>"
   ]
  },
  {
   "cell_type": "code",
   "execution_count": null,
   "metadata": {
    "collapsed": true
   },
   "outputs": [],
   "source": [
    "# решение"
   ]
  },
  {
   "cell_type": "markdown",
   "metadata": {},
   "source": [
    "#### Задача 4 Странная сортировка\n",
    "Предыстория: Валерия участвует в фитнесс-марафоне и каждую неделю там проходят взвешивания и составляется рейтинг. И Лера каждую неделю оказывается последней в этом рейтинге. Чтобы не было так обидно, она для себя придумала такую штуку: сортировать рейтинг не по весу, а по сумме цифр в весе.\n",
    "\n",
    "Напишите функцию, которая реализует такую сортировку. Если 2 числа имеют одинаковую сумму цифр, то запишите их в том порядке возрастания самих чисел. На вход подается строка весов, на выходе также должна быть строка из уже отсортированных весов.\n",
    "\n",
    "**Пример**<br>\n",
    "\"56 65 74 100 99 68 86 180 90\" -> \"100 180 90 56 65 74 68 86 99\"\n"
   ]
  },
  {
   "cell_type": "code",
   "execution_count": null,
   "metadata": {
    "collapsed": true
   },
   "outputs": [],
   "source": [
    "# Решение"
   ]
  },
  {
   "cell_type": "markdown",
   "metadata": {},
   "source": [
    "### Задача 5\n",
    "Напишите lambda-функцию, на вход которой подается список и число. Функция должна к каждому элементу списка прибавить данное число. Примените ее к списку."
   ]
  },
  {
   "cell_type": "code",
   "execution_count": null,
   "metadata": {
    "collapsed": true
   },
   "outputs": [],
   "source": [
    "# решение"
   ]
  },
  {
   "cell_type": "markdown",
   "metadata": {},
   "source": [
    "### Задача 6\n",
    "Напишите lambda-функцию, которая меняет маленькие буквы списка на большие, а большие на маленькие. Примените ее к строке.<br>\n",
    "Чтобы не писать алфавиты вручную воспользуйтесь функциями ord() и chr(), которые по заданным символам или номерам выводят номер или символ, соответственно. ord('a') == 97, chr(97) == 'a'"
   ]
  },
  {
   "cell_type": "code",
   "execution_count": null,
   "metadata": {
    "collapsed": true
   },
   "outputs": [],
   "source": [
    "# решение"
   ]
  },
  {
   "cell_type": "markdown",
   "metadata": {},
   "source": [
    "### Задача 7\n",
    "Напишите lambda-функцию, которая возвращет текст без знаков препинания и примените ее к тексту."
   ]
  },
  {
   "cell_type": "code",
   "execution_count": null,
   "metadata": {
    "collapsed": true
   },
   "outputs": [],
   "source": [
    "# решение"
   ]
  }
 ],
 "metadata": {
  "anaconda-cloud": {},
  "kernelspec": {
   "display_name": "Python 3",
   "language": "python",
   "name": "python3"
  },
  "language_info": {
   "codemirror_mode": {
    "name": "ipython",
    "version": 3
   },
   "file_extension": ".py",
   "mimetype": "text/x-python",
   "name": "python",
   "nbconvert_exporter": "python",
   "pygments_lexer": "ipython3",
   "version": "3.7.0"
  }
 },
 "nbformat": 4,
 "nbformat_minor": 2
}
