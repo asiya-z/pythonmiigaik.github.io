{
 "cells": [
  {
   "cell_type": "markdown",
   "metadata": {
    "collapsed": true
   },
   "source": [
    "# Занятие 4\n",
    "### Лекторы: Ярослав Петрик, Тихонова Полина\n",
    "\n",
    "*Составлено с использованием материалов курса лекций «Программирование на языке Python для сбора и анализа данных» Щурова И.В., НИУ ВШЭ*"
   ]
  },
  {
   "cell_type": "markdown",
   "metadata": {},
   "source": [
    "##  Функции"
   ]
  },
  {
   "cell_type": "markdown",
   "metadata": {},
   "source": [
    "Функции — это такие участки кода, которые изолированы от остальный программы и выполняются только тогда, когда вызываются. \n",
    "\n",
    "Мы уже встречались с функциями, например max(), len(), print(). Они все обладают общим свойством: они могут принимать параметры (один или несколько, или 0 параметров), и они могут возвращать значение (хотя могут и не возвращать). Например, функция max() принимает один параметр и возвращает значение (наибольшее число). Функция print() принимает произвольное число параметров и ничего не возвращает.\n",
    "\n",
    "#### Зачем нужны функции?\n",
    "Во-первых, это организация рутинных действий: если в ходе работы нам часто приходится выполнять одинковые действия, то вместо того, чтобы копировать код из одного места в другое, лучше создать функцию: то есть такую штуку, которая бы одним словом заменила целый набор действий! Базовые функции в питоне, которые используются ну оочень часто, конечно же, уже прописаны из коробки (те же len(), min()...), еще некоторая часть прописана в сторонних библиотеках (о них мы поговорим на след. занятиях).\n",
    "Но бывает, что необходимо зафиксировать некоторый специфический набор действий, вот тогда-то и приходится писать функции самим.\n",
    "\n",
    "Еще одна причина - организация работы. Например, вам предстоит решить очень большую и сложную задачу (ну или просто большую). По началу, вы можете даже не представлять как к ней подступится, но ответ прост: ешьте слона по кусочкам. То есть разбейте эту задачу на более мелкие подзадачи, а при необходимости разбейте еще раз. И каждую маленькую подзадачку решайте отдельно и реализуйте в виде функций. Чтобы потом собирать решение исходной задачи как из кирпичиков - из написанных ранее функций. Так у вас будет меньше шансов запутаться в своем же коде, а ваше решение будет гораздо более прозрачным и простым.\n",
    "\n",
    "\n",
    "Что ж, попробуем написать свою первую функцию! В качестве примера, возьмем нашу несчастную последовательность фибоначчи."
   ]
  },
  {
   "cell_type": "markdown",
   "metadata": {},
   "source": [
    "Для начала вспомним алгоритм нахождения k-того числа фибоначчи:"
   ]
  },
  {
   "cell_type": "code",
   "execution_count": 18,
   "metadata": {},
   "outputs": [
    {
     "name": "stdout",
     "output_type": "stream",
     "text": [
      "55\n"
     ]
    }
   ],
   "source": [
    "k = 10\n",
    "a = 1\n",
    "b = 1\n",
    "h = 1\n",
    "for i in range(k):\n",
    "    if i < 2:\n",
    "        h = 1\n",
    "    else:\n",
    "        h = a + b\n",
    "        a = b\n",
    "        b = h\n",
    "print(b)"
   ]
  },
  {
   "cell_type": "markdown",
   "metadata": {},
   "source": [
    "Для единообразия,  здесь мы не исключаем первые 2 шага из цикла.\n",
    "\n",
    "А теперь напишем функцию, вычисляющую k-ое число фибоначчи. Она выглядит так:"
   ]
  },
  {
   "cell_type": "code",
   "execution_count": 19,
   "metadata": {
    "collapsed": true
   },
   "outputs": [],
   "source": [
    "def fibonachi(k):\n",
    "    a = 1\n",
    "    b = 1\n",
    "    h = 1\n",
    "    for i in range(k):\n",
    "        if i < 2:\n",
    "            h = 1\n",
    "        else:\n",
    "            h = a + b\n",
    "            a = b\n",
    "            b = h\n",
    "    return h"
   ]
  },
  {
   "cell_type": "markdown",
   "metadata": {},
   "source": [
    "При выполнении этой ячейки вроде бы ничего не произошло — по крайней мере, Python не выдал никакого вывода. Так и должно быть. На самом деле, в этот момент Python достал большую чёрную записную книжку на странице на букву f (это метафора, на самом деле нет никаких страниц) и записал в неё: «если меня попросят выполнить функцию fibonachi, нужно сделать вот такие действия». Теперь мы можем *вызывать* функцию `fibonachi`, передавая ей параметр."
   ]
  },
  {
   "cell_type": "code",
   "execution_count": 20,
   "metadata": {},
   "outputs": [
    {
     "data": {
      "text/plain": [
       "13"
      ]
     },
     "execution_count": 20,
     "metadata": {},
     "output_type": "execute_result"
    }
   ],
   "source": [
    "fibonachi(7)"
   ]
  },
  {
   "cell_type": "markdown",
   "metadata": {
    "collapsed": true
   },
   "source": [
    "И даже использовать её в более сложных выражениях:"
   ]
  },
  {
   "cell_type": "code",
   "execution_count": 21,
   "metadata": {},
   "outputs": [
    {
     "data": {
      "text/plain": [
       "1610"
      ]
     },
     "execution_count": 21,
     "metadata": {},
     "output_type": "execute_result"
    }
   ],
   "source": [
    "fibonachi(7)+fibonachi(17)"
   ]
  },
  {
   "cell_type": "markdown",
   "metadata": {},
   "source": [
    "Посмотрим более внимательно на то, что происходит, когда Python вычисляет значение выражения `fibonachi(7)`. В первую очередь он открывает свою записную книжку и ищет там функцию `fibonachi`. Находит (поскольку раньше мы её туда записали). Дальше он смотрит на первую строчку определения функции (это так называемая *сигнатура*):\n",
    "\n",
    "```python\n",
    "def fibonachi(k):\n",
    "```\n",
    "\n",
    "Здесь он видит, что функция `fibonachi()` имеет аргумент, который называется `k`. Python помнит, что мы вызвали `fibonachi(7)`, то есть значение аргумента должно быть равно 7. Таким образом, дальше он выполняет строчку (которую мы не писали)\n",
    "```python\n",
    "k = 7\n",
    "```\n",
    "\n",
    "После чего выполняет остальные строчки из *тела функции*:\n",
    "```python\n",
    "a = 1\n",
    "    b = 1\n",
    "    h = 1\n",
    "    for i in range(k):\n",
    "        if i < 2:\n",
    "            h = 1\n",
    "        else:\n",
    "            h = a + b\n",
    "            a = b\n",
    "            b = h\n",
    "```\n",
    "\n",
    "Наконец он доходит до строчки\n",
    "```python\n",
    "return h\n",
    "```\n",
    "В этот момент переменная `h` имеет значение 13. Слово `return` означает, что Python должен вернуться к строчке, в которой был вызов `fibonachi(7)`, и заменить там `fibonachi(7)` на 13 (то, что написано после `return`). На этом вызов функции завершён."
   ]
  },
  {
   "cell_type": "markdown",
   "metadata": {},
   "source": [
    "### Возвращаемые значения и побочные эффекты"
   ]
  },
  {
   "cell_type": "markdown",
   "metadata": {},
   "source": [
    "Давайте а нарисую такую схему:\n",
    "\n",
    "![Схема работы функции](http://math-info.hse.ru/f/2015-16/all-py/func.svg)\n",
    "\n",
    "Функция — это такая машинка, которая что-то получает на вход (аргументы), что-то выдаёт на выход (возвращаемое значение), а ещё может попутно что-то сделать с окружающей реальностью (побочные эффекты). \n",
    "> Представьте себе кофейный автомат, который на вход принимает деньги, возвращает кофе, но ещё при каждом запуске отправляет компании-производителю письмо с информацией о том, какой кофе был заказан последним. Вот эта отправка письма и будет побочным эффектом.\n",
    "\n",
    "Давайте посмотрим на примере, в чём разница между возвращаемым значением и побочным эффектом. Напишем функцию, которая приветствует пользователя."
   ]
  },
  {
   "cell_type": "code",
   "execution_count": 13,
   "metadata": {
    "collapsed": true
   },
   "outputs": [],
   "source": [
    "def hello(name):\n",
    "    return \"Hello, \"+name+\"!\""
   ]
  },
  {
   "cell_type": "code",
   "execution_count": 14,
   "metadata": {
    "collapsed": true
   },
   "outputs": [],
   "source": [
    "s = hello(\"World\")"
   ]
  },
  {
   "cell_type": "code",
   "execution_count": 15,
   "metadata": {},
   "outputs": [
    {
     "data": {
      "text/plain": [
       "'Hello, World!'"
      ]
     },
     "execution_count": 15,
     "metadata": {},
     "output_type": "execute_result"
    }
   ],
   "source": [
    "s"
   ]
  },
  {
   "cell_type": "markdown",
   "metadata": {},
   "source": [
    "В переменной `s` сейчас — результат выполнения функции `hello()`, которой на вход передали аргумент `name`, равный `\"World\"`.\n",
    "\n",
    "А теперь давайте напишем другую функцию, которая не *возвращает* строчку, а печатает её."
   ]
  },
  {
   "cell_type": "code",
   "execution_count": 16,
   "metadata": {
    "collapsed": true
   },
   "outputs": [],
   "source": [
    "def say_hello(name):\n",
    "    print(\"Hello, \"+name+\"!\")"
   ]
  },
  {
   "cell_type": "markdown",
   "metadata": {},
   "source": [
    "В этой функции вообще нет команды `return`, но Python поймёт, что из функции надо возвращаться в основную программу в тот момент, когда строчки в функции закончились. В данном случае в функции только одна строка."
   ]
  },
  {
   "cell_type": "code",
   "execution_count": 17,
   "metadata": {},
   "outputs": [
    {
     "name": "stdout",
     "output_type": "stream",
     "text": [
      "Hello, Harry!\n"
     ]
    }
   ],
   "source": [
    "s = say_hello(\"Harry\")"
   ]
  },
  {
   "cell_type": "markdown",
   "metadata": {},
   "source": [
    "Обратите внимание: теперь при выполнении `s = say_hello(\"Harry\")` строчка выводится на печать. Это и есть *побочный эффект* выполнения функции `say_hello`. Что лежит в переменной `s`?"
   ]
  },
  {
   "cell_type": "code",
   "execution_count": 18,
   "metadata": {
    "collapsed": true
   },
   "outputs": [],
   "source": [
    "s"
   ]
  },
  {
   "cell_type": "code",
   "execution_count": 19,
   "metadata": {},
   "outputs": [
    {
     "name": "stdout",
     "output_type": "stream",
     "text": [
      "None\n"
     ]
    }
   ],
   "source": [
    "print(s)"
   ]
  },
  {
   "cell_type": "markdown",
   "metadata": {},
   "source": [
    "В ней лежит *ничего*. Это специальный объект `None`, который испоьзуется, когда какое-то значение нужно присвоить переменной, но никакого значения нет. В данном случае его нет, потому что функция ничего не вернула. Возвращаемого значения у `say_hello()` нет. Так бывает."
   ]
  },
  {
   "cell_type": "markdown",
   "metadata": {},
   "source": [
    "### Более сложные ситуации с функциями"
   ]
  },
  {
   "cell_type": "markdown",
   "metadata": {},
   "source": [
    "Функции могут вызывать другие функции. Например, вместо того, чтобы копировать строчку `\"Hello, \"+name+\"!\"` из функции `hello()` в функцию `say_hello()`, просто вызовем `hello()` из `say_hello()`."
   ]
  },
  {
   "cell_type": "code",
   "execution_count": 1,
   "metadata": {
    "collapsed": true
   },
   "outputs": [],
   "source": [
    "def new_say_hello(name):\n",
    "    '''\n",
    "    Function, which print Hello, %name%!\n",
    "    \n",
    "    name - type: str\n",
    "    return None\n",
    "    '''\n",
    "    print(hello(name))"
   ]
  },
  {
   "cell_type": "code",
   "execution_count": 19,
   "metadata": {},
   "outputs": [
    {
     "name": "stdout",
     "output_type": "stream",
     "text": [
      "Hello, Harry!\n"
     ]
    }
   ],
   "source": [
    "new_say_hello(\"Harry\")"
   ]
  },
  {
   "cell_type": "code",
   "execution_count": 2,
   "metadata": {
    "collapsed": true
   },
   "outputs": [],
   "source": [
    "new_say_hello??"
   ]
  },
  {
   "cell_type": "markdown",
   "metadata": {},
   "source": [
    "В тройных кавычках сразу после сигнатуры функции обычно приводится её описание (так называемая `docstring`). Это комментарий для людей, которые будут использовать вашу функцию в будущем. Даже если это будете вы сами, скорее всего, через месяц вы уже забудете, что именно делает эта функция, какие аргументы принимает и какие значения возвращает. Написать всё это сразу бывает очень полезно. Чтобы посмотреть на эту справку, можно набрать название вашей функции, открывающую скобку и нажать *Shift+Tab* или *?*.\n",
    "Чтобы посмотреть не только информацию о функции, но и ее код наберите название вашей функции и *??*"
   ]
  },
  {
   "cell_type": "markdown",
   "metadata": {},
   "source": [
    "После выполнения строчки `return` выполнение функции прекращается. Давайте рассмотрим ещё один пример: вычислим модуль некоторого числа. Код для этой функции может иметь такой вид:"
   ]
  },
  {
   "cell_type": "code",
   "execution_count": 22,
   "metadata": {
    "collapsed": true
   },
   "outputs": [],
   "source": [
    "def my_abs(x):\n",
    "    if x > 0:\n",
    "        return x\n",
    "    else:\n",
    "        return -x"
   ]
  },
  {
   "cell_type": "code",
   "execution_count": 23,
   "metadata": {},
   "outputs": [
    {
     "data": {
      "text/plain": [
       "5"
      ]
     },
     "execution_count": 23,
     "metadata": {},
     "output_type": "execute_result"
    }
   ],
   "source": [
    "my_abs(-5)"
   ]
  },
  {
   "cell_type": "markdown",
   "metadata": {},
   "source": [
    "Это самое простое решение: если число положительное, то возвращается оно само, а если отрицательное, то возвращается оно с обратным знаком (`-x`). \n",
    "Можно было бы написать эту функцию и таким образом:"
   ]
  },
  {
   "cell_type": "code",
   "execution_count": 24,
   "metadata": {
    "collapsed": true
   },
   "outputs": [],
   "source": [
    "def my_abs(x):\n",
    "    print(\"New my_abs\")\n",
    "    # если функция с таким названием уже была, то Python про неё забудет и запишет вместо этого новую функцию\n",
    "    # чтобы убедиться в этом создадим побочный эффект: print, объявляющий о том, что это действительно новая функция\n",
    "    if x > 0:\n",
    "        return x\n",
    "    return -x"
   ]
  },
  {
   "cell_type": "code",
   "execution_count": 25,
   "metadata": {},
   "outputs": [
    {
     "name": "stdout",
     "output_type": "stream",
     "text": [
      "New my_abs\n"
     ]
    },
    {
     "data": {
      "text/plain": [
       "6"
      ]
     },
     "execution_count": 25,
     "metadata": {},
     "output_type": "execute_result"
    }
   ],
   "source": [
    "my_abs(-6)"
   ]
  },
  {
   "cell_type": "markdown",
   "metadata": {},
   "source": [
    "Здесь происходит следующее: если число положительное, то срабатывает `return x` и после этого выполнение функции прекращается, до строчки `return -x` дело не доходит. А если число отрицательное, то наборот, срабатывает только строчка `return -x` (из-за оператора `if`)."
   ]
  },
  {
   "cell_type": "markdown",
   "metadata": {},
   "source": [
    "### Локальные и глобальные переменные"
   ]
  },
  {
   "cell_type": "markdown",
   "metadata": {},
   "source": [
    "Внутри функции могут создаваться и использоваться различные переменные. Чтобы это не создавало проблем, переменные, определенные внутри функции, не видны извне. Давайте рассмотрим пример:"
   ]
  },
  {
   "cell_type": "code",
   "execution_count": 23,
   "metadata": {},
   "outputs": [
    {
     "name": "stdout",
     "output_type": "stream",
     "text": [
      "10\n",
      "In the function, h = 1\n",
      "5\n",
      "Out of function\n",
      "10\n"
     ]
    }
   ],
   "source": [
    "h = 10\n",
    "\n",
    "def fibonachi(k):\n",
    "    a = 1\n",
    "    b = 1\n",
    "    h = 1\n",
    "    print('In the function, h =', h)\n",
    "    for i in range(k):\n",
    "        if i < 2:\n",
    "            h = 1\n",
    "        else:\n",
    "            h = a + b\n",
    "            a = b\n",
    "            b = h\n",
    "    return h\n",
    "\n",
    "h = 10\n",
    "print(h)\n",
    "print(fibonachi(5))\n",
    "print(\"Out of function\")\n",
    "print(h)"
   ]
  },
  {
   "cell_type": "markdown",
   "metadata": {},
   "source": [
    "[pythontutor](http://pythontutor.com/visualize.html#mode=edit)"
   ]
  },
  {
   "cell_type": "markdown",
   "metadata": {},
   "source": [
    "Тем не менее, иногда нам всё-таки хочется, чтобы функция имела доступ к какой-то внешней переменной. Допустим, мы хотим написать функцию, которая будет приветствовать пользователя, используя язык, указанный им в настройках. Она могла бы выглядеть таким образом:"
   ]
  },
  {
   "cell_type": "code",
   "execution_count": 36,
   "metadata": {
    "collapsed": true
   },
   "outputs": [],
   "source": [
    "def hello_lang(name, lang):\n",
    "    if lang == 'ru':\n",
    "        print(\"Привет,\",name)\n",
    "    else:\n",
    "        print(\"Hello,\",name)"
   ]
  },
  {
   "cell_type": "code",
   "execution_count": 37,
   "metadata": {},
   "outputs": [
    {
     "name": "stdout",
     "output_type": "stream",
     "text": [
      "Привет, Ivan\n"
     ]
    }
   ],
   "source": [
    "hello_lang(\"Ivan\", 'ru')"
   ]
  },
  {
   "cell_type": "code",
   "execution_count": 38,
   "metadata": {},
   "outputs": [
    {
     "name": "stdout",
     "output_type": "stream",
     "text": [
      "Hello, Ivan\n"
     ]
    }
   ],
   "source": [
    "hello_lang(\"Ivan\", 'en')"
   ]
  },
  {
   "cell_type": "markdown",
   "metadata": {},
   "source": [
    "Проблема в том, что функций, которым нужно знать, какой язык выбран, может быть очень много, и каждый раз передавать им вручную значение переменной `lang` отдельным параметром довольно мучительно. Оказывается, можно этого избежать:"
   ]
  },
  {
   "cell_type": "code",
   "execution_count": 39,
   "metadata": {},
   "outputs": [
    {
     "name": "stdout",
     "output_type": "stream",
     "text": [
      "Hello world\n",
      "Привет, Ivan\n",
      "Hello, John\n"
     ]
    }
   ],
   "source": [
    "def hello_lang(name):\n",
    "    if lang == 'ru':\n",
    "        print(\"Привет,\",name)\n",
    "    else:\n",
    "        print(\"Hello,\",name)\n",
    "        \n",
    "lang = 'ru'\n",
    "print(\"Hello world\")\n",
    "hello_lang('Ivan')\n",
    "\n",
    "lang = 'en'\n",
    "hello_lang('John')"
   ]
  },
  {
   "cell_type": "markdown",
   "metadata": {},
   "source": [
    "Как видите, сейчaс поведение функции зависит от того, чему равняется переменная `lang`, определенная вне функции. Может быть и в функции `fibonachi()` можно было обратиться к переменной `h` до того момента, как мы положили в неё число 1? Давайте попробуем:"
   ]
  },
  {
   "cell_type": "code",
   "execution_count": 25,
   "metadata": {},
   "outputs": [],
   "source": [
    "def fibonachi(k):\n",
    "    print(\"In the function, before assignment, h =\", h)\n",
    "    a = 1\n",
    "    b = 1\n",
    "    h = 1    \n",
    "    for i in range(k):\n",
    "        if i < 2:\n",
    "            h = 1\n",
    "        else:\n",
    "            h = a + b\n",
    "            a = b\n",
    "            b = h\n",
    "    print('In the function, h =', h)\n",
    "    return h"
   ]
  },
  {
   "cell_type": "code",
   "execution_count": 26,
   "metadata": {},
   "outputs": [
    {
     "ename": "UnboundLocalError",
     "evalue": "local variable 'h' referenced before assignment",
     "output_type": "error",
     "traceback": [
      "\u001b[0;31m---------------------------------------------------------------------------\u001b[0m",
      "\u001b[0;31mUnboundLocalError\u001b[0m                         Traceback (most recent call last)",
      "\u001b[0;32m<ipython-input-26-ad22c49f0092>\u001b[0m in \u001b[0;36m<module>\u001b[0;34m()\u001b[0m\n\u001b[0;32m----> 1\u001b[0;31m \u001b[0mfibonachi\u001b[0m\u001b[1;33m(\u001b[0m\u001b[1;36m3\u001b[0m\u001b[1;33m)\u001b[0m\u001b[1;33m\u001b[0m\u001b[0m\n\u001b[0m",
      "\u001b[0;32m<ipython-input-25-b24612042faf>\u001b[0m in \u001b[0;36mfibonachi\u001b[0;34m(k)\u001b[0m\n\u001b[1;32m      1\u001b[0m \u001b[1;32mdef\u001b[0m \u001b[0mfibonachi\u001b[0m\u001b[1;33m(\u001b[0m\u001b[0mk\u001b[0m\u001b[1;33m)\u001b[0m\u001b[1;33m:\u001b[0m\u001b[1;33m\u001b[0m\u001b[0m\n\u001b[0;32m----> 2\u001b[0;31m     \u001b[0mprint\u001b[0m\u001b[1;33m(\u001b[0m\u001b[1;34m\"In the function, before assignment, h =\"\u001b[0m\u001b[1;33m,\u001b[0m \u001b[0mh\u001b[0m\u001b[1;33m)\u001b[0m\u001b[1;33m\u001b[0m\u001b[0m\n\u001b[0m\u001b[1;32m      3\u001b[0m     \u001b[0ma\u001b[0m \u001b[1;33m=\u001b[0m \u001b[1;36m1\u001b[0m\u001b[1;33m\u001b[0m\u001b[0m\n\u001b[1;32m      4\u001b[0m     \u001b[0mb\u001b[0m \u001b[1;33m=\u001b[0m \u001b[1;36m1\u001b[0m\u001b[1;33m\u001b[0m\u001b[0m\n\u001b[1;32m      5\u001b[0m     \u001b[0mh\u001b[0m \u001b[1;33m=\u001b[0m \u001b[1;36m1\u001b[0m\u001b[1;33m\u001b[0m\u001b[0m\n",
      "\u001b[0;31mUnboundLocalError\u001b[0m: local variable 'h' referenced before assignment"
     ]
    }
   ],
   "source": [
    "fibonachi(3)"
   ]
  },
  {
   "cell_type": "markdown",
   "metadata": {},
   "source": [
    "В этом случае Python выдаёт ошибку: локальная переменная `f` использовалась до присвоения значения. В чём разница между этим кодом и предыдущим?\n",
    "\n",
    "Оказывается, Python очень умный: прежде, чем выполнить функцию, он анализирует её код и определяет, какая из переменных является локальной, а какая глобальной. В качестве глобальных переменных по умолчанию используются те, которые не меняются в теле функции (то есть такие, к которым не применяются операторы типа приравнивания или `+=`). Иными словами, по умолчанию глобальные переменные доступны только для чтения, но не для модификации изнутри функции.\n",
    "\n",
    "Ситуация, при которой функция модифицирует глобальную переменную, обычно не очень желательна: функции должны быть изолированы от кода, который из запускает, иначе вы быстро перестанете понимать, что делает ваша программа. Тем не менее, иногда модификация глобальных переменных необходима. Например, мы хотим написать функцию, которая будет устанавливать значение языка пользовавателя. Она может выглядеть примерно так:"
   ]
  },
  {
   "cell_type": "code",
   "execution_count": 77,
   "metadata": {},
   "outputs": [],
   "source": [
    "def set_lang():\n",
    "    global lang\n",
    "    useRussian = input(\"Would you like to speak Russian (Y/N): \")\n",
    "    if useRussian == 'Y':\n",
    "        lang = 'ru'\n",
    "    else:\n",
    "        lang = 'en'"
   ]
  },
  {
   "cell_type": "code",
   "execution_count": 78,
   "metadata": {},
   "outputs": [
    {
     "name": "stdout",
     "output_type": "stream",
     "text": [
      "en\n",
      "Would you like to speak Russian (Y/N): Y\n",
      "en\n"
     ]
    }
   ],
   "source": [
    "lang = 'en'\n",
    "print(lang)\n",
    "set_lang()\n",
    "print(lang)"
   ]
  },
  {
   "cell_type": "markdown",
   "metadata": {},
   "source": [
    "А если уберем global lang:"
   ]
  },
  {
   "cell_type": "code",
   "execution_count": null,
   "metadata": {
    "collapsed": true
   },
   "outputs": [],
   "source": [
    "def set_lang():\n",
    "    useRussian = input(\"Would you like to speak Russian (Y/N): \")\n",
    "    if useRussian == 'Y':\n",
    "        lang = 'ru'\n",
    "    else:\n",
    "        lang = 'en'"
   ]
  },
  {
   "cell_type": "code",
   "execution_count": null,
   "metadata": {
    "collapsed": true
   },
   "outputs": [],
   "source": [
    "lang = 'en'\n",
    "print(lang)\n",
    "set_lang()\n",
    "print(lang)"
   ]
  },
  {
   "cell_type": "markdown",
   "metadata": {},
   "source": [
    "### Передача аргументов\n",
    "Есть разные способы передавать аргументы функции. С одним из них мы уже знакомы:"
   ]
  },
  {
   "cell_type": "code",
   "execution_count": 81,
   "metadata": {
    "collapsed": true
   },
   "outputs": [],
   "source": [
    "def hello(name, title):\n",
    "    print(\"Hello\", title, name)"
   ]
  },
  {
   "cell_type": "code",
   "execution_count": 82,
   "metadata": {},
   "outputs": [
    {
     "name": "stdout",
     "output_type": "stream",
     "text": [
      "Hello Mr. Potter\n"
     ]
    }
   ],
   "source": [
    "hello(\"Potter\", \"Mr.\")"
   ]
  },
  {
   "cell_type": "markdown",
   "metadata": {},
   "source": [
    "В некоторым случаях мы хотим, чтобы какие-то аргументы можно было не указывать. Скажем, мы хотим иметь возможность вызвать функцию `hello()`, определённую выше, не указывая `title`. В этом случае сейчас нам выдадут ошибку:"
   ]
  },
  {
   "cell_type": "code",
   "execution_count": 83,
   "metadata": {},
   "outputs": [
    {
     "ename": "TypeError",
     "evalue": "hello() missing 1 required positional argument: 'title'",
     "output_type": "error",
     "traceback": [
      "\u001b[0;31m---------------------------------------------------------------------------\u001b[0m",
      "\u001b[0;31mTypeError\u001b[0m                                 Traceback (most recent call last)",
      "\u001b[0;32m<ipython-input-83-dd83cc2cf4d3>\u001b[0m in \u001b[0;36m<module>\u001b[0;34m()\u001b[0m\n\u001b[0;32m----> 1\u001b[0;31m \u001b[0mhello\u001b[0m\u001b[0;34m(\u001b[0m\u001b[0;34m\"Harry\"\u001b[0m\u001b[0;34m)\u001b[0m\u001b[0;34m\u001b[0m\u001b[0m\n\u001b[0m",
      "\u001b[0;31mTypeError\u001b[0m: hello() missing 1 required positional argument: 'title'"
     ]
    }
   ],
   "source": [
    "hello(\"Harry\")"
   ]
  },
  {
   "cell_type": "markdown",
   "metadata": {},
   "source": [
    "Это неудивительно: мы сказали, что функция `hello()` должна использовать аргумент `title`, но не передали его — какое же значение тогда использовать? Для преодоления этой трудности используютя значения по умолчанию (default values)."
   ]
  },
  {
   "cell_type": "code",
   "execution_count": 84,
   "metadata": {},
   "outputs": [
    {
     "name": "stdout",
     "output_type": "stream",
     "text": [
      "Hello  Harry\n"
     ]
    }
   ],
   "source": [
    "def hello(name, title=\"\"):\n",
    "    print(\"Hello\", title, name)\n",
    "hello(\"Harry\")"
   ]
  },
  {
   "cell_type": "code",
   "execution_count": 85,
   "metadata": {},
   "outputs": [
    {
     "name": "stdout",
     "output_type": "stream",
     "text": [
      "Hello Mrs. Smith\n"
     ]
    }
   ],
   "source": [
    "hello(\"Smith\", \"Mrs.\")"
   ]
  },
  {
   "cell_type": "markdown",
   "metadata": {},
   "source": [
    "Аргументы можно передавать, указывая их имена."
   ]
  },
  {
   "cell_type": "code",
   "execution_count": 86,
   "metadata": {},
   "outputs": [
    {
     "name": "stdout",
     "output_type": "stream",
     "text": [
      "Hello Mr. Smith\n"
     ]
    }
   ],
   "source": [
    "hello(\"Smith\", title = \"Mr.\")"
   ]
  },
  {
   "cell_type": "code",
   "execution_count": 87,
   "metadata": {},
   "outputs": [
    {
     "name": "stdout",
     "output_type": "stream",
     "text": [
      "Hello Mr. Smith\n"
     ]
    }
   ],
   "source": [
    "hello(name = \"Smith\", title= \"Mr.\")"
   ]
  },
  {
   "cell_type": "markdown",
   "metadata": {},
   "source": [
    "В этом случае порядок будет неважен."
   ]
  },
  {
   "cell_type": "code",
   "execution_count": 89,
   "metadata": {},
   "outputs": [
    {
     "name": "stdout",
     "output_type": "stream",
     "text": [
      "Hello Mr. Smith\n"
     ]
    }
   ],
   "source": [
    "hello(title= \"Mr.\", name = \"Smith\")"
   ]
  },
  {
   "cell_type": "markdown",
   "metadata": {},
   "source": [
    "Ещё бывают функции, которые принимают неограниченное число аргументов. Например, так ведёт себя функция `print()`."
   ]
  },
  {
   "cell_type": "code",
   "execution_count": 61,
   "metadata": {},
   "outputs": [
    {
     "name": "stdout",
     "output_type": "stream",
     "text": [
      "8 7 5 hello 8\n"
     ]
    }
   ],
   "source": [
    "print(8, 7, 5, 'hello', 8)"
   ]
  },
  {
   "cell_type": "markdown",
   "metadata": {},
   "source": [
    "Как она устроена? Примерно вот так:"
   ]
  },
  {
   "cell_type": "code",
   "execution_count": 75,
   "metadata": {
    "collapsed": true
   },
   "outputs": [],
   "source": [
    "def my_print(*args):\n",
    "    for x in args:\n",
    "        print(x)"
   ]
  },
  {
   "cell_type": "code",
   "execution_count": 78,
   "metadata": {},
   "outputs": [
    {
     "name": "stdout",
     "output_type": "stream",
     "text": [
      "6\n",
      "8\n",
      "9\n",
      "hello\n",
      "88\n",
      "55\n"
     ]
    }
   ],
   "source": [
    "my_print(6, 8, 9, 'hello', 88, 55)"
   ]
  },
  {
   "cell_type": "markdown",
   "metadata": {},
   "source": [
    "Обратите внимание на звёздочку перед `args` в сигнатуре функции. Давайте посмотрим повнимательнее, как работает этот код:"
   ]
  },
  {
   "cell_type": "code",
   "execution_count": 91,
   "metadata": {},
   "outputs": [
    {
     "name": "stdout",
     "output_type": "stream",
     "text": [
      "(1, 2, 3, 'hello')\n"
     ]
    }
   ],
   "source": [
    "def test(*args):\n",
    "    print(args)\n",
    "test(1,2,3, 'hello')"
   ]
  },
  {
   "cell_type": "markdown",
   "metadata": {},
   "source": [
    "Оказывается, что в `args` теперь лежит так называемые *кортеж* (неизменяемый список, его возращает dict.items()), состоящий из элементов, которые мы передали функции. "
   ]
  },
  {
   "cell_type": "code",
   "execution_count": 95,
   "metadata": {},
   "outputs": [
    {
     "name": "stdout",
     "output_type": "stream",
     "text": [
      "(1, 2, 3)\n",
      "(1, 2, 3)\n"
     ]
    }
   ],
   "source": [
    "def test1(*args):\n",
    "    print(args)\n",
    "test1(1, 2, 3)\n",
    "\n",
    "def test2(args):\n",
    "    print(args)\n",
    "test2( (1,2,3) )"
   ]
  },
  {
   "cell_type": "markdown",
   "metadata": {},
   "source": [
    "Можно комбинировать списочные переменные и обычные (при условии, что переменная со звёздочкой только одна и она стоит после обычных переменных):"
   ]
  },
  {
   "cell_type": "code",
   "execution_count": 96,
   "metadata": {
    "collapsed": true
   },
   "outputs": [],
   "source": [
    "def my_print(sep, *args):\n",
    "    for x in args:\n",
    "        print(x, end = sep)\n"
   ]
  },
  {
   "cell_type": "code",
   "execution_count": 102,
   "metadata": {},
   "outputs": [
    {
     "name": "stdout",
     "output_type": "stream",
     "text": [
      "7----8----9----hello----"
     ]
    }
   ],
   "source": [
    "my_print('----', 7, 8, 9, 'hello')"
   ]
  },
  {
   "cell_type": "markdown",
   "metadata": {},
   "source": [
    "Аналогично, можно задавать неопределенное количество переменных со значениями по умолчанию, такие переменные записываются в словарь с одноименным названием:"
   ]
  },
  {
   "cell_type": "code",
   "execution_count": 7,
   "metadata": {
    "collapsed": true
   },
   "outputs": [],
   "source": [
    "def test(**kwargs):\n",
    "    print(kwargs)"
   ]
  },
  {
   "cell_type": "code",
   "execution_count": 8,
   "metadata": {},
   "outputs": [
    {
     "name": "stdout",
     "output_type": "stream",
     "text": [
      "{'a': 1, 'b': 2}\n"
     ]
    }
   ],
   "source": [
    "test(a=1, b=2)"
   ]
  },
  {
   "cell_type": "markdown",
   "metadata": {},
   "source": [
    "___\n",
    "### Информация со звездочкой *"
   ]
  },
  {
   "cell_type": "markdown",
   "metadata": {},
   "source": [
    "### Генераторы"
   ]
  },
  {
   "cell_type": "markdown",
   "metadata": {},
   "source": [
    "Возвращаясь к последовательности Фибоначчи...\n",
    "\n",
    "Вообще в реальной жизни, нам навряд ли нужно какое-то одно конкретное (к примеру 17 число последовательсти), или некоторое количество чисел фибоначчи из случайных мест. Скорее всего нам нужно будет перебирать все элементы последовательности от 1 до k и проделывать с ними какие-то действия. В таком случае мы можем модифицировать нашу функцию так, чтобы она выдавала не одно число, а список из первых k чисел фиббоначи:"
   ]
  },
  {
   "cell_type": "code",
   "execution_count": 95,
   "metadata": {
    "collapsed": true
   },
   "outputs": [],
   "source": [
    "def fibonachi_to_list(k):\n",
    "    a = 1\n",
    "    b = 1\n",
    "    fib = [a, b]\n",
    "    for i in range(2, k):\n",
    "#         print('action')\n",
    "        h = a + b\n",
    "        a = b\n",
    "        b = h\n",
    "        fib.append(h)\n",
    "    return fib"
   ]
  },
  {
   "cell_type": "code",
   "execution_count": 96,
   "metadata": {},
   "outputs": [
    {
     "data": {
      "text/plain": [
       "[1, 1, 2, 3, 5, 8, 13, 21, 34, 55]"
      ]
     },
     "execution_count": 96,
     "metadata": {},
     "output_type": "execute_result"
    }
   ],
   "source": [
    "fibonachi_to_list(10)"
   ]
  },
  {
   "cell_type": "markdown",
   "metadata": {},
   "source": [
    "Однако, опять же, далеко не всегда нам необходимо иметь сразу все числа последовательности. Часто нам нужны эти числа по одному, по очереди. А с ростом k, список будет занимать все больше и больше памяти - соответственно, список в такой ситуации будет не самой эффективной структурой. Вот бы научить фунцию останавливаться после одного шага цикла и запоминать текущее состояние. А при повторном вызове продолжить работу с момента остановки. Тогда мы бы смогли бы смогли вызвать число последовательности фибоначчи, выполнить необходимые действия, вызвать следующее число и т.д.\n",
    "\n",
    "И....О чудо! Мы можем сделать именно так! Для этого нам просто в нашей исходной функции нужно поменять слово return на yield и внести его в цикл..."
   ]
  },
  {
   "cell_type": "code",
   "execution_count": 97,
   "metadata": {
    "collapsed": true
   },
   "outputs": [],
   "source": [
    "def fibonachi(k):\n",
    "    a = 1\n",
    "    b = 1\n",
    "    h = 1\n",
    "    for i in range(k):\n",
    "#         print('action')\n",
    "        if i < 2:\n",
    "            h = 1\n",
    "        else:\n",
    "            h = a + b\n",
    "            a = b\n",
    "            b = h\n",
    "    return h"
   ]
  },
  {
   "cell_type": "code",
   "execution_count": 99,
   "metadata": {
    "collapsed": true
   },
   "outputs": [],
   "source": [
    "def fibonachi_gen(k):\n",
    "    a = 1\n",
    "    b = 1\n",
    "    for i in range(k):\n",
    "#         print('action')\n",
    "        if i < 2:\n",
    "            h = 1\n",
    "        else:\n",
    "            h = a + b\n",
    "            a = b\n",
    "            b = h\n",
    "        yield h"
   ]
  },
  {
   "cell_type": "code",
   "execution_count": 100,
   "metadata": {},
   "outputs": [
    {
     "data": {
      "text/plain": [
       "(55,\n",
       " [1, 1, 2, 3, 5, 8, 13, 21, 34, 55],\n",
       " <generator object fibonachi_gen at 0x0000024542367200>)"
      ]
     },
     "execution_count": 100,
     "metadata": {},
     "output_type": "execute_result"
    }
   ],
   "source": [
    "k = 10\n",
    "fibonachi(k), fibonachi_to_list(k),  fibonachi_gen(k)"
   ]
  },
  {
   "cell_type": "code",
   "execution_count": 101,
   "metadata": {},
   "outputs": [
    {
     "name": "stdout",
     "output_type": "stream",
     "text": [
      "1\n",
      "1\n",
      "2\n",
      "3\n",
      "5\n",
      "8\n",
      "13\n",
      "21\n",
      "34\n",
      "55\n"
     ]
    }
   ],
   "source": [
    "for k in range(1, 10+1):\n",
    "    print(fibonachi(k))"
   ]
  },
  {
   "cell_type": "code",
   "execution_count": 102,
   "metadata": {},
   "outputs": [
    {
     "data": {
      "text/plain": [
       "[1, 1, 2, 3, 5, 8, 13, 21, 34, 55]"
      ]
     },
     "execution_count": 102,
     "metadata": {},
     "output_type": "execute_result"
    }
   ],
   "source": [
    "k = 10\n",
    "fibonachi_to_list(k)"
   ]
  },
  {
   "cell_type": "code",
   "execution_count": 122,
   "metadata": {},
   "outputs": [
    {
     "name": "stdout",
     "output_type": "stream",
     "text": [
      "1\n",
      "1\n",
      "2\n",
      "3\n",
      "5\n",
      "8\n",
      "13\n",
      "21\n",
      "34\n",
      "55\n"
     ]
    }
   ],
   "source": [
    "k = 10\n",
    "gen = fibonachi_gen(k)\n",
    "for num in gen:\n",
    "    print(num)"
   ]
  },
  {
   "cell_type": "markdown",
   "metadata": {},
   "source": [
    "***При этом генератор \"живет\" только один раз. Его нельзя вызвать дважды!***"
   ]
  },
  {
   "cell_type": "code",
   "execution_count": 123,
   "metadata": {},
   "outputs": [],
   "source": [
    "for num in gen:\n",
    "    print(num)"
   ]
  },
  {
   "cell_type": "markdown",
   "metadata": {},
   "source": [
    "Чтобы посмотреть затратность алгоритмов, добавим (раскомметируем) print('action') в цикл в каждую функцию...\n",
    "\n",
    "Полагаю, разница очевидна."
   ]
  },
  {
   "cell_type": "markdown",
   "metadata": {},
   "source": [
    "____\n",
    "## Бонус - скоропись\n",
    "Пишем в одну строку условия, циклы, генераторы, функции, создаем словари и списки."
   ]
  },
  {
   "cell_type": "markdown",
   "metadata": {},
   "source": [
    "### *Условия*"
   ]
  },
  {
   "cell_type": "markdown",
   "metadata": {},
   "source": [
    "Задача. Пользователь вводит число - нам необходимо сохрнить модуль этого числа."
   ]
  },
  {
   "cell_type": "code",
   "execution_count": 117,
   "metadata": {},
   "outputs": [
    {
     "name": "stdout",
     "output_type": "stream",
     "text": [
      "5\n",
      "5\n"
     ]
    }
   ],
   "source": [
    "num = int(input())\n",
    "num = num if num > 0 else -num\n",
    "print(num)"
   ]
  },
  {
   "cell_type": "markdown",
   "metadata": {},
   "source": [
    "### *Списки*"
   ]
  },
  {
   "cell_type": "markdown",
   "metadata": {},
   "source": [
    "Например, задача: создать список квадратов чисел от 0 до 10. <br>\n",
    "**Стандартное решение:**"
   ]
  },
  {
   "cell_type": "code",
   "execution_count": 105,
   "metadata": {},
   "outputs": [
    {
     "data": {
      "text/plain": [
       "[0, 1, 4, 9, 16, 25, 36, 49, 64, 81, 100]"
      ]
     },
     "execution_count": 105,
     "metadata": {},
     "output_type": "execute_result"
    }
   ],
   "source": [
    "l = []\n",
    "for i in range(11):\n",
    "    l.append(i**2)\n",
    "l"
   ]
  },
  {
   "cell_type": "markdown",
   "metadata": {},
   "source": [
    "**Решение в одну строчку:**<br>\n",
    "В принципе, все тоже самое: квадратные скобки, for..."
   ]
  },
  {
   "cell_type": "code",
   "execution_count": null,
   "metadata": {
    "collapsed": true
   },
   "outputs": [],
   "source": [
    "l = [i**2 for i in range(11)]"
   ]
  },
  {
   "cell_type": "markdown",
   "metadata": {},
   "source": [
    "### *Словари*"
   ]
  },
  {
   "cell_type": "markdown",
   "metadata": {},
   "source": [
    "Попробуем аналогичное: создадим словарь, где ключи - числа от 0 до 10, значения - их квадраты. <br>\n",
    "**Стандартное решение:**"
   ]
  },
  {
   "cell_type": "code",
   "execution_count": 108,
   "metadata": {},
   "outputs": [
    {
     "data": {
      "text/plain": [
       "{0: 0, 1: 1, 2: 4, 3: 9, 4: 16, 5: 25, 6: 36, 7: 49, 8: 64, 9: 81, 10: 100}"
      ]
     },
     "execution_count": 108,
     "metadata": {},
     "output_type": "execute_result"
    }
   ],
   "source": [
    "d = {}\n",
    "for i in range(11):\n",
    "    d[i] = i**2\n",
    "d"
   ]
  },
  {
   "cell_type": "markdown",
   "metadata": {},
   "source": [
    "**В одну строчку**"
   ]
  },
  {
   "cell_type": "code",
   "execution_count": 109,
   "metadata": {},
   "outputs": [
    {
     "data": {
      "text/plain": [
       "{0: 0, 1: 1, 2: 4, 3: 9, 4: 16, 5: 25, 6: 36, 7: 49, 8: 64, 9: 81, 10: 100}"
      ]
     },
     "execution_count": 109,
     "metadata": {},
     "output_type": "execute_result"
    }
   ],
   "source": [
    "d = {i:i**2 for i in range(11)}\n",
    "d"
   ]
  },
  {
   "cell_type": "markdown",
   "metadata": {},
   "source": [
    "В однострочные циклы также можно добавить и условия!\n",
    "Например, у нас есть список слов. Создадим из слов длины > 3 словарь, где ключи - сами слова, значения - их длины."
   ]
  },
  {
   "cell_type": "code",
   "execution_count": 110,
   "metadata": {},
   "outputs": [
    {
     "data": {
      "text/plain": [
       "{'быть': 4}"
      ]
     },
     "execution_count": 110,
     "metadata": {},
     "output_type": "execute_result"
    }
   ],
   "source": [
    "words = [\"быть\", 'или', 'не', 'быть']\n",
    "d = {word:len(word) for word in words if len(word) > 3}\n",
    "d"
   ]
  },
  {
   "cell_type": "markdown",
   "metadata": {},
   "source": [
    "**Но!**<br>\n",
    "Если мы захотим включать слова длиной <=3, но присваивать им значения None, мы должны будем перенести if перед циклом: "
   ]
  },
  {
   "cell_type": "code",
   "execution_count": 114,
   "metadata": {},
   "outputs": [
    {
     "data": {
      "text/plain": [
       "{'быть': 4, 'или': None, 'не': None}"
      ]
     },
     "execution_count": 114,
     "metadata": {},
     "output_type": "execute_result"
    }
   ],
   "source": [
    "words = [\"быть\", 'или', 'не', 'быть']\n",
    "d = {word:(len(word) if len(word) > 3 else None) for word in words }  # Для наглядности происходящего поставлены скобочки\n",
    "d"
   ]
  },
  {
   "cell_type": "markdown",
   "metadata": {},
   "source": [
    "### *Генераторы*"
   ]
  },
  {
   "cell_type": "markdown",
   "metadata": {},
   "source": [
    "Недавно мы говорили о том, что генераторы позволяют нам выдавать элементы списка поочередно и таким образом, экономить память. Но списки мы только что научились писать в одну строчку...а генераторы?\n",
    "\n",
    "А генераторы пишутся точно также как и списки, и словари, только в круглых скобочках:"
   ]
  },
  {
   "cell_type": "code",
   "execution_count": 118,
   "metadata": {},
   "outputs": [
    {
     "data": {
      "text/plain": [
       "<generator object <genexpr> at 0x00000245423952B0>"
      ]
     },
     "execution_count": 118,
     "metadata": {},
     "output_type": "execute_result"
    }
   ],
   "source": [
    "# Создадим генератор, возвращающий квадраты чисел от 0 до 10\n",
    "g = (i**2 for i in range(11))\n",
    "g"
   ]
  },
  {
   "cell_type": "code",
   "execution_count": 119,
   "metadata": {},
   "outputs": [
    {
     "data": {
      "text/plain": [
       "[0, 1, 4, 9, 16, 25, 36, 49, 64, 81, 100]"
      ]
     },
     "execution_count": 119,
     "metadata": {},
     "output_type": "execute_result"
    }
   ],
   "source": [
    "list(g)"
   ]
  },
  {
   "cell_type": "markdown",
   "metadata": {},
   "source": [
    "#### Еще один пример использования однострочных записей <br>\n",
    "Необязательно что-то создавать... Можно использовать однострочные записи для выполнения действий, чтобы не расписывать цикл в несколько строк, например."
   ]
  },
  {
   "cell_type": "code",
   "execution_count": 124,
   "metadata": {},
   "outputs": [
    {
     "name": "stdout",
     "output_type": "stream",
     "text": [
      "0\n",
      "1\n",
      "2\n",
      "3\n",
      "4\n"
     ]
    },
    {
     "data": {
      "text/plain": [
       "[None, None, None, None, None]"
      ]
     },
     "execution_count": 124,
     "metadata": {},
     "output_type": "execute_result"
    }
   ],
   "source": [
    "[print(i) for i in range(5)]"
   ]
  },
  {
   "cell_type": "markdown",
   "metadata": {},
   "source": [
    "**Что здесь происходит? **<br>\n",
    "Мы в цикле выполняем функцию print(), которая печатает на экран цифры от 0 до 5.\n",
    "Как мы знаем, эта функция только печатает на экран, но ничего не возвращает. Ничего на языке питона - это None.\n",
    "И вот этими пустотами (None) мы заполняем список.\n",
    "Поскольку мы не присваиваем этот список никакой переменной, то ячейка просто возвращает нам его.\n",
    "Чтобы ячейка ничего не возвращала, поставьте в конце последней строки ;\n",
    "\n",
    "Однако, у однострочных выражений существует альтернатива - map() + lambda-функции."
   ]
  },
  {
   "cell_type": "markdown",
   "metadata": {},
   "source": [
    "### ***lambda, map(), filter()***"
   ]
  },
  {
   "cell_type": "markdown",
   "metadata": {
    "collapsed": true
   },
   "source": [
    "lambda-функции - существуют и в других языках программирования. По сути, это такие выражения, которые позволяют записывать небольшие функции в одну строчку. <br>\n",
    "lambda-функции могут выполнять всего лишь одно действие, но на вход можно подавать сколько угодно переменных.\n",
    "Посмотрим как они записываются..."
   ]
  },
  {
   "cell_type": "code",
   "execution_count": 3,
   "metadata": {},
   "outputs": [
    {
     "data": {
      "text/plain": [
       "<function __main__.<lambda>>"
      ]
     },
     "execution_count": 3,
     "metadata": {},
     "output_type": "execute_result"
    }
   ],
   "source": [
    "g = lambda x: x**2\n",
    "g"
   ]
  },
  {
   "cell_type": "code",
   "execution_count": 4,
   "metadata": {},
   "outputs": [
    {
     "data": {
      "text/plain": [
       "16"
      ]
     },
     "execution_count": 4,
     "metadata": {},
     "output_type": "execute_result"
    }
   ],
   "source": [
    "g(4)"
   ]
  },
  {
   "cell_type": "markdown",
   "metadata": {},
   "source": [
    "Эта запись аналогична:"
   ]
  },
  {
   "cell_type": "code",
   "execution_count": 5,
   "metadata": {
    "collapsed": true
   },
   "outputs": [],
   "source": [
    "def g(x):\n",
    "    return x**2"
   ]
  },
  {
   "cell_type": "markdown",
   "metadata": {},
   "source": [
    "Как мы видим, с использованием lambda-функции, код сократился, хотя, как вы можете справедливо заметить некритично.\n",
    "И в действительность отдельно сами по себе lambda-функции используются редко! Однако, они становятся мощным инструментов в совокпуности с такими функциями как map(), filter(), reduce(). <br>\n",
    "Разберем каждую из этих фунцкий подробнее.\n",
    "\n",
    "*** map(func, list)*** - на вход подается функция (обычно как раз в виде lambda-выражения) и список. Функция map применяет заданную фунцкию последовательно ко всем элементом списка и возвращет значения функции в список. Например,"
   ]
  },
  {
   "cell_type": "code",
   "execution_count": 7,
   "metadata": {},
   "outputs": [
    {
     "data": {
      "text/plain": [
       "[0, 1, 4, 9, 16]"
      ]
     },
     "execution_count": 7,
     "metadata": {},
     "output_type": "execute_result"
    }
   ],
   "source": [
    "list(map(lambda x:x**2, range(5)))"
   ]
  },
  {
   "cell_type": "code",
   "execution_count": 11,
   "metadata": {},
   "outputs": [
    {
     "data": {
      "text/plain": [
       "<map at 0x2a7d3e3c7b8>"
      ]
     },
     "execution_count": 11,
     "metadata": {},
     "output_type": "execute_result"
    }
   ],
   "source": [
    "map(lambda x:print(x), range(5))"
   ]
  },
  {
   "cell_type": "markdown",
   "metadata": {},
   "source": [
    "Это эквивалентно:"
   ]
  },
  {
   "cell_type": "code",
   "execution_count": 9,
   "metadata": {},
   "outputs": [
    {
     "data": {
      "text/plain": [
       "[0, 1, 4, 9, 16]"
      ]
     },
     "execution_count": 9,
     "metadata": {},
     "output_type": "execute_result"
    }
   ],
   "source": [
    "def g(x):\n",
    "    return x**2\n",
    "l = []\n",
    "for i in range(5):\n",
    "    l.append(g(i))\n",
    "l"
   ]
  },
  {
   "cell_type": "markdown",
   "metadata": {},
   "source": [
    "Как видите теперь однострочные выражения сильно упрощают нам жизнь!"
   ]
  },
  {
   "cell_type": "markdown",
   "metadata": {},
   "source": [
    "*** filter(func, list)*** - на вход также подается функция (обычно как раз в виде lambda-выражения) и список. Функция filter делает то же самое, что и map, за одним исключением: в список попадают только  те элементы, для которых значение функции ==  True (или не равно 0, None).  Например,"
   ]
  },
  {
   "cell_type": "code",
   "execution_count": 15,
   "metadata": {},
   "outputs": [
    {
     "data": {
      "text/plain": [
       "[0, 2, 4]"
      ]
     },
     "execution_count": 15,
     "metadata": {},
     "output_type": "execute_result"
    }
   ],
   "source": [
    "list(filter(lambda x:x%2 == 0, range(5)))"
   ]
  },
  {
   "cell_type": "code",
   "execution_count": 14,
   "metadata": {},
   "outputs": [
    {
     "data": {
      "text/plain": [
       "[1, 2, 3, 4]"
      ]
     },
     "execution_count": 14,
     "metadata": {},
     "output_type": "execute_result"
    }
   ],
   "source": [
    "list(filter(lambda x:x**2, range(5)))"
   ]
  }
 ],
 "metadata": {
  "anaconda-cloud": {},
  "kernelspec": {
   "display_name": "Python 3",
   "language": "python",
   "name": "python3"
  },
  "language_info": {
   "codemirror_mode": {
    "name": "ipython",
    "version": 3
   },
   "file_extension": ".py",
   "mimetype": "text/x-python",
   "name": "python",
   "nbconvert_exporter": "python",
   "pygments_lexer": "ipython3",
   "version": "3.7.0"
  }
 },
 "nbformat": 4,
 "nbformat_minor": 1
}
