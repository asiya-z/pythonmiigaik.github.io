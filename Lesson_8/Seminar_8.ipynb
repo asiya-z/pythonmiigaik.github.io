{
 "cells": [
  {
   "cell_type": "markdown",
   "metadata": {},
   "source": [
    "## Семинар 8"
   ]
  },
  {
   "cell_type": "markdown",
   "metadata": {},
   "source": [
    "Вам предстоит работать с двумя датасетами: [airports](https://raw.githubusercontent.com/jpatokal/openflights/master/data/airports.dat) и [routes](https://raw.githubusercontent.com/jpatokal/openflights/master/data/routes.dat). <br>\n",
    "В датасете airports хранятся данные обо всех аэропортах мира по состоянию на январь 2017. Значения столбцов: <br>\n",
    "**Airport ID**\tЧисловой индентификатор аэропорта.<br>\n",
    "**Name**\t    Название аэропорта.<br>\n",
    "**City**\t    Город.<br>\n",
    "**Country**\t    Страна.<br>\n",
    "**IATA**\t    Код IATA. Null, если отсутствует/неизвестен.<br>\n",
    "**ICAO**\t    Код ICAO. Null, если отсутствует/неизвестен.<br>\n",
    "**Latitude**\tШирота.<br>\n",
    "**Longitude**\tДолгота. <br>\n",
    "**Altitude**\tВысота над уровнем моря. <br>\n",
    "**Timezone**\tЧасовой пояс от UTC. <br>\n",
    "**DST**       \tЛетнее время. E (Europe), A (US/Canada), S (South America), O (Australia), Z (New Zealand), N (None) или U (Unknown).<br>\n",
    "**Tz**          Часовой пояс. Формат Olson.<br>\n",
    "**Type**\t    Тип терминала (в данном случае везде аэропорт).<br>\n",
    "**Source**\t    Источние данных. <br>\n",
    "\n",
    "В датасете routes хранятся данные обо всех маршрутах 548 аэрокомпаний между аэропортами по состоянию на июнь 2014. Значения столбцов: <br>\n",
    "**Airline**\tКод авиакомпании.<br>\n",
    "**Airline ID**\tЧисловой индентификатор авиакомпании.<br>\n",
    "**Source airport**\tАэропорт вылета.<br>\n",
    "**Source airport ID**\tID аэропорта вылета.<br>\n",
    "**Destination airport**\tАэропорт прилета.<br>\n",
    "**Destination airport ID**\tID аэропорта прилета.<br>\n",
    "**Codeshare**\t\"Y\", если полет обслуживается другой авиакомпанией, иначе пусто.<br>\n",
    "**Stops**\tКоличество остановок в полете.<br>\n",
    "**Equipment**\tТип самолета.<br>\n",
    "\n",
    "***Внимание!*** В этих датасетах пропущенные значения иногда могут быть обозначены как '\\N'."
   ]
  },
  {
   "cell_type": "code",
   "execution_count": null,
   "metadata": {
    "collapsed": true
   },
   "outputs": [],
   "source": [
    "airports_columns = [\"id\", \"name\", \"city\", \"country\", \"code\", \"icao\", \"latitude\", \"longitude\", \"altitude\", \n",
     \"timezone\", \"dst\", \"tz\", \"type\", \"source\"]\n",
    "routes_columns = [\"airline\", \"airline_id\", \"source\", \"source_id\", \"dest\", \"dest_id\", \"codeshare\", \"stops\", \"equipment\"]"
   ]
  },
  {
   "cell_type": "markdown",
   "metadata": {},
   "source": [
    "### Задание"
   ]
  },
  {
   "cell_type": "markdown",
   "metadata": {},
   "source": [
    "1. Загрузите таблицы с помощью pandas. Проверьте, что они правильно загрузились. Восстановите названия столбцов. Замените '\\N' на None.\n",
    "2. Оцените количество пропущенных значений.\n",
    "3. Удалите столбцы или строки (в зависимости от ситуации). Оставьте только колонку city - она нам еще может пригодиться.\n",
    "4. В таблицу с маршутами добавьте соответствующие значения долготы, широты, высоты над уровнем моря.\n",
    "6. Приведите долготу и широту к числовому типу.\n",
    "7. Напишите функцию, вычисляющую расстояние между двумя точками маршрута в киломатрах. При этом у вас уже есть функция, вычисляющая расстояние в радианах. Ваша задача:<br>\n",
    "    a. Перевести заданные широту и долготу в радианы с помощью функции radians из библиотеки math или домножением на $\\pi/180$.<br>\n",
    "    b. Вычислить расстояние с помощью функции dist_long_lat(dlong, dlat, latitude1, latitude2), где $$dlong = longitude_1 - longitude_2$$, $$dlat = latitude_1 - latitude_2$$ ($longitude_1$, $longitude_2$, $latitude_1$, $latitude_2$ выражены в радианах).<br>\n",
    "    с. Перевести вычисленное расстояние в километры, посредством домножения на радиус Земли (R = 6367 km).<br>\n",
    "8. Вычислите расстояния маршрутов и добавьте их в таблицу.<br>\n",
    "9. Нарисуйте гистограмму распределения длин маршрутов.<br>\n",
    "10. Вычислите медиану длин маршрутов и добавьте ее к гистограмме в виде вертикальной линии.<br>\n",
    "(Чтобы найти медиану, нужно отсортировать все имеющиеся значения и найти то, которое находится в центре списка.)<br>\n",
    "11. Нарисуйте все аэропорта на графике (по оси x - longitude, по оси y - latitude).<br>\n",
    "12. Цветом покажите высоту над уровнем моря для каждого аэропорта. (Если не отображается стобик соответствия цвета и высоты - используйте функцию plt.colorbar())<br>\n",
    "13. Добавьте на эту карту 1000 (или любое другое количество) случайно выбранных маршрутов.<br>\n",
    "(Чтобы выбрать случайным образом k элементов из списка elements_list возпользуйтесь фунцией sample(elements_list, k) из библиотеки random)\n",
    "14. Оставьте только трансатлантические перелеты.<br>\n",
    "15. Найдите все варианты маршрутов из DUS (Duesseldorf, Germany) в LAX (Los Angeles, United States) с 0 или 1 пересадкой, выпишите маршруты в виде:<br>\n",
    "%airline-DUS (Duesseldorf, Germany) - %airline-LAX (Los Angeles, United States) <br>\n",
    "%airline-DUS (Duesseldorf, Germany) - %airline-%airport (%city, %country) - %airline-LAX (Los Angeles, United States)\n",
    "16. Нарисуйте эти маршруты на карте.\n",
    "16. Найдите самый короткий маршрут с одной пересадкой."
   ]
  },
  {
   "cell_type": "code",
   "execution_count": null,
   "metadata": {
    "collapsed": true
   },
   "outputs": [],
   "source": [
    "import math\n",
    "def dist_long_lat(dlong, dlat, lat1, lat2):\n",
    "    a = math.sin(dlat/2)**2 + math.cos(lat1) * math.cos(lat2) * math.sin(dlong/2)**2\n",
    "    return 2 * math.asin(math.sqrt(a))"
   ]
  }
 ],
 "metadata": {
  "anaconda-cloud": {},
  "kernelspec": {
   "display_name": "Python 3",
   "language": "python",
   "name": "root"
  },
  "language_info": {
   "codemirror_mode": {
    "name": "ipython",
    "version": 3
   },
   "file_extension": ".py",
   "mimetype": "text/x-python",
   "name": "python",
   "nbconvert_exporter": "python",
   "pygments_lexer": "ipython3",
   "version": "3.5.2"
  }
 },
 "nbformat": 4,
 "nbformat_minor": 2
}
